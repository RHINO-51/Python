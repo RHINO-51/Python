{
 "cells": [
  {
   "cell_type": "markdown",
   "metadata": {},
   "source": [
    "### 7장 텍스트 데이터 다루기"
   ]
  },
  {
   "cell_type": "code",
   "execution_count": 14,
   "metadata": {},
   "outputs": [],
   "source": [
    "sentences = ['가장 자연스럽고 좋은 ~좋은 영화 였다', '최고의 영화 4편이 기대됨']"
   ]
  },
  {
   "cell_type": "code",
   "execution_count": 15,
   "metadata": {},
   "outputs": [
    {
     "data": {
      "text/plain": [
       "(list, 2)"
      ]
     },
     "execution_count": 15,
     "metadata": {},
     "output_type": "execute_result"
    }
   ],
   "source": [
    "type(sentences), len(sentences)"
   ]
  },
  {
   "cell_type": "markdown",
   "metadata": {},
   "source": [
    "### BOW(Bag of words) 단어 가방으로 전처리"
   ]
  },
  {
   "cell_type": "code",
   "execution_count": 16,
   "metadata": {},
   "outputs": [],
   "source": [
    "#420 \n",
    "from sklearn.feature_extraction.text import CountVectorizer # 갯수를 세어서 배열로 만든다."
   ]
  },
  {
   "cell_type": "code",
   "execution_count": 17,
   "metadata": {},
   "outputs": [],
   "source": [
    "vect = CountVectorizer()"
   ]
  },
  {
   "cell_type": "code",
   "execution_count": 18,
   "metadata": {},
   "outputs": [
    {
     "data": {
      "text/plain": [
       "CountVectorizer(analyzer='word', binary=False, decode_error='strict',\n",
       "        dtype=<class 'numpy.int64'>, encoding='utf-8', input='content',\n",
       "        lowercase=True, max_df=1.0, max_features=None, min_df=1,\n",
       "        ngram_range=(1, 1), preprocessor=None, stop_words=None,\n",
       "        strip_accents=None, token_pattern='(?u)\\\\b\\\\w\\\\w+\\\\b',\n",
       "        tokenizer=None, vocabulary=None)"
      ]
     },
     "execution_count": 18,
     "metadata": {},
     "output_type": "execute_result"
    }
   ],
   "source": [
    "vect.fit(sentences)"
   ]
  },
  {
   "cell_type": "code",
   "execution_count": 19,
   "metadata": {},
   "outputs": [
    {
     "data": {
      "text/plain": [
       "(8,\n",
       " {'가장': 1,\n",
       "  '자연스럽고': 5,\n",
       "  '좋은': 6,\n",
       "  '영화': 4,\n",
       "  '였다': 3,\n",
       "  '최고의': 7,\n",
       "  '4편이': 0,\n",
       "  '기대됨': 2})"
      ]
     },
     "execution_count": 19,
     "metadata": {},
     "output_type": "execute_result"
    }
   ],
   "source": [
    "len(vect.vocabulary_), vect.vocabulary_ # 등장하는 어휘들"
   ]
  },
  {
   "cell_type": "code",
   "execution_count": 20,
   "metadata": {},
   "outputs": [
    {
     "data": {
      "text/plain": [
       "<2x8 sparse matrix of type '<class 'numpy.int64'>'\n",
       "\twith 9 stored elements in Compressed Sparse Row format>"
      ]
     },
     "execution_count": 20,
     "metadata": {},
     "output_type": "execute_result"
    }
   ],
   "source": [
    "#dense_matrix <-> sparse_matrix(자연어) : 메모리 절약하기 위해서 사용\n",
    "sparse_matrix = vect.transform(sentences) # 자연어를 BOW로 변환\n",
    "sparse_matrix"
   ]
  },
  {
   "cell_type": "code",
   "execution_count": 21,
   "metadata": {},
   "outputs": [
    {
     "data": {
      "text/plain": [
       "array([[0, 1, 0, 1, 1, 1, 2, 0],\n",
       "       [1, 0, 1, 0, 1, 0, 0, 1]], dtype=int64)"
      ]
     },
     "execution_count": 21,
     "metadata": {},
     "output_type": "execute_result"
    }
   ],
   "source": [
    "sparse_matrix.toarray() # sparce 를 dense로 변환"
   ]
  },
  {
   "cell_type": "code",
   "execution_count": 22,
   "metadata": {},
   "outputs": [
    {
     "data": {
      "text/plain": [
       "['가장 자연스럽고 좋은 ~좋은 영화 였다', '최고의 영화 4편이 기대됨']"
      ]
     },
     "execution_count": 22,
     "metadata": {},
     "output_type": "execute_result"
    }
   ],
   "source": [
    "sentences"
   ]
  },
  {
   "cell_type": "code",
   "execution_count": 23,
   "metadata": {},
   "outputs": [],
   "source": [
    "from sklearn.datasets import fetch_20newsgroups #Download 진행됩니다. "
   ]
  },
  {
   "cell_type": "code",
   "execution_count": 24,
   "metadata": {},
   "outputs": [
    {
     "name": "stderr",
     "output_type": "stream",
     "text": [
      "Downloading 20news dataset. This may take a few minutes.\n",
      "Downloading dataset from https://ndownloader.figshare.com/files/5975967 (14 MB)\n"
     ]
    }
   ],
   "source": [
    "news =fetch_20newsgroups()"
   ]
  },
  {
   "cell_type": "code",
   "execution_count": 25,
   "metadata": {},
   "outputs": [
    {
     "data": {
      "text/plain": [
       "(11314, 20)"
      ]
     },
     "execution_count": 25,
     "metadata": {},
     "output_type": "execute_result"
    }
   ],
   "source": [
    "len(news.data), len(news.target_names)"
   ]
  },
  {
   "cell_type": "code",
   "execution_count": 30,
   "metadata": {},
   "outputs": [
    {
     "data": {
      "text/plain": [
       "(4, 'comp.os.ms-windows.misc')"
      ]
     },
     "execution_count": 30,
     "metadata": {},
     "output_type": "execute_result"
    }
   ],
   "source": [
    "news.target[2], news.target_names[2]"
   ]
  },
  {
   "cell_type": "code",
   "execution_count": 31,
   "metadata": {},
   "outputs": [
    {
     "name": "stdout",
     "output_type": "stream",
     "text": [
      "From: twillis@ec.ecn.purdue.edu (Thomas E Willis)\n",
      "Subject: PB questions...\n",
      "Organization: Purdue University Engineering Computer Network\n",
      "Distribution: usa\n",
      "Lines: 36\n",
      "\n",
      "well folks, my mac plus finally gave up the ghost this weekend after\n",
      "starting life as a 512k way back in 1985.  sooo, i'm in the market for a\n",
      "new machine a bit sooner than i intended to be...\n",
      "\n",
      "i'm looking into picking up a powerbook 160 or maybe 180 and have a bunch\n",
      "of questions that (hopefully) somebody can answer:\n",
      "\n",
      "* does anybody know any dirt on when the next round of powerbook\n",
      "introductions are expected?  i'd heard the 185c was supposed to make an\n",
      "appearence \"this summer\" but haven't heard anymore on it - and since i\n",
      "don't have access to macleak, i was wondering if anybody out there had\n",
      "more info...\n",
      "\n",
      "* has anybody heard rumors about price drops to the powerbook line like the\n",
      "ones the duo's just went through recently?\n",
      "\n",
      "* what's the impression of the display on the 180?  i could probably swing\n",
      "a 180 if i got the 80Mb disk rather than the 120, but i don't really have\n",
      "a feel for how much \"better\" the display is (yea, it looks great in the\n",
      "store, but is that all \"wow\" or is it really that good?).  could i solicit\n",
      "some opinions of people who use the 160 and 180 day-to-day on if its worth\n",
      "taking the disk size and money hit to get the active display?  (i realize\n",
      "this is a real subjective question, but i've only played around with the\n",
      "machines in a computer store breifly and figured the opinions of somebody\n",
      "who actually uses the machine daily might prove helpful).\n",
      "\n",
      "* how well does hellcats perform?  ;)\n",
      "\n",
      "thanks a bunch in advance for any info - if you could email, i'll post a\n",
      "summary (news reading time is at a premium with finals just around the\n",
      "corner... :( )\n",
      "--\n",
      "Tom Willis  \\  twillis@ecn.purdue.edu    \\    Purdue Electrical Engineering\n",
      "---------------------------------------------------------------------------\n",
      "\"Convictions are more dangerous enemies of truth than lies.\"  - F. W.\n",
      "Nietzsche\n",
      "\n"
     ]
    }
   ],
   "source": [
    "print(news.data[2])"
   ]
  },
  {
   "cell_type": "markdown",
   "metadata": {},
   "source": [
    "자연어 뉴스를 배열(vector)로 변환/BOW"
   ]
  },
  {
   "cell_type": "code",
   "execution_count": 32,
   "metadata": {},
   "outputs": [],
   "source": [
    "vect = CountVectorizer().fit(news.data)"
   ]
  },
  {
   "cell_type": "code",
   "execution_count": 34,
   "metadata": {},
   "outputs": [
    {
     "data": {
      "text/plain": [
       "{'from': 56979,\n",
       " 'lerxst': 75358,\n",
       " 'wam': 123162,\n",
       " 'umd': 118280,\n",
       " 'edu': 50527,\n",
       " 'where': 124031,\n",
       " 'my': 85354,\n",
       " 'thing': 114688,\n",
       " 'subject': 111322,\n",
       " 'what': 123984,\n",
       " 'car': 37780,\n",
       " 'is': 68532,\n",
       " 'this': 114731,\n",
       " 'nntp': 87620,\n",
       " 'posting': 95162,\n",
       " 'host': 64095,\n",
       " 'rac3': 98949,\n",
       " 'organization': 90379,\n",
       " 'university': 118983,\n",
       " 'of': 89362,\n",
       " 'maryland': 79666,\n",
       " 'college': 40998,\n",
       " 'park': 92081,\n",
       " 'lines': 76032,\n",
       " '15': 4605,\n",
       " 'was': 123292,\n",
       " 'wondering': 124931,\n",
       " 'if': 65798,\n",
       " 'anyone': 28615,\n",
       " 'out': 90774,\n",
       " 'there': 114579,\n",
       " 'could': 42876,\n",
       " 'enlighten': 51793,\n",
       " 'me': 80638,\n",
       " 'on': 89860,\n",
       " 'saw': 104813,\n",
       " 'the': 114455,\n",
       " 'other': 90686,\n",
       " 'day': 45295,\n",
       " 'it': 68766,\n",
       " 'door': 48618,\n",
       " 'sports': 109581,\n",
       " 'looked': 76718,\n",
       " 'to': 115475,\n",
       " 'be': 32311,\n",
       " 'late': 74693,\n",
       " '60s': 16574,\n",
       " 'early': 50111,\n",
       " '70s': 18299,\n",
       " 'called': 37433,\n",
       " 'bricklin': 34995,\n",
       " 'doors': 48620,\n",
       " 'were': 123796,\n",
       " 'really': 99822,\n",
       " 'small': 108252,\n",
       " 'in': 66608,\n",
       " 'addition': 26073,\n",
       " 'front': 56989,\n",
       " 'bumper': 35612,\n",
       " 'separate': 106116,\n",
       " 'rest': 101378,\n",
       " 'body': 34181,\n",
       " 'all': 27436,\n",
       " 'know': 73201,\n",
       " 'can': 37565,\n",
       " 'tellme': 113986,\n",
       " 'model': 83256,\n",
       " 'name': 86001,\n",
       " 'engine': 51730,\n",
       " 'specs': 109271,\n",
       " 'years': 128026,\n",
       " 'production': 96144,\n",
       " 'made': 78784,\n",
       " 'history': 63363,\n",
       " 'or': 90252,\n",
       " 'whatever': 123989,\n",
       " 'info': 67156,\n",
       " 'you': 128402,\n",
       " 'have': 62221,\n",
       " 'funky': 57308,\n",
       " 'looking': 76722,\n",
       " 'please': 94362,\n",
       " 'mail': 78955,\n",
       " 'thanks': 114428,\n",
       " 'il': 66098,\n",
       " 'brought': 35187,\n",
       " 'by': 35983,\n",
       " 'your': 128420,\n",
       " 'neighborhood': 86580,\n",
       " 'guykuo': 60993,\n",
       " 'carson': 37960,\n",
       " 'washington': 123305,\n",
       " 'guy': 60990,\n",
       " 'kuo': 73823,\n",
       " 'si': 107206,\n",
       " 'clock': 40477,\n",
       " 'poll': 94825,\n",
       " 'final': 55386,\n",
       " 'call': 37423,\n",
       " 'summary': 111695,\n",
       " 'for': 56283,\n",
       " 'reports': 101054,\n",
       " 'keywords': 72384,\n",
       " 'acceleration': 25579,\n",
       " 'upgrade': 119484,\n",
       " 'article': 29573,\n",
       " 'shelley': 106745,\n",
       " '1qvfo9innc3s': 7797,\n",
       " '11': 2927,\n",
       " 'fair': 54214,\n",
       " 'number': 88363,\n",
       " 'brave': 34839,\n",
       " 'souls': 108955,\n",
       " 'who': 124147,\n",
       " 'upgraded': 119487,\n",
       " 'their': 114494,\n",
       " 'oscillator': 90586,\n",
       " 'shared': 106612,\n",
       " 'experiences': 53419,\n",
       " 'send': 106030,\n",
       " 'brief': 35013,\n",
       " 'message': 81263,\n",
       " 'detailing': 46702,\n",
       " 'with': 124616,\n",
       " 'procedure': 96085,\n",
       " 'top': 115701,\n",
       " 'speed': 109311,\n",
       " 'attained': 30214,\n",
       " 'cpu': 43146,\n",
       " 'rated': 99364,\n",
       " 'add': 26056,\n",
       " 'cards': 37840,\n",
       " 'and': 28146,\n",
       " 'adapters': 26035,\n",
       " 'heat': 62501,\n",
       " 'sinks': 107590,\n",
       " 'hour': 64153,\n",
       " 'usage': 119719,\n",
       " 'per': 92942,\n",
       " 'floppy': 55923,\n",
       " 'disk': 47721,\n",
       " 'functionality': 57269,\n",
       " '800': 20003,\n",
       " 'floppies': 55921,\n",
       " 'are': 29241,\n",
       " 'especially': 52522,\n",
       " 'requested': 101143,\n",
       " 'will': 124332,\n",
       " 'summarizing': 111694,\n",
       " 'next': 86977,\n",
       " 'two': 117211,\n",
       " 'days': 45311,\n",
       " 'so': 108558,\n",
       " 'network': 86752,\n",
       " 'knowledge': 73213,\n",
       " 'base': 31951,\n",
       " 'done': 48568,\n",
       " 'haven': 62224,\n",
       " 'answered': 28447,\n",
       " 'twillis': 117177,\n",
       " 'ec': 50247,\n",
       " 'ecn': 50337,\n",
       " 'purdue': 97049,\n",
       " 'thomas': 114755,\n",
       " 'willis': 124363,\n",
       " 'pb': 92486,\n",
       " 'questions': 98369,\n",
       " 'engineering': 51734,\n",
       " 'computer': 41614,\n",
       " 'distribution': 47982,\n",
       " 'usa': 119714,\n",
       " '36': 12197,\n",
       " 'well': 123759,\n",
       " 'folks': 56191,\n",
       " 'mac': 78586,\n",
       " 'plus': 94508,\n",
       " 'finally': 55392,\n",
       " 'gave': 58293,\n",
       " 'up': 119451,\n",
       " 'ghost': 58997,\n",
       " 'weekend': 123666,\n",
       " 'after': 26605,\n",
       " 'starting': 110333,\n",
       " 'life': 75828,\n",
       " 'as': 29620,\n",
       " '512k': 15032,\n",
       " 'way': 123422,\n",
       " 'back': 31414,\n",
       " '1985': 6449,\n",
       " 'sooo': 108874,\n",
       " 'market': 79520,\n",
       " 'new': 86864,\n",
       " 'machine': 78644,\n",
       " 'bit': 33527,\n",
       " 'sooner': 108872,\n",
       " 'than': 114418,\n",
       " 'intended': 67720,\n",
       " 'into': 68003,\n",
       " 'picking': 93765,\n",
       " 'powerbook': 95264,\n",
       " '160': 5023,\n",
       " 'maybe': 80010,\n",
       " '180': 5811,\n",
       " 'bunch': 35620,\n",
       " 'that': 114440,\n",
       " 'hopefully': 63965,\n",
       " 'somebody': 108801,\n",
       " 'answer': 28445,\n",
       " 'does': 48448,\n",
       " 'anybody': 28604,\n",
       " 'any': 28601,\n",
       " 'dirt': 47453,\n",
       " 'when': 124026,\n",
       " 'round': 103060,\n",
       " 'introductions': 68056,\n",
       " 'expected': 53383,\n",
       " 'heard': 62478,\n",
       " '185c': 6028,\n",
       " 'supposed': 111985,\n",
       " 'make': 79055,\n",
       " 'an': 28012,\n",
       " 'appearence': 28831,\n",
       " 'summer': 111697,\n",
       " 'but': 35805,\n",
       " 'anymore': 28613,\n",
       " 'since': 107539,\n",
       " 'don': 48546,\n",
       " 'access': 25605,\n",
       " 'macleak': 78702,\n",
       " 'had': 61546,\n",
       " 'more': 83706,\n",
       " 'has': 62123,\n",
       " 'rumors': 103499,\n",
       " 'about': 25399,\n",
       " 'price': 95882,\n",
       " 'drops': 49092,\n",
       " 'line': 76007,\n",
       " 'like': 75901,\n",
       " 'ones': 89897,\n",
       " 'duo': 49463,\n",
       " 'just': 71079,\n",
       " 'went': 123790,\n",
       " 'through': 114882,\n",
       " 'recently': 99966,\n",
       " 'impression': 66533,\n",
       " 'display': 47828,\n",
       " 'probably': 96047,\n",
       " 'swing': 112399,\n",
       " 'got': 59860,\n",
       " '80mb': 20119,\n",
       " 'rather': 99367,\n",
       " '120': 3412,\n",
       " 'feel': 54784,\n",
       " 'how': 64186,\n",
       " 'much': 84681,\n",
       " 'better': 32976,\n",
       " 'yea': 128018,\n",
       " 'looks': 76726,\n",
       " 'great': 60256,\n",
       " 'store': 110858,\n",
       " 'wow': 125133,\n",
       " 'good': 59779,\n",
       " 'solicit': 108738,\n",
       " 'some': 108799,\n",
       " 'opinions': 90097,\n",
       " 'people': 92923,\n",
       " 'use': 119737,\n",
       " 'its': 68857,\n",
       " 'worth': 125095,\n",
       " 'taking': 113289,\n",
       " 'size': 107705,\n",
       " 'money': 83495,\n",
       " 'hit': 63365,\n",
       " 'get': 58830,\n",
       " 'active': 25927,\n",
       " 'realize': 99814,\n",
       " 'real': 99791,\n",
       " 'subjective': 111325,\n",
       " 'question': 98356,\n",
       " 've': 120941,\n",
       " 'only': 89919,\n",
       " 'played': 94327,\n",
       " 'around': 29463,\n",
       " 'machines': 78652,\n",
       " 'breifly': 34918,\n",
       " 'figured': 55265,\n",
       " 'actually': 25953,\n",
       " 'uses': 119766,\n",
       " 'daily': 44889,\n",
       " 'might': 81998,\n",
       " 'prove': 96555,\n",
       " 'helpful': 62702,\n",
       " 'hellcats': 62665,\n",
       " 'perform': 92995,\n",
       " 'advance': 26298,\n",
       " 'email': 51268,\n",
       " 'll': 76377,\n",
       " 'post': 95136,\n",
       " 'news': 86914,\n",
       " 'reading': 99766,\n",
       " 'time': 115133,\n",
       " 'at': 30044,\n",
       " 'premium': 95676,\n",
       " 'finals': 55393,\n",
       " 'corner': 42684,\n",
       " 'tom': 115579,\n",
       " 'electrical': 51023,\n",
       " 'convictions': 42466,\n",
       " 'dangerous': 44992,\n",
       " 'enemies': 51670,\n",
       " 'truth': 116709,\n",
       " 'lies': 75818,\n",
       " 'nietzsche': 87254,\n",
       " 'jgreen': 70010,\n",
       " 'amber': 27774,\n",
       " 'joe': 70452,\n",
       " 'green': 60278,\n",
       " 're': 99721,\n",
       " 'weitek': 123734,\n",
       " 'p9000': 91542,\n",
       " 'harris': 62080,\n",
       " 'systems': 112687,\n",
       " 'division': 48072,\n",
       " '14': 4155,\n",
       " 'world': 125053,\n",
       " 'ssd': 109992,\n",
       " 'csd': 43791,\n",
       " 'com': 41105,\n",
       " 'newsreader': 86951,\n",
       " 'tin': 115192,\n",
       " 'version': 121234,\n",
       " 'pl9': 94200,\n",
       " 'robert': 102656,\n",
       " 'kyanko': 73948,\n",
       " 'rob': 102637,\n",
       " 'rjck': 102214,\n",
       " 'uucp': 119977,\n",
       " 'wrote': 125296,\n",
       " 'abraxis': 25422,\n",
       " 'iastate': 65446,\n",
       " 'writes': 125271,\n",
       " '734340159': 18618,\n",
       " 'class1': 40243,\n",
       " 'graphics': 60150,\n",
       " 'chip': 39415,\n",
       " 'far': 54383,\n",
       " 'low': 76894,\n",
       " 'level': 75431,\n",
       " 'stuff': 111196,\n",
       " 'goes': 59666,\n",
       " 'pretty': 95834,\n",
       " 'nice': 87170,\n",
       " 'quadrilateral': 98220,\n",
       " 'fill': 55347,\n",
       " 'command': 41190,\n",
       " 'requires': 101156,\n",
       " 'four': 56552,\n",
       " 'points': 94738,\n",
       " 'do': 48351,\n",
       " 'address': 26085,\n",
       " 'phone': 93582,\n",
       " 'information': 67186,\n",
       " 'corporation': 42714,\n",
       " 'scares': 104993,\n",
       " 'person': 93156,\n",
       " 'no': 87626,\n",
       " 'sense': 106065,\n",
       " 'humor': 64660,\n",
       " 'jonathan': 70557,\n",
       " 'winters': 124537,\n",
       " 'jcm': 69670,\n",
       " 'head': 62418,\n",
       " 'cfa': 38766,\n",
       " 'harvard': 62114,\n",
       " 'mcdowell': 80315,\n",
       " 'shuttle': 107159,\n",
       " 'launch': 74753,\n",
       " 'smithsonian': 108336,\n",
       " 'astrophysical': 30003,\n",
       " 'observatory': 89076,\n",
       " 'cambridge': 37504,\n",
       " 'ma': 78518,\n",
       " 'sci': 105245,\n",
       " '23': 9221,\n",
       " 'c5owcb': 36810,\n",
       " 'n3p': 85690,\n",
       " 'std': 110434,\n",
       " 'tombaker': 115597,\n",
       " 'baker': 31605,\n",
       " 'c5jlwx': 36662,\n",
       " '4h9': 14410,\n",
       " 'cs': 43740,\n",
       " 'cmu': 40658,\n",
       " 'etrat': 52721,\n",
       " 'ttacs1': 116829,\n",
       " 'ttu': 116864,\n",
       " 'pack': 91638,\n",
       " 'rat': 99356,\n",
       " 'clear': 40312,\n",
       " 'caution': 38203,\n",
       " 'warning': 123255,\n",
       " 'memory': 81066,\n",
       " 'verify': 121180,\n",
       " 'unexpected': 118750,\n",
       " 'errors': 52384,\n",
       " 'am': 27721,\n",
       " 'error': 52382,\n",
       " 'sorry': 108930,\n",
       " 'dumb': 49415,\n",
       " 'parity': 92080,\n",
       " 'previously': 95864,\n",
       " 'known': 73219,\n",
       " 'conditions': 41785,\n",
       " 'waivered': 123082,\n",
       " 'yes': 128084,\n",
       " 'we': 123575,\n",
       " 'already': 27613,\n",
       " 'knew': 73162,\n",
       " 'curious': 44098,\n",
       " 'meaning': 80696,\n",
       " 'quote': 98466,\n",
       " 'understanding': 118642,\n",
       " 'basically': 31994,\n",
       " 'bugs': 35510,\n",
       " 'system': 112674,\n",
       " 'software': 108677,\n",
       " 'things': 114692,\n",
       " 'checked': 39174,\n",
       " 'right': 101990,\n",
       " 'values': 120616,\n",
       " 'yet': 128096,\n",
       " 'because': 32422,\n",
       " 'they': 114646,\n",
       " 'aren': 29250,\n",
       " 'set': 106275,\n",
       " 'till': 115114,\n",
       " 'suchlike': 111534,\n",
       " 'fix': 55597,\n",
       " 'code': 40811,\n",
       " 'possibly': 95133,\n",
       " 'introduce': 68051,\n",
       " 'tell': 113980,\n",
       " 'crew': 43379,\n",
       " 'ok': 89592,\n",
       " 'see': 105818,\n",
       " '213': 8755,\n",
       " 'before': 32517,\n",
       " 'liftoff': 75855,\n",
       " 'ignore': 65894,\n",
       " 'dfo': 46923,\n",
       " 'vttoulu': 122323,\n",
       " 'tko': 115327,\n",
       " 'vtt': 122321,\n",
       " 'fi': 55154,\n",
       " 'foxvog': 56579,\n",
       " 'douglas': 48730,\n",
       " 'rewording': 101688,\n",
       " 'second': 105742,\n",
       " 'amendment': 27818,\n",
       " 'ideas': 65688,\n",
       " '58': 15598,\n",
       " '1r1eu1': 7862,\n",
       " '4t': 14706,\n",
       " 'transfer': 116179,\n",
       " 'stratus': 110966,\n",
       " 'cdt': 38493,\n",
       " 'sw': 112246,\n",
       " 'tavares': 113583,\n",
       " '1993apr20': 6517,\n",
       " '083057': 1416,\n",
       " '16899': 5341,\n",
       " 'ousrvr': 90771,\n",
       " 'oulu': 90757,\n",
       " '1qv87v': 7772,\n",
       " '4j3': 14445,\n",
       " 'c5n3gi': 36783,\n",
       " 'f8f': 53987,\n",
       " 'ulowell': 118213,\n",
       " 'jrutledg': 70815,\n",
       " 'john': 70487,\n",
       " 'lawrence': 74826,\n",
       " 'rutledge': 103598,\n",
       " 'massive': 79739,\n",
       " 'destructive': 46685,\n",
       " 'power': 95258,\n",
       " 'many': 79371,\n",
       " 'modern': 83291,\n",
       " 'weapons': 123603,\n",
       " 'makes': 79065,\n",
       " 'cost': 42835,\n",
       " 'accidental': 25622,\n",
       " 'crimial': 43405,\n",
       " 'these': 114625,\n",
       " 'mass': 79715,\n",
       " 'destruction': 46683,\n",
       " 'need': 86493,\n",
       " 'control': 42381,\n",
       " 'government': 59910,\n",
       " 'individual': 66931,\n",
       " 'would': 125110,\n",
       " 'result': 101426,\n",
       " 'needless': 86502,\n",
       " 'deaths': 45545,\n",
       " 'millions': 82144,\n",
       " 'keep': 72131,\n",
       " 'bear': 32357,\n",
       " 'non': 87728,\n",
       " 'existant': 53311,\n",
       " 'stating': 110379,\n",
       " 'coming': 41175,\n",
       " 'say': 104830,\n",
       " 'disagree': 47476,\n",
       " 'every': 52948,\n",
       " 'count': 42895,\n",
       " 'believe': 32651,\n",
       " 'individuals': 66938,\n",
       " 'should': 107022,\n",
       " 'own': 91190,\n",
       " 'find': 55411,\n",
       " 'hard': 61959,\n",
       " 'support': 111974,\n",
       " 'neighbor': 86579,\n",
       " 'nuclear': 88332,\n",
       " 'biological': 33438,\n",
       " 'nerve': 86663,\n",
       " 'gas': 58204,\n",
       " 'his': 63333,\n",
       " 'her': 62800,\n",
       " 'property': 96381,\n",
       " 'cannot': 37653,\n",
       " 'even': 52907,\n",
       " 'agree': 26747,\n",
       " 'keeping': 72135,\n",
       " 'hands': 61857,\n",
       " 'hope': 63962,\n",
       " 'us': 119701,\n",
       " 'sign': 107332,\n",
       " 'blank': 33723,\n",
       " 'checks': 39188,\n",
       " 'course': 42969,\n",
       " 'term': 114137,\n",
       " 'must': 85032,\n",
       " 'rigidly': 102018,\n",
       " 'defined': 45925,\n",
       " 'bill': 33331,\n",
       " 'doug': 48718,\n",
       " 'says': 104839,\n",
       " 'he': 62410,\n",
       " 'means': 80703,\n",
       " 'cbw': 38345,\n",
       " 'nukes': 88353,\n",
       " 'sarah': 104637,\n",
       " 'brady': 34759,\n",
       " 'she': 106682,\n",
       " 'street': 110999,\n",
       " 'sweeper': 112343,\n",
       " 'shotguns': 107016,\n",
       " 'semi': 105991,\n",
       " 'automatic': 30545,\n",
       " 'sks': 107901,\n",
       " 'rifles': 101978,\n",
       " 'doubt': 48704,\n",
       " 'using': 119781,\n",
       " 'allegedly': 27454,\n",
       " 'then': 114520,\n",
       " 'immediately': 66314,\n",
       " 'follows': 56205,\n",
       " 'thousands': 114818,\n",
       " 'killed': 72652,\n",
       " 'each': 50067,\n",
       " 'year': 128022,\n",
       " 'handguns': 61829,\n",
       " 'easily': 50148,\n",
       " 'reduced': 100241,\n",
       " 'putting': 97133,\n",
       " 'reasonable': 99867,\n",
       " 'restrictions': 101414,\n",
       " 'them': 114508,\n",
       " 'mean': 80693,\n",
       " 'read': 99755,\n",
       " 'presenting': 95741,\n",
       " 'first': 55525,\n",
       " 'argument': 29298,\n",
       " 'commonly': 41292,\n",
       " 'understood': 118652,\n",
       " 'switching': 112421,\n",
       " 'topics': 115712,\n",
       " 'point': 94725,\n",
       " 'evidently': 52979,\n",
       " 'show': 107045,\n",
       " 'not': 87949,\n",
       " 'allowed': 27520,\n",
       " 'later': 74699,\n",
       " 'analysis': 28075,\n",
       " 'given': 59199,\n",
       " 'consider': 42078,\n",
       " 'another': 28421,\n",
       " 'class': 40242,\n",
       " 'rocket': 102722,\n",
       " 'speak': 109205,\n",
       " 'company': 41355,\n",
       " 'vos': 122121,\n",
       " 'write': 125265,\n",
       " 'today': 115508,\n",
       " 'special': 109225,\n",
       " 'investors': 68150,\n",
       " 'packet': 91649,\n",
       " 'bmdelane': 34012,\n",
       " 'quads': 98226,\n",
       " 'uchicago': 117822,\n",
       " 'brian': 34971,\n",
       " 'manning': 79305,\n",
       " 'delaney': 46061,\n",
       " 'brain': 34772,\n",
       " 'tumor': 116953,\n",
       " 'treatment': 116382,\n",
       " 'reply': 101034,\n",
       " 'midway': 81978,\n",
       " 'chicago': 39339,\n",
       " '12': 3411,\n",
       " 'few': 55011,\n",
       " 'responded': 101346,\n",
       " 'request': 101142,\n",
       " 'astrocytomas': 29977,\n",
       " 'whom': 124164,\n",
       " 'couldn': 42878,\n",
       " 'thank': 114422,\n",
       " 'directly': 47438,\n",
       " 'bouncing': 34568,\n",
       " 'probs': 96074,\n",
       " 'sean': 105671,\n",
       " 'debra': 45570,\n",
       " 'sharon': 106627,\n",
       " 'thought': 114808,\n",
       " 'publicly': 96868,\n",
       " 'everyone': 52954,\n",
       " 'sure': 112031,\n",
       " 'glad': 59305,\n",
       " 'accidentally': 25623,\n",
       " 'rn': 102532,\n",
       " 'instead': 67583,\n",
       " 'rm': 102442,\n",
       " 'trying': 116727,\n",
       " 'delete': 46083,\n",
       " 'file': 55307,\n",
       " 'last': 74675,\n",
       " 'september': 106146,\n",
       " 'hmmm': 63542,\n",
       " 'bgrubb': 33081,\n",
       " 'dante': 45030,\n",
       " 'nmsu': 87589,\n",
       " 'grubb': 60545,\n",
       " 'ide': 65675,\n",
       " 'vs': 122259,\n",
       " 'scsi': 105492,\n",
       " 'mexico': 81419,\n",
       " 'state': 110355,\n",
       " 'las': 74650,\n",
       " 'cruces': 43599,\n",
       " 'nm': 87558,\n",
       " '44': 13679,\n",
       " 'dxb132': 49671,\n",
       " 'psuvm': 96737,\n",
       " 'psu': 96731,\n",
       " '1qlbrlinn7rk': 7597,\n",
       " 'dns1': 48346,\n",
       " 'pc': 92544,\n",
       " 'magazine': 78830,\n",
       " 'april': 29009,\n",
       " '27': 10013,\n",
       " '1993': 6475,\n",
       " '29': 10368,\n",
       " 'although': 27663,\n",
       " 'twice': 117168,\n",
       " 'fasst': 54465,\n",
       " 'esdi': 52481,\n",
       " '20': 8266,\n",
       " 'faster': 54474,\n",
       " 'devices': 46840,\n",
       " 'acceptance': 25596,\n",
       " 'long': 76683,\n",
       " 'been': 32491,\n",
       " 'stalled': 110196,\n",
       " 'incompatability': 66741,\n",
       " 'problems': 96071,\n",
       " 'installation': 67562,\n",
       " 'headaches': 62420,\n",
       " 'love': 76876,\n",
       " 'writers': 125270,\n",
       " 'stupid': 111219,\n",
       " 'statements': 110362,\n",
       " 'performance': 92999,\n",
       " 'those': 114800,\n",
       " 'numbers': 88371,\n",
       " 'list': 76145,\n",
       " 'actual': 25947,\n",
       " 'ranges': 99268,\n",
       " 'which': 124055,\n",
       " 'convince': 42475,\n",
       " 'such': 111533,\n",
       " 'statement': 110361,\n",
       " 'absurd': 25482,\n",
       " '5mb': 16105,\n",
       " 'ii': 65959,\n",
       " '40mb': 13429,\n",
       " '3mb': 13018,\n",
       " 'always': 27714,\n",
       " '25mb': 9853,\n",
       " 'standard': 110220,\n",
       " 'versions': 121236,\n",
       " 'shows': 107071,\n",
       " 'controler': 42384,\n",
       " 'range': 99261,\n",
       " 'indeed': 66843,\n",
       " 'controller': 42390,\n",
       " '6mb': 17800,\n",
       " '10mb': 2893,\n",
       " 'burst': 35747,\n",
       " 'note': 87961,\n",
       " 'increase': 66796,\n",
       " 'quadra': 98213,\n",
       " 'exist': 53308,\n",
       " 'too': 115663,\n",
       " 'mode': 83251,\n",
       " '16': 5022,\n",
       " 'wide': 124226,\n",
       " 'fast': 54467,\n",
       " '12mb': 3776,\n",
       " '20mb': 8627,\n",
       " '32': 11636,\n",
       " 'data': 45143,\n",
       " 'correct': 42724,\n",
       " 'reach': 99733,\n",
       " '96': 22194,\n",
       " 'facts': 54150,\n",
       " 'posted': 95150,\n",
       " 'newsgroup': 86932,\n",
       " 'ibm': 65480,\n",
       " 'sheet': 106713,\n",
       " 'available': 30616,\n",
       " 'ftp': 57132,\n",
       " 'sumex': 111680,\n",
       " 'aim': 26920,\n",
       " 'stanford': 110249,\n",
       " 'report': 101045,\n",
       " 'compare': 41363,\n",
       " 'txt': 117252,\n",
       " '173': 5581,\n",
       " '161': 5074,\n",
       " 'may': 80005,\n",
       " 'still': 110697,\n",
       " 'part': 92138,\n",
       " 'problem': 96064,\n",
       " 'both': 34523,\n",
       " 'inconsiant': 66764,\n",
       " 'though': 114806,\n",
       " 'documented': 48416,\n",
       " 'apple': 28856,\n",
       " 'salesperson': 104424,\n",
       " 'said': 104361,\n",
       " 'maximum': 79992,\n",
       " 'synchronous': 112584,\n",
       " 'ansynchronous': 28450,\n",
       " 'slower': 108174,\n",
       " 'seems': 105842,\n",
       " 'interface': 67802,\n",
       " 'think': 114696,\n",
       " 'driven': 49054,\n",
       " 'true': 116665,\n",
       " 'go': 59590,\n",
       " 'slam': 107976,\n",
       " 'understand': 118638,\n",
       " 'going': 59686,\n",
       " 'one': 89884,\n",
       " 'reference': 100314,\n",
       " 'digital': 47256,\n",
       " 'review': 101619,\n",
       " 'oct': 89215,\n",
       " '21': 8648,\n",
       " '1991': 6465,\n",
       " 'v8': 120402,\n",
       " 'n33': 85671,\n",
       " 'p8': 91509,\n",
       " 'holmes7000': 63775,\n",
       " 'iscsvax': 68565,\n",
       " 'uni': 118842,\n",
       " 'win': 124397,\n",
       " 'icon': 65583,\n",
       " 'help': 62696,\n",
       " 'northern': 87908,\n",
       " 'iowa': 68247,\n",
       " '10': 2336,\n",
       " 'downloaded': 48769,\n",
       " 'several': 106337,\n",
       " 'icons': 65593,\n",
       " 'bmp': 34038,\n",
       " 'figure': 55264,\n",
       " 'change': 38988,\n",
       " 'wallpaper': 123137,\n",
       " 'appreciated': 28930,\n",
       " 'thanx': 114436,\n",
       " 'brando': 34806,\n",
       " 'ps': 96643,\n",
       " 'kerr': 72278,\n",
       " 'ux1': 120128,\n",
       " 'cso': 43826,\n",
       " 'uiuc': 118089,\n",
       " 'stan': 110214,\n",
       " 'sigma': 107330,\n",
       " 'designs': 46587,\n",
       " 'double': 48689,\n",
       " 'c52u8x': 36456,\n",
       " 'b62': 31156,\n",
       " 'illinois': 66148,\n",
       " 'urbana': 119636,\n",
       " 'jap10': 69512,\n",
       " 'po': 94660,\n",
       " 'cwru': 44267,\n",
       " 'joseph': 70596,\n",
       " 'pellettiere': 92811,\n",
       " 'board': 34110,\n",
       " 'hardware': 61997,\n",
       " 'compression': 41559,\n",
       " 'works': 125042,\n",
       " 'autodoubler': 30524,\n",
       " 'also': 27618,\n",
       " 'over': 90946,\n",
       " 'work': 125017,\n",
       " 'diskdoubler': 47724,\n",
       " 'due': 49357,\n",
       " 'licensing': 75779,\n",
       " 'stac': 110133,\n",
       " 'technologies': 113811,\n",
       " 'owners': 91193,\n",
       " 'technology': 113812,\n",
       " 'writing': 125273,\n",
       " 'lost': 76825,\n",
       " 'wrong': 125288,\n",
       " 'being': 32596,\n",
       " 'whether': 124046,\n",
       " 'fault': 54528,\n",
       " 'something': 108821,\n",
       " 'else': 51215,\n",
       " 'however': 64200,\n",
       " 'decompress': 45718,\n",
       " 'troubled': 116637,\n",
       " 'recompress': 100068,\n",
       " 'without': 124640,\n",
       " 'usually': 119835,\n",
       " 'reappears': 99851,\n",
       " 'above': 25402,\n",
       " 'mentioned': 81133,\n",
       " 'freeware': 56834,\n",
       " 'expansion': 53371,\n",
       " 'utility': 119899,\n",
       " 'dd': 45444,\n",
       " 'expand': 53359,\n",
       " 'compressed': 41554,\n",
       " 'unless': 119030,\n",
       " 'installed': 67565,\n",
       " 'product': 96142,\n",
       " 'now': 88034,\n",
       " 'unlikely': 119035,\n",
       " 'holes': 63732,\n",
       " 'related': 100633,\n",
       " 'fixed': 55602,\n",
       " 'sad': 104273,\n",
       " 'very': 121265,\n",
       " 'reluctant': 100752,\n",
       " 'buy': 35855,\n",
       " 'stinky': 110726,\n",
       " 'hey': 62963,\n",
       " 'competition': 41449,\n",
       " 'computing': 41632,\n",
       " 'communications': 41316,\n",
       " 'services': 106253,\n",
       " 'office': 89410,\n",
       " '217': 8866,\n",
       " '333': 11796,\n",
       " '5217': 15110,\n",
       " 'stankerr': 110257,\n",
       " 'irwin': 68524,\n",
       " 'cmptrc': 40647,\n",
       " 'lonestar': 76681,\n",
       " 'org': 90364,\n",
       " 'arnstein': 29451,\n",
       " 'recommendation': 100059,\n",
       " 'duc': 49328,\n",
       " 'expires': 53441,\n",
       " 'sat': 104702,\n",
       " '05': 1049,\n",
       " '00': 0,\n",
       " 'gmt': 59534,\n",
       " 'computrac': 41633,\n",
       " 'inc': 66670,\n",
       " 'richardson': 101898,\n",
       " 'tx': 117230,\n",
       " 'ducati': 49331,\n",
       " 'gts': 60731,\n",
       " '13': 3802,\n",
       " '900gts': 21480,\n",
       " '1978': 6437,\n",
       " '17k': 5791,\n",
       " 'runs': 103528,\n",
       " 'paint': 91722,\n",
       " 'bronze': 35151,\n",
       " 'brown': 35194,\n",
       " 'orange': 90266,\n",
       " 'faded': 54163,\n",
       " 'leaks': 75033,\n",
       " 'oil': 89550,\n",
       " 'pops': 94986,\n",
       " '1st': 8042,\n",
       " 'accel': 25568,\n",
       " 'shop': 106965,\n",
       " 'trans': 116139,\n",
       " 'leak': 75028,\n",
       " 'sold': 108718,\n",
       " 'bike': 33301,\n",
       " 'owner': 91192,\n",
       " 'want': 123196,\n",
       " '3495': 11976,\n",
       " 'thinking': 114702,\n",
       " '3k': 12963,\n",
       " 'stable': 110130,\n",
       " 'mate': 79785,\n",
       " 'beemer': 32489,\n",
       " 'jap': 69511,\n",
       " 'myself': 85447,\n",
       " 'axis': 30868,\n",
       " 'motors': 83914,\n",
       " 'tuba': 116882,\n",
       " 'honk': 63910,\n",
       " 'therefore': 114586,\n",
       " 'dod': 48421,\n",
       " '0826': 1410,\n",
       " 'r75': 98828,\n",
       " 'david': 45240,\n",
       " 'terminus': 114156,\n",
       " 'ericsson': 52313,\n",
       " 'se': 105620,\n",
       " 'bold': 34252,\n",
       " 'popular': 94990,\n",
       " 'morality': 83685,\n",
       " 'camtec': 37563,\n",
       " 'electronics': 51051,\n",
       " 'leicester': 75240,\n",
       " 'england': 51741,\n",
       " '77': 19175,\n",
       " 'bangkok': 31744,\n",
       " '17570': 5691,\n",
       " 'freenet': 56826,\n",
       " 'carleton': 37881,\n",
       " 'ca': 37219,\n",
       " 'ad354': 25991,\n",
       " 'james': 69461,\n",
       " 'owens': 91180,\n",
       " 'previous': 95862,\n",
       " 'rude': 103421,\n",
       " 'hold': 63717,\n",
       " 'end': 51609,\n",
       " 'different': 47201,\n",
       " 'stick': 110671,\n",
       " 'look': 76715,\n",
       " 'again': 26646,\n",
       " 'intent': 67733,\n",
       " 'explaining': 53448,\n",
       " 'jung': 71028,\n",
       " 'moral': 83679,\n",
       " 'god': 59626,\n",
       " 'overlooked': 91031,\n",
       " 'main': 78995,\n",
       " 'seem': 105837,\n",
       " 'saying': 104834,\n",
       " 'unknowable': 119013,\n",
       " 'yep': 128076,\n",
       " 'jew': 69925,\n",
       " 'jewish': 69930,\n",
       " 'jews': 69935,\n",
       " 'covenant': 43007,\n",
       " 'between': 32988,\n",
       " 'yhwh': 128179,\n",
       " 'patriarchs': 92376,\n",
       " 'abraham': 25413,\n",
       " 'moses': 83810,\n",
       " 'case': 38019,\n",
       " 'establishes': 52575,\n",
       " 'follow': 56195,\n",
       " 'mankind': 79295,\n",
       " 'decide': 45644,\n",
       " 'boundaries': 34570,\n",
       " 'fall': 54272,\n",
       " 'sadducees': 104289,\n",
       " 'believed': 32652,\n",
       " 'torah': 115738,\n",
       " 'required': 101152,\n",
       " 'whereas': 124033,\n",
       " 'pharisees': 93451,\n",
       " 'ancestors': 28132,\n",
       " 'judaism': 70921,\n",
       " ...}"
      ]
     },
     "execution_count": 34,
     "metadata": {},
     "output_type": "execute_result"
    }
   ],
   "source": [
    "vect.vocabulary_"
   ]
  },
  {
   "cell_type": "code",
   "execution_count": 35,
   "metadata": {},
   "outputs": [
    {
     "data": {
      "text/plain": [
       "130107"
      ]
     },
     "execution_count": 35,
     "metadata": {},
     "output_type": "execute_result"
    }
   ],
   "source": [
    "len(vect.vocabulary_)"
   ]
  },
  {
   "cell_type": "code",
   "execution_count": 37,
   "metadata": {},
   "outputs": [],
   "source": [
    "sm = vect.transform(news.data)"
   ]
  },
  {
   "cell_type": "code",
   "execution_count": 38,
   "metadata": {},
   "outputs": [],
   "source": [
    "sm = sm.toarray()"
   ]
  },
  {
   "cell_type": "code",
   "execution_count": 119,
   "metadata": {},
   "outputs": [],
   "source": [
    "from sklearn.linear_model import LogisticRegression,RidgeClassifier\n",
    "import numpy as np"
   ]
  },
  {
   "cell_type": "code",
   "execution_count": 44,
   "metadata": {},
   "outputs": [
    {
     "name": "stderr",
     "output_type": "stream",
     "text": [
      "C:\\Users\\wtime\\Anaconda3\\lib\\site-packages\\sklearn\\linear_model\\logistic.py:433: FutureWarning: Default solver will be changed to 'lbfgs' in 0.22. Specify a solver to silence this warning.\n",
      "  FutureWarning)\n",
      "C:\\Users\\wtime\\Anaconda3\\lib\\site-packages\\sklearn\\linear_model\\logistic.py:460: FutureWarning: Default multi_class will be changed to 'auto' in 0.22. Specify the multi_class option to silence this warning.\n",
      "  \"this warning.\", FutureWarning)\n"
     ]
    }
   ],
   "source": [
    "model = LogisticRegression().fit(sm, news.target)"
   ]
  },
  {
   "cell_type": "code",
   "execution_count": 45,
   "metadata": {},
   "outputs": [
    {
     "data": {
      "text/plain": [
       "0.999734841788934"
      ]
     },
     "execution_count": 45,
     "metadata": {},
     "output_type": "execute_result"
    }
   ],
   "source": [
    "model.score(sm,news.target)\n"
   ]
  },
  {
   "cell_type": "code",
   "execution_count": 53,
   "metadata": {},
   "outputs": [],
   "source": [
    "test_set = ['HI, Major League, who is winner',' I want to buy a notebook.where should I go']"
   ]
  },
  {
   "cell_type": "code",
   "execution_count": 54,
   "metadata": {},
   "outputs": [
    {
     "data": {
      "text/plain": [
       "array([10,  4])"
      ]
     },
     "execution_count": 54,
     "metadata": {},
     "output_type": "execute_result"
    }
   ],
   "source": [
    "model.predict(vect.transform(test_set))"
   ]
  },
  {
   "cell_type": "code",
   "execution_count": 56,
   "metadata": {},
   "outputs": [
    {
     "data": {
      "text/plain": [
       "('rec.sport.hockey', 'comp.sys.mac.hardware')"
      ]
     },
     "execution_count": 56,
     "metadata": {},
     "output_type": "execute_result"
    }
   ],
   "source": [
    "news.target_names[10], news.target_names[4]"
   ]
  },
  {
   "cell_type": "code",
   "execution_count": 58,
   "metadata": {},
   "outputs": [
    {
     "data": {
      "text/plain": [
       "(1, 130107)"
      ]
     },
     "execution_count": 58,
     "metadata": {},
     "output_type": "execute_result"
    }
   ],
   "source": [
    "sm_test = vect.transform(test_set)\n",
    "dm = sm_test[0].toarray()\n",
    "dm.shape"
   ]
  },
  {
   "cell_type": "code",
   "execution_count": 62,
   "metadata": {},
   "outputs": [
    {
     "data": {
      "text/plain": [
       "(6, array([[0, 0, 0, ..., 0, 0, 0]], dtype=int64))"
      ]
     },
     "execution_count": 62,
     "metadata": {},
     "output_type": "execute_result"
    }
   ],
   "source": [
    "np.sum(dm), dm"
   ]
  },
  {
   "cell_type": "code",
   "execution_count": 63,
   "metadata": {},
   "outputs": [
    {
     "data": {
      "text/plain": [
       "array([ 63092,  68532,  75022,  79043, 124147, 124501])"
      ]
     },
     "execution_count": 63,
     "metadata": {},
     "output_type": "execute_result"
    }
   ],
   "source": [
    "sm_test[0].indices # indexes 배열의 크기가 너무 크기 때문에 0이 아닌 값이 있는 위치를 볼 수 밖에 없습니다. "
   ]
  },
  {
   "cell_type": "code",
   "execution_count": 64,
   "metadata": {},
   "outputs": [],
   "source": [
    "import konlpy"
   ]
  },
  {
   "cell_type": "code",
   "execution_count": 71,
   "metadata": {},
   "outputs": [
    {
     "name": "stdout",
     "output_type": "stream",
     "text": [
      "['네, 안녕하세요.', '반갑습니다.']\n"
     ]
    }
   ],
   "source": [
    "from konlpy.tag import Kkma, Okt\n",
    "from konlpy.utils import pprint\n",
    "\n",
    "kkma = Kkma()\n",
    "pprint(kkma.sentences(u'네, 안녕하세요. 반갑습니다.'))"
   ]
  },
  {
   "cell_type": "code",
   "execution_count": 68,
   "metadata": {},
   "outputs": [
    {
     "name": "stdout",
     "output_type": "stream",
     "text": [
      "['질문', '건의', '건의사항', '사항', '깃헙', '이슈', '트래커']\n"
     ]
    }
   ],
   "source": [
    "pprint(kkma.nouns(u'질문이나 건의사항은 깃헙 이슈 트래커에 남겨주세요.'))"
   ]
  },
  {
   "cell_type": "code",
   "execution_count": 69,
   "metadata": {},
   "outputs": [
    {
     "name": "stdout",
     "output_type": "stream",
     "text": [
      "[('오류', 'NNG'),\n",
      " ('보고', 'NNG'),\n",
      " ('는', 'JX'),\n",
      " ('실행', 'NNG'),\n",
      " ('환경', 'NNG'),\n",
      " (',', 'SP'),\n",
      " ('에러', 'NNG'),\n",
      " ('메세지', 'NNG'),\n",
      " ('와', 'JKM'),\n",
      " ('함께', 'MAG'),\n",
      " ('설명', 'NNG'),\n",
      " ('을', 'JKO'),\n",
      " ('최대한', 'NNG'),\n",
      " ('상세히', 'MAG'),\n",
      " ('!', 'SF'),\n",
      " ('^^', 'EMO')]\n"
     ]
    }
   ],
   "source": [
    "pprint(kkma.pos(u'오류보고는 실행환경, 에러메세지와함께 설명을 최대한상세히!^^'))"
   ]
  },
  {
   "cell_type": "code",
   "execution_count": 72,
   "metadata": {},
   "outputs": [
    {
     "data": {
      "text/plain": [
       "['질문', '이나', '건의', '사항', '은', '깃', '헙', '이슈', '트래커', '에', '남겨주세요', '.']"
      ]
     },
     "execution_count": 72,
     "metadata": {},
     "output_type": "execute_result"
    }
   ],
   "source": [
    "okt_tag = Okt()\n",
    "okt_tag.morphs(u'질문이나 건의사항은 깃헙 이슈 트래커에 남겨주세요.')"
   ]
  },
  {
   "cell_type": "code",
   "execution_count": 73,
   "metadata": {},
   "outputs": [],
   "source": [
    "cv = CountVectorizer(tokenizer=okt_tag.morphs) # 문장 > 벡터"
   ]
  },
  {
   "cell_type": "code",
   "execution_count": 75,
   "metadata": {},
   "outputs": [],
   "source": [
    "senteces = ['안녕, 나는 남자야!', '안녕, 나는 여자야 여자!']"
   ]
  },
  {
   "cell_type": "code",
   "execution_count": 80,
   "metadata": {},
   "outputs": [],
   "source": [
    "cv = cv.fit(senteces) # 토큰을 다 잘라서 어휘사전(vocaburary)를 준비합니다. "
   ]
  },
  {
   "cell_type": "code",
   "execution_count": 78,
   "metadata": {},
   "outputs": [],
   "source": [
    "sparse_matrix = cv.transform(senteces) #문장을 희소 행렬로 변환\n"
   ]
  },
  {
   "cell_type": "code",
   "execution_count": 79,
   "metadata": {},
   "outputs": [
    {
     "data": {
      "text/plain": [
       "array([[1, 1, 1, 1, 1, 1, 1, 0],\n",
       "       [1, 1, 1, 0, 1, 1, 1, 2]], dtype=int64)"
      ]
     },
     "execution_count": 79,
     "metadata": {},
     "output_type": "execute_result"
    }
   ],
   "source": [
    "sparse_matrix.toarray()"
   ]
  },
  {
   "cell_type": "code",
   "execution_count": 81,
   "metadata": {},
   "outputs": [
    {
     "data": {
      "text/plain": [
       "{'안녕': 5, ',': 1, '나': 2, '는': 4, '남자': 3, '야': 6, '!': 0, '여자': 7}"
      ]
     },
     "execution_count": 81,
     "metadata": {},
     "output_type": "execute_result"
    }
   ],
   "source": [
    "cv.vocabulary_"
   ]
  },
  {
   "cell_type": "markdown",
   "metadata": {},
   "source": [
    "네이버 영화 리뷰 추천/비추천 분류"
   ]
  },
  {
   "cell_type": "code",
   "execution_count": 82,
   "metadata": {},
   "outputs": [
    {
     "name": "stderr",
     "output_type": "stream",
     "text": [
      "C:\\Users\\wtime\\Anaconda3\\lib\\importlib\\_bootstrap.py:219: RuntimeWarning: numpy.ufunc size changed, may indicate binary incompatibility. Expected 192 from C header, got 216 from PyObject\n",
      "  return f(*args, **kwds)\n",
      "C:\\Users\\wtime\\Anaconda3\\lib\\importlib\\_bootstrap.py:219: RuntimeWarning: numpy.ufunc size changed, may indicate binary incompatibility. Expected 192 from C header, got 216 from PyObject\n",
      "  return f(*args, **kwds)\n"
     ]
    }
   ],
   "source": [
    "import pandas as pd"
   ]
  },
  {
   "cell_type": "code",
   "execution_count": 84,
   "metadata": {},
   "outputs": [
    {
     "data": {
      "text/plain": [
       "(150000, 3)"
      ]
     },
     "execution_count": 84,
     "metadata": {},
     "output_type": "execute_result"
    }
   ],
   "source": [
    "movie = pd.read_csv('ratings_train.txt', delimiter='\\t')\n",
    "movie.shape"
   ]
  },
  {
   "cell_type": "code",
   "execution_count": 85,
   "metadata": {},
   "outputs": [
    {
     "data": {
      "text/html": [
       "<div>\n",
       "<style scoped>\n",
       "    .dataframe tbody tr th:only-of-type {\n",
       "        vertical-align: middle;\n",
       "    }\n",
       "\n",
       "    .dataframe tbody tr th {\n",
       "        vertical-align: top;\n",
       "    }\n",
       "\n",
       "    .dataframe thead th {\n",
       "        text-align: right;\n",
       "    }\n",
       "</style>\n",
       "<table border=\"1\" class=\"dataframe\">\n",
       "  <thead>\n",
       "    <tr style=\"text-align: right;\">\n",
       "      <th></th>\n",
       "      <th>id</th>\n",
       "      <th>document</th>\n",
       "      <th>label</th>\n",
       "    </tr>\n",
       "  </thead>\n",
       "  <tbody>\n",
       "    <tr>\n",
       "      <th>0</th>\n",
       "      <td>9976970</td>\n",
       "      <td>아 더빙.. 진짜 짜증나네요 목소리</td>\n",
       "      <td>0</td>\n",
       "    </tr>\n",
       "    <tr>\n",
       "      <th>1</th>\n",
       "      <td>3819312</td>\n",
       "      <td>흠...포스터보고 초딩영화줄....오버연기조차 가볍지 않구나</td>\n",
       "      <td>1</td>\n",
       "    </tr>\n",
       "    <tr>\n",
       "      <th>2</th>\n",
       "      <td>10265843</td>\n",
       "      <td>너무재밓었다그래서보는것을추천한다</td>\n",
       "      <td>0</td>\n",
       "    </tr>\n",
       "    <tr>\n",
       "      <th>3</th>\n",
       "      <td>9045019</td>\n",
       "      <td>교도소 이야기구먼 ..솔직히 재미는 없다..평점 조정</td>\n",
       "      <td>0</td>\n",
       "    </tr>\n",
       "    <tr>\n",
       "      <th>4</th>\n",
       "      <td>6483659</td>\n",
       "      <td>사이몬페그의 익살스런 연기가 돋보였던 영화!스파이더맨에서 늙어보이기만 했던 커스틴 ...</td>\n",
       "      <td>1</td>\n",
       "    </tr>\n",
       "  </tbody>\n",
       "</table>\n",
       "</div>"
      ],
      "text/plain": [
       "         id                                           document  label\n",
       "0   9976970                                아 더빙.. 진짜 짜증나네요 목소리      0\n",
       "1   3819312                  흠...포스터보고 초딩영화줄....오버연기조차 가볍지 않구나      1\n",
       "2  10265843                                  너무재밓었다그래서보는것을추천한다      0\n",
       "3   9045019                      교도소 이야기구먼 ..솔직히 재미는 없다..평점 조정      0\n",
       "4   6483659  사이몬페그의 익살스런 연기가 돋보였던 영화!스파이더맨에서 늙어보이기만 했던 커스틴 ...      1"
      ]
     },
     "execution_count": 85,
     "metadata": {},
     "output_type": "execute_result"
    }
   ],
   "source": [
    "movie.head()"
   ]
  },
  {
   "cell_type": "code",
   "execution_count": 88,
   "metadata": {},
   "outputs": [
    {
     "name": "stdout",
     "output_type": "stream",
     "text": [
      "<class 'pandas.core.frame.DataFrame'>\n",
      "RangeIndex: 150000 entries, 0 to 149999\n",
      "Data columns (total 3 columns):\n",
      "id          150000 non-null int64\n",
      "document    149995 non-null object\n",
      "label       150000 non-null int64\n",
      "dtypes: int64(2), object(1)\n",
      "memory usage: 3.4+ MB\n"
     ]
    }
   ],
   "source": [
    "movie.info()"
   ]
  },
  {
   "cell_type": "code",
   "execution_count": 96,
   "metadata": {},
   "outputs": [
    {
     "ename": "KeyError",
     "evalue": "\"['id'] not found in axis\"",
     "output_type": "error",
     "traceback": [
      "\u001b[1;31m---------------------------------------------------------------------------\u001b[0m",
      "\u001b[1;31mKeyError\u001b[0m                                  Traceback (most recent call last)",
      "\u001b[1;32m<ipython-input-96-8a96fff88013>\u001b[0m in \u001b[0;36m<module>\u001b[1;34m\u001b[0m\n\u001b[1;32m----> 1\u001b[1;33m \u001b[0mmovie\u001b[0m \u001b[1;33m=\u001b[0m \u001b[0mmovie\u001b[0m\u001b[1;33m.\u001b[0m\u001b[0mdrop\u001b[0m\u001b[1;33m(\u001b[0m\u001b[0mcolumns\u001b[0m \u001b[1;33m=\u001b[0m \u001b[1;34m'id'\u001b[0m\u001b[1;33m)\u001b[0m\u001b[1;33m\u001b[0m\u001b[1;33m\u001b[0m\u001b[0m\n\u001b[0m\u001b[0;32m      2\u001b[0m \u001b[0mmovie\u001b[0m \u001b[1;33m=\u001b[0m \u001b[0mmovie\u001b[0m\u001b[1;33m.\u001b[0m\u001b[0mdropna\u001b[0m\u001b[1;33m(\u001b[0m\u001b[1;33m)\u001b[0m\u001b[1;33m\u001b[0m\u001b[1;33m\u001b[0m\u001b[0m\n",
      "\u001b[1;32m~\\Anaconda3\\lib\\site-packages\\pandas\\core\\frame.py\u001b[0m in \u001b[0;36mdrop\u001b[1;34m(self, labels, axis, index, columns, level, inplace, errors)\u001b[0m\n\u001b[0;32m   3938\u001b[0m                                            \u001b[0mindex\u001b[0m\u001b[1;33m=\u001b[0m\u001b[0mindex\u001b[0m\u001b[1;33m,\u001b[0m \u001b[0mcolumns\u001b[0m\u001b[1;33m=\u001b[0m\u001b[0mcolumns\u001b[0m\u001b[1;33m,\u001b[0m\u001b[1;33m\u001b[0m\u001b[1;33m\u001b[0m\u001b[0m\n\u001b[0;32m   3939\u001b[0m                                            \u001b[0mlevel\u001b[0m\u001b[1;33m=\u001b[0m\u001b[0mlevel\u001b[0m\u001b[1;33m,\u001b[0m \u001b[0minplace\u001b[0m\u001b[1;33m=\u001b[0m\u001b[0minplace\u001b[0m\u001b[1;33m,\u001b[0m\u001b[1;33m\u001b[0m\u001b[1;33m\u001b[0m\u001b[0m\n\u001b[1;32m-> 3940\u001b[1;33m                                            errors=errors)\n\u001b[0m\u001b[0;32m   3941\u001b[0m \u001b[1;33m\u001b[0m\u001b[0m\n\u001b[0;32m   3942\u001b[0m     @rewrite_axis_style_signature('mapper', [('copy', True),\n",
      "\u001b[1;32m~\\Anaconda3\\lib\\site-packages\\pandas\\core\\generic.py\u001b[0m in \u001b[0;36mdrop\u001b[1;34m(self, labels, axis, index, columns, level, inplace, errors)\u001b[0m\n\u001b[0;32m   3778\u001b[0m         \u001b[1;32mfor\u001b[0m \u001b[0maxis\u001b[0m\u001b[1;33m,\u001b[0m \u001b[0mlabels\u001b[0m \u001b[1;32min\u001b[0m \u001b[0maxes\u001b[0m\u001b[1;33m.\u001b[0m\u001b[0mitems\u001b[0m\u001b[1;33m(\u001b[0m\u001b[1;33m)\u001b[0m\u001b[1;33m:\u001b[0m\u001b[1;33m\u001b[0m\u001b[1;33m\u001b[0m\u001b[0m\n\u001b[0;32m   3779\u001b[0m             \u001b[1;32mif\u001b[0m \u001b[0mlabels\u001b[0m \u001b[1;32mis\u001b[0m \u001b[1;32mnot\u001b[0m \u001b[1;32mNone\u001b[0m\u001b[1;33m:\u001b[0m\u001b[1;33m\u001b[0m\u001b[1;33m\u001b[0m\u001b[0m\n\u001b[1;32m-> 3780\u001b[1;33m                 \u001b[0mobj\u001b[0m \u001b[1;33m=\u001b[0m \u001b[0mobj\u001b[0m\u001b[1;33m.\u001b[0m\u001b[0m_drop_axis\u001b[0m\u001b[1;33m(\u001b[0m\u001b[0mlabels\u001b[0m\u001b[1;33m,\u001b[0m \u001b[0maxis\u001b[0m\u001b[1;33m,\u001b[0m \u001b[0mlevel\u001b[0m\u001b[1;33m=\u001b[0m\u001b[0mlevel\u001b[0m\u001b[1;33m,\u001b[0m \u001b[0merrors\u001b[0m\u001b[1;33m=\u001b[0m\u001b[0merrors\u001b[0m\u001b[1;33m)\u001b[0m\u001b[1;33m\u001b[0m\u001b[1;33m\u001b[0m\u001b[0m\n\u001b[0m\u001b[0;32m   3781\u001b[0m \u001b[1;33m\u001b[0m\u001b[0m\n\u001b[0;32m   3782\u001b[0m         \u001b[1;32mif\u001b[0m \u001b[0minplace\u001b[0m\u001b[1;33m:\u001b[0m\u001b[1;33m\u001b[0m\u001b[1;33m\u001b[0m\u001b[0m\n",
      "\u001b[1;32m~\\Anaconda3\\lib\\site-packages\\pandas\\core\\generic.py\u001b[0m in \u001b[0;36m_drop_axis\u001b[1;34m(self, labels, axis, level, errors)\u001b[0m\n\u001b[0;32m   3810\u001b[0m                 \u001b[0mnew_axis\u001b[0m \u001b[1;33m=\u001b[0m \u001b[0maxis\u001b[0m\u001b[1;33m.\u001b[0m\u001b[0mdrop\u001b[0m\u001b[1;33m(\u001b[0m\u001b[0mlabels\u001b[0m\u001b[1;33m,\u001b[0m \u001b[0mlevel\u001b[0m\u001b[1;33m=\u001b[0m\u001b[0mlevel\u001b[0m\u001b[1;33m,\u001b[0m \u001b[0merrors\u001b[0m\u001b[1;33m=\u001b[0m\u001b[0merrors\u001b[0m\u001b[1;33m)\u001b[0m\u001b[1;33m\u001b[0m\u001b[1;33m\u001b[0m\u001b[0m\n\u001b[0;32m   3811\u001b[0m             \u001b[1;32melse\u001b[0m\u001b[1;33m:\u001b[0m\u001b[1;33m\u001b[0m\u001b[1;33m\u001b[0m\u001b[0m\n\u001b[1;32m-> 3812\u001b[1;33m                 \u001b[0mnew_axis\u001b[0m \u001b[1;33m=\u001b[0m \u001b[0maxis\u001b[0m\u001b[1;33m.\u001b[0m\u001b[0mdrop\u001b[0m\u001b[1;33m(\u001b[0m\u001b[0mlabels\u001b[0m\u001b[1;33m,\u001b[0m \u001b[0merrors\u001b[0m\u001b[1;33m=\u001b[0m\u001b[0merrors\u001b[0m\u001b[1;33m)\u001b[0m\u001b[1;33m\u001b[0m\u001b[1;33m\u001b[0m\u001b[0m\n\u001b[0m\u001b[0;32m   3813\u001b[0m             \u001b[0mresult\u001b[0m \u001b[1;33m=\u001b[0m \u001b[0mself\u001b[0m\u001b[1;33m.\u001b[0m\u001b[0mreindex\u001b[0m\u001b[1;33m(\u001b[0m\u001b[1;33m**\u001b[0m\u001b[1;33m{\u001b[0m\u001b[0maxis_name\u001b[0m\u001b[1;33m:\u001b[0m \u001b[0mnew_axis\u001b[0m\u001b[1;33m}\u001b[0m\u001b[1;33m)\u001b[0m\u001b[1;33m\u001b[0m\u001b[1;33m\u001b[0m\u001b[0m\n\u001b[0;32m   3814\u001b[0m \u001b[1;33m\u001b[0m\u001b[0m\n",
      "\u001b[1;32m~\\Anaconda3\\lib\\site-packages\\pandas\\core\\indexes\\base.py\u001b[0m in \u001b[0;36mdrop\u001b[1;34m(self, labels, errors)\u001b[0m\n\u001b[0;32m   4963\u001b[0m             \u001b[1;32mif\u001b[0m \u001b[0merrors\u001b[0m \u001b[1;33m!=\u001b[0m \u001b[1;34m'ignore'\u001b[0m\u001b[1;33m:\u001b[0m\u001b[1;33m\u001b[0m\u001b[1;33m\u001b[0m\u001b[0m\n\u001b[0;32m   4964\u001b[0m                 raise KeyError(\n\u001b[1;32m-> 4965\u001b[1;33m                     '{} not found in axis'.format(labels[mask]))\n\u001b[0m\u001b[0;32m   4966\u001b[0m             \u001b[0mindexer\u001b[0m \u001b[1;33m=\u001b[0m \u001b[0mindexer\u001b[0m\u001b[1;33m[\u001b[0m\u001b[1;33m~\u001b[0m\u001b[0mmask\u001b[0m\u001b[1;33m]\u001b[0m\u001b[1;33m\u001b[0m\u001b[1;33m\u001b[0m\u001b[0m\n\u001b[0;32m   4967\u001b[0m         \u001b[1;32mreturn\u001b[0m \u001b[0mself\u001b[0m\u001b[1;33m.\u001b[0m\u001b[0mdelete\u001b[0m\u001b[1;33m(\u001b[0m\u001b[0mindexer\u001b[0m\u001b[1;33m)\u001b[0m\u001b[1;33m\u001b[0m\u001b[1;33m\u001b[0m\u001b[0m\n",
      "\u001b[1;31mKeyError\u001b[0m: \"['id'] not found in axis\""
     ]
    }
   ],
   "source": [
    "movie = movie.drop(columns = 'id')\n"
   ]
  },
  {
   "cell_type": "code",
   "execution_count": 97,
   "metadata": {},
   "outputs": [],
   "source": [
    "movie = movie.dropna()\n",
    "m = 1000\n",
    "movie = movie.iloc[:m]"
   ]
  },
  {
   "cell_type": "code",
   "execution_count": 98,
   "metadata": {},
   "outputs": [
    {
     "name": "stdout",
     "output_type": "stream",
     "text": [
      "<class 'pandas.core.frame.DataFrame'>\n",
      "Int64Index: 1000 entries, 0 to 999\n",
      "Data columns (total 2 columns):\n",
      "document    1000 non-null object\n",
      "label       1000 non-null int64\n",
      "dtypes: int64(1), object(1)\n",
      "memory usage: 23.4+ KB\n"
     ]
    }
   ],
   "source": [
    "movie.info()"
   ]
  },
  {
   "cell_type": "code",
   "execution_count": 99,
   "metadata": {},
   "outputs": [
    {
     "data": {
      "text/plain": [
       "document    0\n",
       "label       0\n",
       "dtype: int64"
      ]
     },
     "execution_count": 99,
     "metadata": {},
     "output_type": "execute_result"
    }
   ],
   "source": [
    "movie.isna().sum()"
   ]
  },
  {
   "cell_type": "code",
   "execution_count": 100,
   "metadata": {},
   "outputs": [],
   "source": [
    "X = movie['document']\n",
    "y = movie.label"
   ]
  },
  {
   "cell_type": "code",
   "execution_count": 101,
   "metadata": {},
   "outputs": [],
   "source": [
    "cv = CountVectorizer(tokenizer=okt_tag.morphs) # 문장 > 벡터"
   ]
  },
  {
   "cell_type": "code",
   "execution_count": 102,
   "metadata": {},
   "outputs": [
    {
     "data": {
      "text/plain": [
       "CountVectorizer(analyzer='word', binary=False, decode_error='strict',\n",
       "        dtype=<class 'numpy.int64'>, encoding='utf-8', input='content',\n",
       "        lowercase=True, max_df=1.0, max_features=None, min_df=1,\n",
       "        ngram_range=(1, 1), preprocessor=None, stop_words=None,\n",
       "        strip_accents=None, token_pattern='(?u)\\\\b\\\\w\\\\w+\\\\b',\n",
       "        tokenizer=<bound method Okt.morphs of <konlpy.tag._okt.Okt object at 0x000001E7889067F0>>,\n",
       "        vocabulary=None)"
      ]
     },
     "execution_count": 102,
     "metadata": {},
     "output_type": "execute_result"
    }
   ],
   "source": [
    "cv.fit(X,y)"
   ]
  },
  {
   "cell_type": "code",
   "execution_count": 104,
   "metadata": {},
   "outputs": [
    {
     "data": {
      "text/plain": [
       "4767"
      ]
     },
     "execution_count": 104,
     "metadata": {},
     "output_type": "execute_result"
    }
   ],
   "source": [
    "len(cv.vocabulary_)"
   ]
  },
  {
   "cell_type": "code",
   "execution_count": 105,
   "metadata": {},
   "outputs": [],
   "source": [
    "X_sm = cv.transform(X)"
   ]
  },
  {
   "cell_type": "code",
   "execution_count": 106,
   "metadata": {},
   "outputs": [
    {
     "data": {
      "text/plain": [
       "<1000x4767 sparse matrix of type '<class 'numpy.int64'>'\n",
       "\twith 13441 stored elements in Compressed Sparse Row format>"
      ]
     },
     "execution_count": 106,
     "metadata": {},
     "output_type": "execute_result"
    }
   ],
   "source": [
    "X_sm"
   ]
  },
  {
   "cell_type": "code",
   "execution_count": 108,
   "metadata": {},
   "outputs": [],
   "source": [
    "from sklearn.model_selection import cross_val_score\n"
   ]
  },
  {
   "cell_type": "code",
   "execution_count": 120,
   "metadata": {},
   "outputs": [
    {
     "data": {
      "text/plain": [
       "array([0.70658683, 0.6996997 , 0.66066066])"
      ]
     },
     "execution_count": 120,
     "metadata": {},
     "output_type": "execute_result"
    }
   ],
   "source": [
    "cross_val_score(RidgeClassifier(),X_sm,y,cv =3)"
   ]
  },
  {
   "cell_type": "code",
   "execution_count": 121,
   "metadata": {},
   "outputs": [
    {
     "name": "stderr",
     "output_type": "stream",
     "text": [
      "C:\\Users\\wtime\\Anaconda3\\lib\\site-packages\\sklearn\\linear_model\\logistic.py:433: FutureWarning: Default solver will be changed to 'lbfgs' in 0.22. Specify a solver to silence this warning.\n",
      "  FutureWarning)\n"
     ]
    }
   ],
   "source": [
    "model = LogisticRegression().fit(X_sm,y)\n"
   ]
  },
  {
   "cell_type": "code",
   "execution_count": 122,
   "metadata": {},
   "outputs": [
    {
     "data": {
      "text/plain": [
       "array([1, 0, 1, 0, 0], dtype=int64)"
      ]
     },
     "execution_count": 122,
     "metadata": {},
     "output_type": "execute_result"
    }
   ],
   "source": [
    "sentence = ['두시간 동안 잘잤습니다','돈이 너무 아까워요.','너무 재밌어요','별로다','거지같어']\n",
    "model.predict(cv.transform(sentence))"
   ]
  },
  {
   "cell_type": "code",
   "execution_count": null,
   "metadata": {},
   "outputs": [],
   "source": []
  }
 ],
 "metadata": {
  "kernelspec": {
   "display_name": "Python 3",
   "language": "python",
   "name": "python3"
  },
  "language_info": {
   "codemirror_mode": {
    "name": "ipython",
    "version": 3
   },
   "file_extension": ".py",
   "mimetype": "text/x-python",
   "name": "python",
   "nbconvert_exporter": "python",
   "pygments_lexer": "ipython3",
   "version": "3.7.3"
  }
 },
 "nbformat": 4,
 "nbformat_minor": 2
}
