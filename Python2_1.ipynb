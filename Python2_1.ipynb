{
 "cells": [
  {
   "cell_type": "markdown",
   "metadata": {},
   "source": [
    "마크다운 셀 변환 m, 코드 셀 y"
   ]
  },
  {
   "cell_type": "code",
   "execution_count": 1,
   "metadata": {},
   "outputs": [
    {
     "data": {
      "text/plain": [
       "(1, 2, 3, 'a', 'bb', 'a')"
      ]
     },
     "execution_count": 1,
     "metadata": {},
     "output_type": "execute_result"
    }
   ],
   "source": [
    "#튜플 (요소, 요소, 요소,.....) 수정이 안됨\n",
    "#용도, 함수의 리턴이 복수개일때 튜플로 반환됩니다. \n",
    "t=(1,2,3, 'a','bb','a')\n",
    "t\n"
   ]
  },
  {
   "cell_type": "code",
   "execution_count": 10,
   "metadata": {},
   "outputs": [
    {
     "data": {
      "text/plain": [
       "2"
      ]
     },
     "execution_count": 10,
     "metadata": {},
     "output_type": "execute_result"
    }
   ],
   "source": [
    "t.count('a')"
   ]
  },
  {
   "cell_type": "code",
   "execution_count": 12,
   "metadata": {},
   "outputs": [
    {
     "data": {
      "text/plain": [
       "3"
      ]
     },
     "execution_count": 12,
     "metadata": {},
     "output_type": "execute_result"
    }
   ],
   "source": [
    "t.index('a')"
   ]
  },
  {
   "cell_type": "code",
   "execution_count": 14,
   "metadata": {},
   "outputs": [
    {
     "data": {
      "text/plain": [
       "{1, 2, 3, 'a', 'bb'}"
      ]
     },
     "execution_count": 14,
     "metadata": {},
     "output_type": "execute_result"
    }
   ],
   "source": [
    "s =set(t) #t를 set으로 변환해라\n",
    "s"
   ]
  },
  {
   "cell_type": "code",
   "execution_count": 16,
   "metadata": {},
   "outputs": [
    {
     "data": {
      "text/plain": [
       "[1, 2, 3, 'bb', 'a']"
      ]
     },
     "execution_count": 16,
     "metadata": {},
     "output_type": "execute_result"
    }
   ],
   "source": [
    "l = list(s) #list로 변환해라\n",
    "l"
   ]
  },
  {
   "cell_type": "code",
   "execution_count": null,
   "metadata": {},
   "outputs": [],
   "source": [
    "list(t), set(t), tuple(t) #타입 변환이 매우 쉽습니다. "
   ]
  },
  {
   "cell_type": "code",
   "execution_count": 29,
   "metadata": {},
   "outputs": [],
   "source": [
    "#함수 만들기, 소문자_소문자.....\n",
    "def add_3(a,b=10,c=1): #기본값 인자 뒷쪽에 놓을 수 있다\n",
    "    '''\n",
    "    문서화 : 이 함수는 값 3개를 더해서 리턴합니다. \n",
    "    '''\n",
    "    return a+b+c\n"
   ]
  },
  {
   "cell_type": "code",
   "execution_count": 31,
   "metadata": {},
   "outputs": [
    {
     "data": {
      "text/plain": [
       "8"
      ]
     },
     "execution_count": 31,
     "metadata": {},
     "output_type": "execute_result"
    }
   ],
   "source": [
    "add_3(1,3,4)\n",
    "add_3(a=100), add_3(a=10,b=20) #가독성"
   ]
  },
  {
   "cell_type": "code",
   "execution_count": null,
   "metadata": {},
   "outputs": [],
   "source": [
    "#return 이 없는 함수 \n",
    "import math\n",
    "def chek_nan(x):\n",
    "    if math.isnan(x): #nan : not a anumber 숫자가 아니다. 0으로나누거나 할때 발생\n",
    "        print(x, '는 nan입니다.')\n",
    "    else : \n",
    "        print(x, '는 숫자입니다.')\n",
    "        \n"
   ]
  },
  {
   "cell_type": "code",
   "execution_count": null,
   "metadata": {},
   "outputs": [],
   "source": [
    "chek_nan(100)"
   ]
  },
  {
   "cell_type": "code",
   "execution_count": null,
   "metadata": {},
   "outputs": [],
   "source": [
    "out =chek_nan(100)\n",
    "print(out) #리턴이 없는 함수에게 리턴을 강제로 받으면 None이 리턴됩니다. "
   ]
  },
  {
   "cell_type": "markdown",
   "metadata": {},
   "source": [
    "클래스를 정의해두고, 사용할때는 인스턴스를 생성해서 클래스의 함수들을 사용합니다. "
   ]
  },
  {
   "cell_type": "code",
   "execution_count": 8,
   "metadata": {},
   "outputs": [],
   "source": [
    "import random\n",
    "class Lotto:\n",
    "    '''\n",
    "    45개 전후의 숫자 중 6개를 맞추는 게임 : 1등 1~45의 숫자\n",
    "    '''\n",
    "    def __init__(self): #함수의 첫번째 인자로 self 를 넣어줍니다. JAVA의 this에 해당\n",
    "        print(\"생성자\")\n",
    "        \n",
    "        print(\"로또 정답 생성자\")\n",
    "        self.target = [ ]#정답 list, self를 붙이면 클래스 변수가 됩니다. \n",
    "        for i in range(5) :\n",
    "            v = random.randint(1,45) #중복번호 제거 구현해야 함\n",
    "            while(v in self.target) : #기존에 있는 번호면 다시 뽑아라\n",
    "                v = random.randint(1,45)\n",
    "            self.target.append(v)\n",
    "        print(self.target)\n",
    "    \n",
    "    def select(self, nums): \n",
    "        print('정답', self.target, '예측', nums)\n",
    "        k=0\n",
    "        for i in range(5) :\n",
    "            if nums[i] in self.target:#내가 뽑은 번호가 정답이면\n",
    "                k+=1#파이선은 ++,-- 증감연산자가 없다.\n",
    "        if k==5 :\n",
    "            print('1등 당첨되셨습니다 ')\n",
    "        elif k > 1 :\n",
    "            print('축하합니다. ',k,'개 맞췄습니다')\n",
    "        else :\n",
    "            print('땡')\n",
    "        #5개의 당첨번호 1~45\n",
    "   \n",
    "    "
   ]
  },
  {
   "cell_type": "code",
   "execution_count": 4,
   "metadata": {},
   "outputs": [
    {
     "name": "stdout",
     "output_type": "stream",
     "text": [
      "생성자\n",
      "로또 정답 생성자\n",
      "[5, 38, 6, 26, 30]\n",
      "생성자\n",
      "로또 정답 생성자\n",
      "[44, 13, 9, 45, 34]\n"
     ]
    },
    {
     "data": {
      "text/plain": [
       "<__main__.Lotto at 0x1830b632c18>"
      ]
     },
     "execution_count": 4,
     "metadata": {},
     "output_type": "execute_result"
    }
   ],
   "source": [
    "#객체(인스턴스) 생성 방법 : 클래스이름()\n",
    "\n",
    "lotto1 = Lotto()\n",
    "lotto2 = Lotto()\n",
    "lotto1"
   ]
  },
  {
   "cell_type": "code",
   "execution_count": 9,
   "metadata": {},
   "outputs": [
    {
     "name": "stdout",
     "output_type": "stream",
     "text": [
      "생성자\n",
      "로또 정답 생성자\n",
      "[10, 36, 16, 22, 44]\n",
      "정답 [10, 36, 16, 22, 44] 예측 [1, 2, 3, 4, 5]\n",
      "땡\n"
     ]
    }
   ],
   "source": [
    "#게임참여. 내가 숫자 5개를 선택하면 축하합니다\n",
    "lotto3 =Lotto()\n",
    "lotto3.select([1,2,3,4,5])"
   ]
  },
  {
   "cell_type": "code",
   "execution_count": null,
   "metadata": {},
   "outputs": [],
   "source": []
  }
 ],
 "metadata": {
  "kernelspec": {
   "display_name": "Python 3",
   "language": "python",
   "name": "python3"
  },
  "language_info": {
   "codemirror_mode": {
    "name": "ipython",
    "version": 3
   },
   "file_extension": ".py",
   "mimetype": "text/x-python",
   "name": "python",
   "nbconvert_exporter": "python",
   "pygments_lexer": "ipython3",
   "version": "3.7.3"
  }
 },
 "nbformat": 4,
 "nbformat_minor": 2
}
