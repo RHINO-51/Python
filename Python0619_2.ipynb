{
 "cells": [
  {
   "cell_type": "markdown",
   "metadata": {},
   "source": [
    "## 서울 지하철 유/무임 승차 데이터\n",
    "T-money 제공"
   ]
  },
  {
   "cell_type": "code",
   "execution_count": 2,
   "metadata": {},
   "outputs": [],
   "source": [
    "import numpy as np\n",
    "import pandas as pd\n",
    "import matplotlib.pyplot as plt"
   ]
  },
  {
   "cell_type": "code",
   "execution_count": 9,
   "metadata": {},
   "outputs": [
    {
     "data": {
      "text/plain": [
       "((597, 9),\n",
       " <bound method NDFrame.head of         사용월       호선명   역ID          지하철역     유임승차     유임하차    무임승차    무임하차  \\\n",
       " 0    May-19       1호선   150           서울역  1568570  1489737  247801  242107   \n",
       " 1    May-19       1호선   151            시청   709821   727110  112279  112016   \n",
       " 2    May-19       1호선   152            종각  1204910  1151371  176083  164915   \n",
       " 3    May-19       1호선   153          종로3가   699000   647664  408682  382809   \n",
       " 4    May-19       1호선   154          종로5가   561662   578374  307515  295535   \n",
       " 5    May-19       1호선   155           동대문   338565   385522  151904  158360   \n",
       " 6    May-19       1호선   156           신설동   386676   376451  131597  126524   \n",
       " 7    May-19       1호선   157           제기동   297370   286647  353695  375436   \n",
       " 8    May-19       1호선   158  청량리(서울시립대입구)   480600   499265  336216  341637   \n",
       " 9    May-19       1호선   159           동묘앞   204325   225362  171004  173844   \n",
       " 10   May-19       2호선   201            시청   742471   719019   65213   60288   \n",
       " 11   May-19       2호선   202         을지로입구  1458984  1462646  122625  113191   \n",
       " 12   May-19       2호선   203         을지로3가   631678   629124   96041   94877   \n",
       " 13   May-19       2호선   204         을지로4가   289575   295316   97370   92916   \n",
       " 14   May-19       2호선   205     동대문역사문화공원   565829   659176   66155   70818   \n",
       " 15   May-19       2호선   206            신당   373697   387807  110881  113045   \n",
       " 16   May-19       2호선   207          상왕십리   392943   366902   74458   74948   \n",
       " 17   May-19       2호선   208     왕십리(성동구청)   598446   477936   64527   54497   \n",
       " 18   May-19       2호선   209           한양대   399102   464782   17421   18934   \n",
       " 19   May-19       2호선   210            뚝섬   558111   595170   68993   69296   \n",
       " 20   May-19       2호선   211            성수   797223   878780  114884  116456   \n",
       " 21   May-19       2호선   212          건대입구  1378810  1494957  105074  109681   \n",
       " 22   May-19       2호선   213      구의(광진구청)   662806   629776  116901  117767   \n",
       " 23   May-19       2호선   214    강변(동서울터미널)  1310416  1289645  160160  155742   \n",
       " 24   May-19       2호선   215          잠실나루   435371   420614   98291   98961   \n",
       " 25   May-19       2호선   216      잠실(송파구청)  2539574  2462479  233044  219947   \n",
       " 26   May-19       2호선   217          잠실새내   693826   697802  122023  121641   \n",
       " 27   May-19       2호선   218         종합운동장   455844   527807   67352   71812   \n",
       " 28   May-19       2호선   219      삼성(무역센터)  1781824  1842623  134802  127716   \n",
       " 29   May-19       2호선   220            선릉  1460528  1300444  234778  207100   \n",
       " ..      ...       ...   ...           ...      ...      ...     ...     ...   \n",
       " 567  May-19  공항철도 1호선  4212        공항화물청사    66233    75625    8711    8706   \n",
       " 568  May-19  공항철도 1호선  4213      인천공항1터미널   463395   457635   44785   42917   \n",
       " 569  May-19  공항철도 1호선  4215      인천공항2터미널   154235   132918   17703   15332   \n",
       " 570  May-19  공항철도 1호선  4217            영종    69211    71095   18621   18989   \n",
       " 571  May-19  9호선2~3단계  4126            언주   239146   236941   27257   26900   \n",
       " 572  May-19  9호선2~3단계  4127           선정릉   233212   253335   25599   26348   \n",
       " 573  May-19  9호선2~3단계  4128          삼성중앙   151609   153935   24673   24499   \n",
       " 574  May-19  9호선2~3단계  4129           봉은사   516581   526523   55496   52784   \n",
       " 575  May-19  9호선2~3단계  4130         종합운동장   136121   117397   20759   17270   \n",
       " 576  May-19  9호선2~3단계  4131            삼전   133580   129719   31255   30715   \n",
       " 577  May-19  9호선2~3단계  4132          석촌고분   117704   114493   31710   31310   \n",
       " 578  May-19  9호선2~3단계  4133            석촌   179716   141176   30256   24672   \n",
       " 579  May-19  9호선2~3단계  4134          송파나루    94041    96404   23180   23605   \n",
       " 580  May-19  9호선2~3단계  4135          한성백제    62156    53927   13460   11685   \n",
       " 581  May-19  9호선2~3단계  4136   올림픽공원(한국체대)   219121   223706   23546   24124   \n",
       " 582  May-19  9호선2~3단계  4137          둔촌오륜    24578    21675    6062    5997   \n",
       " 583  May-19  9호선2~3단계  4138        중앙보훈병원   157908   139342   64843   65287   \n",
       " 584  May-19     우이신설선  4701         북한산우이    71259    62823   41660   41735   \n",
       " 585  May-19     우이신설선  4702          솔밭공원    47882    44027   29918   31243   \n",
       " 586  May-19     우이신설선  4703      4.19민주묘지    85656    84854   35103   32252   \n",
       " 587  May-19     우이신설선  4704           가오리    83570    76020   48326   49502   \n",
       " 588  May-19     우이신설선  4705            화계    65657    56584   42866   43383   \n",
       " 589  May-19     우이신설선  4706            삼양    36724    38053   28340   31710   \n",
       " 590  May-19     우이신설선  4707         삼양사거리    40148    40223   37748   38886   \n",
       " 591  May-19     우이신설선  4708            솔샘   142673   127246   38536   39725   \n",
       " 592  May-19     우이신설선  4709        북한산보국문   161867   141742   45041   45814   \n",
       " 593  May-19     우이신설선  4710            정릉    97184    84030   48775   45712   \n",
       " 594  May-19     우이신설선  4711    성신여대입구(돈암)    87982   103574   34415   32373   \n",
       " 595  May-19     우이신설선  4712            보문    35939    36973   17275   17703   \n",
       " 596  May-19     우이신설선  4713           신설동    42076    44785   23061   20860   \n",
       " \n",
       "                  작업일시  \n",
       " 0    2019-06-03 10:56  \n",
       " 1    2019-06-03 10:56  \n",
       " 2    2019-06-03 10:56  \n",
       " 3    2019-06-03 10:56  \n",
       " 4    2019-06-03 10:56  \n",
       " 5    2019-06-03 10:56  \n",
       " 6    2019-06-03 10:56  \n",
       " 7    2019-06-03 10:56  \n",
       " 8    2019-06-03 10:56  \n",
       " 9    2019-06-03 10:56  \n",
       " 10   2019-06-03 10:56  \n",
       " 11   2019-06-03 10:56  \n",
       " 12   2019-06-03 10:56  \n",
       " 13   2019-06-03 10:56  \n",
       " 14   2019-06-03 10:56  \n",
       " 15   2019-06-03 10:56  \n",
       " 16   2019-06-03 10:56  \n",
       " 17   2019-06-03 10:56  \n",
       " 18   2019-06-03 10:56  \n",
       " 19   2019-06-03 10:56  \n",
       " 20   2019-06-03 10:56  \n",
       " 21   2019-06-03 10:56  \n",
       " 22   2019-06-03 10:56  \n",
       " 23   2019-06-03 10:56  \n",
       " 24   2019-06-03 10:56  \n",
       " 25   2019-06-03 10:56  \n",
       " 26   2019-06-03 10:56  \n",
       " 27   2019-06-03 10:56  \n",
       " 28   2019-06-03 10:56  \n",
       " 29   2019-06-03 10:56  \n",
       " ..                ...  \n",
       " 567  2019-06-03 10:56  \n",
       " 568  2019-06-03 10:56  \n",
       " 569  2019-06-03 10:56  \n",
       " 570  2019-06-03 10:56  \n",
       " 571  2019-06-03 10:56  \n",
       " 572  2019-06-03 10:56  \n",
       " 573  2019-06-03 10:56  \n",
       " 574  2019-06-03 10:56  \n",
       " 575  2019-06-03 10:56  \n",
       " 576  2019-06-03 10:56  \n",
       " 577  2019-06-03 10:56  \n",
       " 578  2019-06-03 10:56  \n",
       " 579  2019-06-03 10:56  \n",
       " 580  2019-06-03 10:56  \n",
       " 581  2019-06-03 10:56  \n",
       " 582  2019-06-03 10:56  \n",
       " 583  2019-06-03 10:56  \n",
       " 584  2019-06-03 10:56  \n",
       " 585  2019-06-03 10:56  \n",
       " 586  2019-06-03 10:56  \n",
       " 587  2019-06-03 10:56  \n",
       " 588  2019-06-03 10:56  \n",
       " 589  2019-06-03 10:56  \n",
       " 590  2019-06-03 10:56  \n",
       " 591  2019-06-03 10:56  \n",
       " 592  2019-06-03 10:56  \n",
       " 593  2019-06-03 10:56  \n",
       " 594  2019-06-03 10:56  \n",
       " 595  2019-06-03 10:56  \n",
       " 596  2019-06-03 10:56  \n",
       " \n",
       " [597 rows x 9 columns]>)"
      ]
     },
     "execution_count": 9,
     "metadata": {},
     "output_type": "execute_result"
    }
   ],
   "source": [
    "df =pd.read_csv('subwayfee.csv', encoding='cp949')\n",
    "df = df.dropna() #누락값이 있는 행은 버린다.\n",
    "df.shape, df.head"
   ]
  },
  {
   "cell_type": "code",
   "execution_count": 11,
   "metadata": {},
   "outputs": [
    {
     "data": {
      "text/plain": [
       "((597, 9),\n",
       " array(['May-19', '1호선', 150, '서울역', 1568570, 1489737, 247801, 242107,\n",
       "        '2019-06-03 10:56'], dtype=object))"
      ]
     },
     "execution_count": 11,
     "metadata": {},
     "output_type": "execute_result"
    }
   ],
   "source": [
    "\n",
    "arr = np.array(df) #배열로 변환\n",
    "arr.shape, arr[0]"
   ]
  },
  {
   "cell_type": "code",
   "execution_count": 18,
   "metadata": {},
   "outputs": [
    {
     "data": {
      "text/plain": [
       "(array(['2호선', '강남'], dtype=object), 2894341, 31)"
      ]
     },
     "execution_count": 18,
     "metadata": {},
     "output_type": "execute_result"
    }
   ],
   "source": [
    "유임승차 = (arr[:,4]).astype(np.int)\n",
    "arr[np.argmax(유임승차), 1:4:2],np.max(유임승차), np.argmax(유임승차)"
   ]
  },
  {
   "cell_type": "code",
   "execution_count": 20,
   "metadata": {},
   "outputs": [
    {
     "data": {
      "text/plain": [
       "(array(['분당선', '복정'], dtype=object), 24.0, 237)"
      ]
     },
     "execution_count": 20,
     "metadata": {},
     "output_type": "execute_result"
    }
   ],
   "source": [
    "무임승차 = (arr[:,6]).astype(np.int)\n",
    "유임승차비율 = 유임승차/(무임승차+1)\n",
    "arr[np.argmax(유임승차비율), 1:4:2],np.max(유임승차비율), np.argmax(유임승차비율)"
   ]
  },
  {
   "cell_type": "markdown",
   "metadata": {},
   "source": [
    "#유무임 승하차 인원이 가장 많은 역은 어디일까"
   ]
  },
  {
   "cell_type": "code",
   "execution_count": 25,
   "metadata": {},
   "outputs": [
    {
     "data": {
      "text/plain": [
       "(array(['1호선', '종로3가'], dtype=object), 791491, 3)"
      ]
     },
     "execution_count": 25,
     "metadata": {},
     "output_type": "execute_result"
    }
   ],
   "source": [
    "전체승하차인원 = arr[:,6:8].astype(np.int)\n",
    "역이용인원 = np.sum(전체승하차인원, axis=1)\n",
    "arr[np.argmax(역이용인원), 1:4:2], np.max(역이용인원), np.argmax(역이용인원)"
   ]
  },
  {
   "cell_type": "code",
   "execution_count": 31,
   "metadata": {},
   "outputs": [
    {
     "data": {
      "image/png": "[encoded data removed]",
      "text/plain": [
       "<Figure size 432x288 with 1 Axes>"
      ]
     },
     "metadata": {},
     "output_type": "display_data"
    }
   ],
   "source": [
    "columns = arr[0,:]\n",
    "a = np.sum(arr[:,4:8].astype(np.int),axis=0)\n",
    "plt.rc('font', family=\"Malgun Gothic\")\n",
    "n = plt.pie(a, labels=df.columns[4:8], autopct='%.1f',explode=[0,0,0.1,0.1])\n"
   ]
  },
  {
   "cell_type": "markdown",
   "metadata": {},
   "source": [
    "모든 역마다 유무임 승차 비율을 따로 파이차트로 나타내기(100만명 이상)"
   ]
  },
  {
   "cell_type": "code",
   "execution_count": 34,
   "metadata": {},
   "outputs": [],
   "source": [
    "for i in range(len(arr)) : \n",
    "    row =arr[i]\n",
    "    승하차인원 = row[4:8]\n",
    "    유임승차 = 승하차인원[0]\n",
    "    if 유임승차>1000000:\n",
    "        plt.rc('font', family=\"Malgun Gothic\")\n",
    "        n = plt.pie(row[4:8], labels=df.columns[4:8], autopct='%.1f',explode=[0,0,0.1,0.1])\n",
    "        역이름 = row[3]\n",
    "        파일명 = 'subway_' +역이름 + '.png'\n",
    "        plt.title(역이름+'역 유무임 승차 비율')\n",
    "        plt.savefig(파일명)\n",
    "        plt.close()"
   ]
  }
 ],
 "metadata": {
  "kernelspec": {
   "display_name": "Python 3",
   "language": "python",
   "name": "python3"
  },
  "language_info": {
   "codemirror_mode": {
    "name": "ipython",
    "version": 3
   },
   "file_extension": ".py",
   "mimetype": "text/x-python",
   "name": "python",
   "nbconvert_exporter": "python",
   "pygments_lexer": "ipython3",
   "version": "3.7.3"
  }
 },
 "nbformat": 4,
 "nbformat_minor": 2
}
