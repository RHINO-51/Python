{
 "cells": [
  {
   "cell_type": "code",
   "execution_count": 1,
   "metadata": {},
   "outputs": [],
   "source": [
    "import numpy as np"
   ]
  },
  {
   "cell_type": "code",
   "execution_count": 8,
   "metadata": {},
   "outputs": [],
   "source": [
    "#배열 생성하기\n",
    "a = np.array([1,2,3,4]) #리스트를 배열로 변환\n",
    "b = np.zeros(shape=(3,4), dtype=np.int)\n",
    "c = np.ones(shape=(3,4), dtype=np.float)\n",
    "d = np.arange(1,8,2)"
   ]
  },
  {
   "cell_type": "code",
   "execution_count": 10,
   "metadata": {},
   "outputs": [
    {
     "data": {
      "text/plain": [
       "(array([1, 3, 5, 7]),\n",
       " array([0, 0, 0, 0]),\n",
       " array([1, 1, 1, 1]),\n",
       " array([[1., 0., 0.],\n",
       "        [0., 1., 0.],\n",
       "        [0., 0., 1.]]))"
      ]
     },
     "execution_count": 10,
     "metadata": {},
     "output_type": "execute_result"
    }
   ],
   "source": [
    "d, np.zeros_like(d), np.ones_like(d), np.eye(3)"
   ]
  },
  {
   "cell_type": "code",
   "execution_count": 15,
   "metadata": {},
   "outputs": [
    {
     "data": {
      "text/plain": [
       "array([1, 3, 5, 7])"
      ]
     },
     "execution_count": 15,
     "metadata": {},
     "output_type": "execute_result"
    }
   ],
   "source": [
    "d"
   ]
  },
  {
   "cell_type": "code",
   "execution_count": 18,
   "metadata": {},
   "outputs": [
    {
     "data": {
      "text/plain": [
       "(7, array([3, 5]))"
      ]
     },
     "execution_count": 18,
     "metadata": {},
     "output_type": "execute_result"
    }
   ],
   "source": [
    "#데이터를 뽑는것 인덱싱, 데이터를 자르는 것 slice\n",
    "d[-1],d[1:-1]"
   ]
  },
  {
   "cell_type": "code",
   "execution_count": 26,
   "metadata": {},
   "outputs": [
    {
     "data": {
      "text/plain": [
       "((3, 4), array([[ 0,  1,  2,  3],\n",
       "        [ 4,  5,  6,  7],\n",
       "        [ 8,  9, 10, 11]]), array([[0, 0, 0, 0],\n",
       "        [0, 0, 0, 0],\n",
       "        [0, 0, 0, 0]]))"
      ]
     },
     "execution_count": 26,
     "metadata": {},
     "output_type": "execute_result"
    }
   ],
   "source": [
    "a= np.arange(12).reshape((-1,4))\n",
    "a.shape, a, b"
   ]
  },
  {
   "cell_type": "code",
   "execution_count": 28,
   "metadata": {},
   "outputs": [
    {
     "data": {
      "text/plain": [
       "array([[ 0,  1,  2,  3,  0,  0,  0,  0],\n",
       "       [ 4,  5,  6,  7,  0,  0,  0,  0],\n",
       "       [ 8,  9, 10, 11,  0,  0,  0,  0]])"
      ]
     },
     "execution_count": 28,
     "metadata": {},
     "output_type": "execute_result"
    }
   ],
   "source": [
    "#잇다, 연결하다 : 차원 고정\n",
    "np.concatenate((a,b),axis=1)"
   ]
  },
  {
   "cell_type": "code",
   "execution_count": 30,
   "metadata": {},
   "outputs": [
    {
     "data": {
      "text/plain": [
       "((3, 4), (3, 4))"
      ]
     },
     "execution_count": 30,
     "metadata": {},
     "output_type": "execute_result"
    }
   ],
   "source": [
    "a.shape, b.shape"
   ]
  },
  {
   "cell_type": "code",
   "execution_count": 42,
   "metadata": {},
   "outputs": [
    {
     "data": {
      "text/plain": [
       "(array([[[ 0,  1,  2,  3],\n",
       "         [ 4,  5,  6,  7],\n",
       "         [ 8,  9, 10, 11]],\n",
       " \n",
       "        [[ 0,  0,  0,  0],\n",
       "         [ 0,  0,  0,  0],\n",
       "         [ 0,  0,  0,  0]]]), (2, 3, 4))"
      ]
     },
     "execution_count": 42,
     "metadata": {},
     "output_type": "execute_result"
    }
   ],
   "source": [
    "np.stack((a,b),axis=0),np.stack((a,b),axis=0).shape"
   ]
  },
  {
   "cell_type": "code",
   "execution_count": 43,
   "metadata": {},
   "outputs": [
    {
     "data": {
      "text/plain": [
       "(array([[[ 0,  1,  2,  3],\n",
       "         [ 0,  0,  0,  0]],\n",
       " \n",
       "        [[ 4,  5,  6,  7],\n",
       "         [ 0,  0,  0,  0]],\n",
       " \n",
       "        [[ 8,  9, 10, 11],\n",
       "         [ 0,  0,  0,  0]]]), (3, 2, 4))"
      ]
     },
     "execution_count": 43,
     "metadata": {},
     "output_type": "execute_result"
    }
   ],
   "source": [
    "np.stack((a,b),axis=1),np.stack((a,b),axis=1).shape"
   ]
  },
  {
   "cell_type": "code",
   "execution_count": 45,
   "metadata": {},
   "outputs": [
    {
     "data": {
      "text/plain": [
       "(array([[[ 0,  0],\n",
       "         [ 1,  0],\n",
       "         [ 2,  0],\n",
       "         [ 3,  0]],\n",
       " \n",
       "        [[ 4,  0],\n",
       "         [ 5,  0],\n",
       "         [ 6,  0],\n",
       "         [ 7,  0]],\n",
       " \n",
       "        [[ 8,  0],\n",
       "         [ 9,  0],\n",
       "         [10,  0],\n",
       "         [11,  0]]]), (3, 4, 2))"
      ]
     },
     "execution_count": 45,
     "metadata": {},
     "output_type": "execute_result"
    }
   ],
   "source": [
    "np.stack((a,b),axis=2), np.stack((a,b),axis=2).shape"
   ]
  },
  {
   "cell_type": "markdown",
   "metadata": {},
   "source": [
    "## 유닛 6 기온 데이터를 다양하게 시각화하기\n"
   ]
  },
  {
   "cell_type": "code",
   "execution_count": 3,
   "metadata": {},
   "outputs": [
    {
     "data": {
      "text/plain": [
       "[<matplotlib.lines.Line2D at 0x199e14bc128>]"
      ]
     },
     "execution_count": 3,
     "metadata": {},
     "output_type": "execute_result"
    },
    {
     "data": {
      "image/png": "[encoded data removed]",
      "text/plain": [
       "<Figure size 432x288 with 1 Axes>"
      ]
     },
     "metadata": {
      "needs_background": "light"
     },
     "output_type": "display_data"
    }
   ],
   "source": [
    "import matplotlib.pyplot as plt\n",
    "x = np.random.randint(1,5,size=(10))\n",
    "plt.hist(x)\n",
    "plt.plot(x)\n"
   ]
  },
  {
   "cell_type": "code",
   "execution_count": 61,
   "metadata": {},
   "outputs": [],
   "source": [
    "#천번의 주사위 던지기 기록을 생성합니다. \n",
    "x= np.random.randint(low=1, high=7, size= 1000)\n"
   ]
  },
  {
   "cell_type": "code",
   "execution_count": 63,
   "metadata": {
    "scrolled": true
   },
   "outputs": [
    {
     "data": {
      "text/plain": [
       "(array([167., 186., 162., 169., 165., 151.]),\n",
       " array([1.        , 1.83333333, 2.66666667, 3.5       , 4.33333333,\n",
       "        5.16666667, 6.        ]),\n",
       " <a list of 6 Patch objects>)"
      ]
     },
     "execution_count": 63,
     "metadata": {},
     "output_type": "execute_result"
    },
    {
     "data": {
      "image/png": "[encoded data removed]",
      "text/plain": [
       "<Figure size 432x288 with 1 Axes>"
      ]
     },
     "metadata": {
      "needs_background": "light"
     },
     "output_type": "display_data"
    }
   ],
   "source": [
    "plt.hist(x, bins=6) # 6개의 막대로 표현하기"
   ]
  },
  {
   "cell_type": "markdown",
   "metadata": {},
   "source": [
    "유닛6-3 서울 기온 데이터를 히스토그램으로 표현하기\n"
   ]
  },
  {
   "cell_type": "code",
   "execution_count": 23,
   "metadata": {},
   "outputs": [],
   "source": [
    "import csv\n",
    "import numpy as np"
   ]
  },
  {
   "cell_type": "code",
   "execution_count": 24,
   "metadata": {},
   "outputs": [
    {
     "data": {
      "text/plain": [
       "<_io.TextIOWrapper name='seoul.csv' mode='r' encoding='cp949'>"
      ]
     },
     "execution_count": 24,
     "metadata": {},
     "output_type": "execute_result"
    }
   ],
   "source": [
    "f = open('seoul.csv')\n",
    "f"
   ]
  },
  {
   "cell_type": "code",
   "execution_count": 25,
   "metadata": {},
   "outputs": [
    {
     "data": {
      "text/plain": [
       "['지점번호', '지점명', '일시', '평균기온(℃)', '최고기온(℃)', '최고기온시각', '최저기온(℃)', '최저기온시각']"
      ]
     },
     "execution_count": 25,
     "metadata": {},
     "output_type": "execute_result"
    }
   ],
   "source": [
    "data = csv.reader(f)\n",
    "next(data)"
   ]
  },
  {
   "cell_type": "code",
   "execution_count": 7,
   "metadata": {},
   "outputs": [],
   "source": [
    "result=[] #비어있는 리스트를 준비\n",
    "#누락된 기온 ''\n",
    "for row in data : #한줄 한줄 꺼낸다\n",
    "    if row[-1] !='':\n",
    "        result.append(float(row[4]))"
   ]
  },
  {
   "cell_type": "code",
   "execution_count": 9,
   "metadata": {},
   "outputs": [
    {
     "data": {
      "text/plain": [
       "[24.8,\n",
       " 30.0,\n",
       " 29.1,\n",
       " 27.6,\n",
       " 31.4,\n",
       " 31.2,\n",
       " 30.6,\n",
       " 27.1,\n",
       " 28.0,\n",
       " 26.6,\n",
       " 26.8,\n",
       " 22.9,\n",
       " 24.4,\n",
       " 25.0,\n",
       " 24.8,\n",
       " 28.6,\n",
       " 28.4,\n",
       " 28.9,\n",
       " 26.2,\n",
       " 26.1,\n",
       " 28.4,\n",
       " 29.2,\n",
       " 21.3,\n",
       " 17.7,\n",
       " 25.0,\n",
       " 27.7,\n",
       " 27.5,\n",
       " 30.0,\n",
       " 32.0,\n",
       " 31.5]"
      ]
     },
     "execution_count": 9,
     "metadata": {},
     "output_type": "execute_result"
    }
   ],
   "source": [
    "result"
   ]
  },
  {
   "cell_type": "code",
   "execution_count": 13,
   "metadata": {},
   "outputs": [
    {
     "data": {
      "image/png": "[encoded data removed]",
      "text/plain": [
       "<Figure size 216x86.4 with 1 Axes>"
      ]
     },
     "metadata": {
      "needs_background": "light"
     },
     "output_type": "display_data"
    }
   ],
   "source": [
    "plt.figure(figsize=(3,1.2))\n",
    "n = plt.hist(result, bins=100,color='r')"
   ]
  },
  {
   "cell_type": "code",
   "execution_count": 26,
   "metadata": {},
   "outputs": [
    {
     "data": {
      "text/plain": [
       "(30,\n",
       " [['108', '서울', '2002-06-01', '20.2', '24.8', '12:29', '17.1', '0:06'],\n",
       "  ['108', '서울', '2002-06-02', '22.9', '30', '15:08', '15.3', '4:50'],\n",
       "  ['108', '서울', '2002-06-03', '23.4', '29.1', '14:45', '17.6', '5:31'],\n",
       "  ['108', '서울', '2002-06-04', '22.4', '27.6', '14:06', '18.2', '4:29'],\n",
       "  ['108', '서울', '2002-06-05', '25.2', '31.4', '15:13', '19.1', '4:43'],\n",
       "  ['108', '서울', '2002-06-06', '25.9', '31.2', '13:07', '21.2', '5:57'],\n",
       "  ['108', '서울', '2002-06-07', '25.2', '30.6', '13:23', '19.6', '23:56'],\n",
       "  ['108', '서울', '2002-06-08', '22.1', '27.1', '17:03', '19.4', '0:15'],\n",
       "  ['108', '서울', '2002-06-09', '22.8', '28', '13:12', '18.3', '5:12'],\n",
       "  ['108', '서울', '2002-06-10', '22.4', '26.6', '13:23', '20', '23:00'],\n",
       "  ['108', '서울', '2002-06-11', '21.9', '26.8', '15:14', '19', '4:20'],\n",
       "  ['108', '서울', '2002-06-12', '18.6', '22.9', '10:47', '16.6', '4:08'],\n",
       "  ['108', '서울', '2002-06-13', '19.7', '24.4', '14:35', '16', '5:09'],\n",
       "  ['108', '서울', '2002-06-14', '20.4', '25', '13:00', '16.4', '5:18'],\n",
       "  ['108', '서울', '2002-06-15', '20.6', '24.8', '17:10', '17.4', '4:53'],\n",
       "  ['108', '서울', '2002-06-16', '22.4', '28.6', '15:46', '15.7', '5:06'],\n",
       "  ['108', '서울', '2002-06-17', '23.2', '28.4', '13:50', '17.9', '5:28'],\n",
       "  ['108', '서울', '2002-06-18', '23.4', '28.9', '14:08', '19', '5:56'],\n",
       "  ['108', '서울', '2002-06-19', '22.3', '26.2', '14:51', '20.2', '2:03'],\n",
       "  ['108', '서울', '2002-06-20', '22.2', '26.1', '14:42', '19.2', '8:38'],\n",
       "  ['108', '서울', '2002-06-21', '23.6', '28.4', '15:38', '18.8', '5:48'],\n",
       "  ['108', '서울', '2002-06-22', '23.7', '29.2', '15:45', '18.9', '6:17'],\n",
       "  ['108', '서울', '2002-06-23', '18.1', '21.3', '0:00', '16.9', '7:45'],\n",
       "  ['108', '서울', '2002-06-24', '16.4', '17.7', '9:04', '15.3', '13:57'],\n",
       "  ['108', '서울', '2002-06-25', '19.8', '25', '15:11', '15.5', '4:48'],\n",
       "  ['108', '서울', '2002-06-26', '20.9', '27.7', '16:41', '14.5', '5:02'],\n",
       "  ['108', '서울', '2002-06-27', '21.6', '27.5', '12:57', '16.5', '5:25'],\n",
       "  ['108', '서울', '2002-06-28', '23.6', '30', '15:05', '17.4', '5:21'],\n",
       "  ['108', '서울', '2002-06-29', '25.8', '32', '16:09', '18.9', '4:54'],\n",
       "  ['108', '서울', '2002-06-30', '26.3', '31.5', '13:17', '22.4', '5:32']])"
      ]
     },
     "execution_count": 26,
     "metadata": {},
     "output_type": "execute_result"
    }
   ],
   "source": [
    "rows = []\n",
    "for row in data:\n",
    "    rows.append(row)\n",
    "len(rows), rows"
   ]
  },
  {
   "cell_type": "markdown",
   "metadata": {},
   "source": [
    "상자 그림(box plot)"
   ]
  },
  {
   "cell_type": "code",
   "execution_count": 35,
   "metadata": {},
   "outputs": [
    {
     "data": {
      "text/plain": [
       "(5.888888888888889, 4.0)"
      ]
     },
     "execution_count": 35,
     "metadata": {},
     "output_type": "execute_result"
    }
   ],
   "source": [
    "x = np.array([1,2,3,4,10,11,12,20,-10])\n",
    "np.mean(x), np.median(x)"
   ]
  },
  {
   "cell_type": "code",
   "execution_count": 36,
   "metadata": {},
   "outputs": [
    {
     "data": {
      "text/plain": [
       "{'whiskers': [<matplotlib.lines.Line2D at 0x199e1950da0>,\n",
       "  <matplotlib.lines.Line2D at 0x199e1959128>],\n",
       " 'caps': [<matplotlib.lines.Line2D at 0x199e1959470>,\n",
       "  <matplotlib.lines.Line2D at 0x199e19597b8>],\n",
       " 'boxes': [<matplotlib.lines.Line2D at 0x199e1950c50>],\n",
       " 'medians': [<matplotlib.lines.Line2D at 0x199e1959b00>],\n",
       " 'fliers': [<matplotlib.lines.Line2D at 0x199e1959e48>],\n",
       " 'means': []}"
      ]
     },
     "execution_count": 36,
     "metadata": {},
     "output_type": "execute_result"
    },
    {
     "data": {
      "image/png": "[encoded data removed]",
      "text/plain": [
       "<Figure size 432x288 with 1 Axes>"
      ]
     },
     "metadata": {
      "needs_background": "light"
     },
     "output_type": "display_data"
    }
   ],
   "source": [
    "plt.boxplot(x)"
   ]
  },
  {
   "cell_type": "code",
   "execution_count": 39,
   "metadata": {},
   "outputs": [
    {
     "data": {
      "image/png": "[encoded data removed]",
      "text/plain": [
       "<Figure size 432x288 with 1 Axes>"
      ]
     },
     "metadata": {
      "needs_background": "light"
     },
     "output_type": "display_data"
    }
   ],
   "source": [
    "n= plt.boxplot(result) #"
   ]
  },
  {
   "cell_type": "code",
   "execution_count": 48,
   "metadata": {},
   "outputs": [
    {
     "data": {
      "text/html": [
       "<div>\n",
       "<style scoped>\n",
       "    .dataframe tbody tr th:only-of-type {\n",
       "        vertical-align: middle;\n",
       "    }\n",
       "\n",
       "    .dataframe tbody tr th {\n",
       "        vertical-align: top;\n",
       "    }\n",
       "\n",
       "    .dataframe thead th {\n",
       "        text-align: right;\n",
       "    }\n",
       "</style>\n",
       "<table border=\"1\" class=\"dataframe\">\n",
       "  <thead>\n",
       "    <tr style=\"text-align: right;\">\n",
       "      <th></th>\n",
       "      <th>지점번호</th>\n",
       "      <th>지점명</th>\n",
       "      <th>일시</th>\n",
       "      <th>평균기온(℃)</th>\n",
       "      <th>최고기온(℃)</th>\n",
       "      <th>최고기온시각</th>\n",
       "      <th>최저기온(℃)</th>\n",
       "      <th>최저기온시각</th>\n",
       "    </tr>\n",
       "  </thead>\n",
       "  <tbody>\n",
       "    <tr>\n",
       "      <th>0</th>\n",
       "      <td>108</td>\n",
       "      <td>서울</td>\n",
       "      <td>2002-06-01</td>\n",
       "      <td>20.2</td>\n",
       "      <td>24.8</td>\n",
       "      <td>12:29</td>\n",
       "      <td>17.1</td>\n",
       "      <td>0:06</td>\n",
       "    </tr>\n",
       "    <tr>\n",
       "      <th>1</th>\n",
       "      <td>108</td>\n",
       "      <td>서울</td>\n",
       "      <td>2002-06-02</td>\n",
       "      <td>22.9</td>\n",
       "      <td>30.0</td>\n",
       "      <td>15:08</td>\n",
       "      <td>15.3</td>\n",
       "      <td>4:50</td>\n",
       "    </tr>\n",
       "    <tr>\n",
       "      <th>2</th>\n",
       "      <td>108</td>\n",
       "      <td>서울</td>\n",
       "      <td>2002-06-03</td>\n",
       "      <td>23.4</td>\n",
       "      <td>29.1</td>\n",
       "      <td>14:45</td>\n",
       "      <td>17.6</td>\n",
       "      <td>5:31</td>\n",
       "    </tr>\n",
       "    <tr>\n",
       "      <th>3</th>\n",
       "      <td>108</td>\n",
       "      <td>서울</td>\n",
       "      <td>2002-06-04</td>\n",
       "      <td>22.4</td>\n",
       "      <td>27.6</td>\n",
       "      <td>14:06</td>\n",
       "      <td>18.2</td>\n",
       "      <td>4:29</td>\n",
       "    </tr>\n",
       "    <tr>\n",
       "      <th>4</th>\n",
       "      <td>108</td>\n",
       "      <td>서울</td>\n",
       "      <td>2002-06-05</td>\n",
       "      <td>25.2</td>\n",
       "      <td>31.4</td>\n",
       "      <td>15:13</td>\n",
       "      <td>19.1</td>\n",
       "      <td>4:43</td>\n",
       "    </tr>\n",
       "  </tbody>\n",
       "</table>\n",
       "</div>"
      ],
      "text/plain": [
       "   지점번호 지점명          일시  평균기온(℃)  최고기온(℃) 최고기온시각  최저기온(℃) 최저기온시각\n",
       "0   108  서울  2002-06-01     20.2     24.8  12:29     17.1   0:06\n",
       "1   108  서울  2002-06-02     22.9     30.0  15:08     15.3   4:50\n",
       "2   108  서울  2002-06-03     23.4     29.1  14:45     17.6   5:31\n",
       "3   108  서울  2002-06-04     22.4     27.6  14:06     18.2   4:29\n",
       "4   108  서울  2002-06-05     25.2     31.4  15:13     19.1   4:43"
      ]
     },
     "execution_count": 48,
     "metadata": {},
     "output_type": "execute_result"
    }
   ],
   "source": [
    "import pandas as pd\n",
    "data = pd.read_csv('seoul.csv', encoding='cp949')\n",
    "data.shape\n",
    "data.head()"
   ]
  },
  {
   "cell_type": "code",
   "execution_count": 53,
   "metadata": {},
   "outputs": [
    {
     "data": {
      "text/plain": [
       "((30, 8), array([108, '서울', '2002-06-01', 20.2, 24.8, '12:29', 17.1, '0:06'],\n",
       "       dtype=object))"
      ]
     },
     "execution_count": 53,
     "metadata": {},
     "output_type": "execute_result"
    }
   ],
   "source": [
    "month = []\n",
    "for i in range(12):\n",
    "    month.append([])\n",
    "data = np.array(data)\n",
    "data.shape, data[0]"
   ]
  },
  {
   "cell_type": "code",
   "execution_count": 54,
   "metadata": {},
   "outputs": [
    {
     "ename": "IndexError",
     "evalue": "invalid index to scalar variable.",
     "output_type": "error",
     "traceback": [
      "\u001b[1;31m---------------------------------------------------------------------------\u001b[0m",
      "\u001b[1;31mIndexError\u001b[0m                                Traceback (most recent call last)",
      "\u001b[1;32m<ipython-input-54-c23d19f26944>\u001b[0m in \u001b[0;36m<module>\u001b[1;34m\u001b[0m\n\u001b[0;32m      1\u001b[0m \u001b[1;32mfor\u001b[0m \u001b[0mi\u001b[0m \u001b[1;32min\u001b[0m \u001b[0mrange\u001b[0m\u001b[1;33m(\u001b[0m\u001b[0mlen\u001b[0m\u001b[1;33m(\u001b[0m\u001b[0mx\u001b[0m\u001b[1;33m)\u001b[0m\u001b[1;33m)\u001b[0m\u001b[1;33m:\u001b[0m\u001b[1;33m\u001b[0m\u001b[1;33m\u001b[0m\u001b[0m\n\u001b[0;32m      2\u001b[0m     \u001b[0mrow\u001b[0m \u001b[1;33m=\u001b[0m \u001b[0mx\u001b[0m\u001b[1;33m[\u001b[0m\u001b[0mi\u001b[0m\u001b[1;33m]\u001b[0m\u001b[1;33m\u001b[0m\u001b[1;33m\u001b[0m\u001b[0m\n\u001b[1;32m----> 3\u001b[1;33m     \u001b[0mdata\u001b[0m \u001b[1;33m=\u001b[0m \u001b[0mrow\u001b[0m\u001b[1;33m[\u001b[0m\u001b[1;36m0\u001b[0m\u001b[1;33m]\u001b[0m\u001b[1;33m\u001b[0m\u001b[1;33m\u001b[0m\u001b[0m\n\u001b[0m\u001b[0;32m      4\u001b[0m     \u001b[0mhigh\u001b[0m \u001b[1;33m=\u001b[0m \u001b[0mrow\u001b[0m\u001b[1;33m[\u001b[0m\u001b[1;33m-\u001b[0m\u001b[1;36m1\u001b[0m\u001b[1;33m]\u001b[0m\u001b[1;33m\u001b[0m\u001b[1;33m\u001b[0m\u001b[0m\n\u001b[0;32m      5\u001b[0m     \u001b[0mprint\u001b[0m\u001b[1;33m(\u001b[0m\u001b[0mrow\u001b[0m\u001b[1;33m,\u001b[0m \u001b[0mhigh\u001b[0m\u001b[1;33m)\u001b[0m\u001b[1;33m\u001b[0m\u001b[1;33m\u001b[0m\u001b[0m\n",
      "\u001b[1;31mIndexError\u001b[0m: invalid index to scalar variable."
     ]
    }
   ],
   "source": [
    "#탐색적 프로그래밍\n",
    "for i in range(len(x)):\n",
    "    row = x[i]\n",
    "    data = row[0]\n",
    "    high = row[-1]\n",
    "    print(row, high)"
   ]
  }
 ],
 "metadata": {
  "kernelspec": {
   "display_name": "Python 3",
   "language": "python",
   "name": "python3"
  },
  "language_info": {
   "codemirror_mode": {
    "name": "ipython",
    "version": 3
   },
   "file_extension": ".py",
   "mimetype": "text/x-python",
   "name": "python",
   "nbconvert_exporter": "python",
   "pygments_lexer": "ipython3",
   "version": "3.7.3"
  }
 },
 "nbformat": 4,
 "nbformat_minor": 2
}
