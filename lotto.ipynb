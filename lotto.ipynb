{
 "cells": [
  {
   "cell_type": "markdown",
   "metadata": {},
   "source": [
    "10개의 예상 숫자 리스트를 뽑아줘"
   ]
  },
  {
   "cell_type": "code",
   "execution_count": 17,
   "metadata": {},
   "outputs": [],
   "source": [
    "\n",
    "import random\n",
    "class Lotto:\n",
    "    '''\n",
    "    45개 전후의 숫자 중 6개를 맞추는 게임 : 1등 1~45의 숫자\n",
    "    '''\n",
    "    def __init__(self): #함수의 첫번째 인자로 self 를 넣어줍니다. JAVA의 this에 해당\n",
    "        print(\"생성자\")\n",
    "        \n",
    "        print(\"로또 정답 생성자\")\n",
    "        self.target = [ ]#정답 list, self를 붙이면 클래스 변수가 됩니다. \n",
    "        for i in range(5) :\n",
    "            v = random.randint(1,45) #중복번호 제거 구현해야 함\n",
    "            while(v in self.target) : #기존에 있는 번호면 다시 뽑아라\n",
    "                v = random.randint(1,45)\n",
    "            self.target.append(v)\n",
    "            self.target.sort()\n",
    "        print(self.target)\n",
    "    \n",
    "    def select(self, nums): \n",
    "        print('정답', self.target, '예측', nums)\n",
    "        k=0\n",
    "        for i in range(5) :\n",
    "            if nums[i] in self.target:#내가 뽑은 번호가 정답이면\n",
    "                k+=1#파이선은 ++,-- 증감연산자가 없다.\n",
    "        if k==5 :\n",
    "            print('1등 당첨되셨습니다 ')\n",
    "        elif k > 1 :\n",
    "            print('축하합니다. ',k,'개 맞췄습니다')\n",
    "        else :\n",
    "            print('땡')\n",
    "        #5개의 당첨번호 1~45"
   ]
  },
  {
   "cell_type": "code",
   "execution_count": 18,
   "metadata": {},
   "outputs": [
    {
     "name": "stdout",
     "output_type": "stream",
     "text": [
      "생성자\n",
      "로또 정답 생성자\n",
      "[23, 24, 26, 36, 41]\n",
      "생성자\n",
      "로또 정답 생성자\n",
      "[2, 15, 24, 35, 42]\n",
      "정답 [2, 15, 24, 35, 42] 예측 [1, 2, 3, 4, 5, 6]\n",
      "땡\n"
     ]
    },
    {
     "data": {
      "text/plain": [
       "(<__main__.Lotto at 0x1b75dc7cac8>, None)"
      ]
     },
     "execution_count": 18,
     "metadata": {},
     "output_type": "execute_result"
    }
   ],
   "source": [
    "lotto1 = Lotto();\n",
    "lotto2 = Lotto()\n",
    "lotto1, lotto2.select([1,2,3,4,5,6])"
   ]
  },
  {
   "cell_type": "code",
   "execution_count": 55,
   "metadata": {},
   "outputs": [
    {
     "data": {
      "text/plain": [
       "array([ 1,  2,  3,  4,  5,  6,  7,  8,  9, 10, 11, 12, 13, 14, 15, 16, 17,\n",
       "       18, 19, 20, 21, 22, 23, 24, 25, 26, 27, 28, 29, 30, 31, 32, 33, 34,\n",
       "       35, 36, 37, 38, 39, 40, 41, 42, 43, 44, 45])"
      ]
     },
     "execution_count": 55,
     "metadata": {},
     "output_type": "execute_result"
    }
   ],
   "source": [
    "import pandas\n",
    "import numpy as np\n",
    "lotto_all = pandas.read_csv('lotto.csv')\n",
    "lotto_all.shape\n",
    "arr=numpy.array(lotto_all)\n",
    "mynum=np.arange(1,46)\n",
    "mynum"
   ]
  },
  {
   "cell_type": "code",
   "execution_count": 57,
   "metadata": {},
   "outputs": [
    {
     "data": {
      "text/plain": [
       "array([ 1.        ,  1.23609101,  1.02616461,  3.41570318,  2.87813464,\n",
       "        1.01773521,  3.48109315,  3.62025029,  5.85322568,  2.72289192,\n",
       "        7.78266277, 11.40307354,  4.76333349,  6.83183336,  3.17248049,\n",
       "        9.1275534 , 12.05238264, 12.17326876, 16.27954129, 10.16679364,\n",
       "        7.90614042, 14.82820298,  2.24876608, 20.25698491,  5.21172323,\n",
       "        4.58915023, 26.40867522,  7.76695944,  4.55814704,  3.97849047,\n",
       "       28.12056095,  1.13649829,  1.37459991, 13.1708306 ,  7.46416848,\n",
       "       13.52686135, 21.9811167 ,  6.75625817, 18.21090257, 17.95139091,\n",
       "       13.99141311, 36.77443155,  4.30533119,  6.28198578, 15.71523838])"
      ]
     },
     "execution_count": 57,
     "metadata": {},
     "output_type": "execute_result"
    }
   ],
   "source": []
  },
  {
   "cell_type": "code",
   "execution_count": 52,
   "metadata": {},
   "outputs": [
    {
     "data": {
      "text/plain": [
       "array([[36, 19, 17, 24, 25]])"
      ]
     },
     "execution_count": 52,
     "metadata": {},
     "output_type": "execute_result"
    }
   ],
   "source": [
    "np.random.uniform"
   ]
  }
 ],
 "metadata": {
  "kernelspec": {
   "display_name": "Python 3",
   "language": "python",
   "name": "python3"
  },
  "language_info": {
   "codemirror_mode": {
    "name": "ipython",
    "version": 3
   },
   "file_extension": ".py",
   "mimetype": "text/x-python",
   "name": "python",
   "nbconvert_exporter": "python",
   "pygments_lexer": "ipython3",
   "version": "3.7.3"
  }
 },
 "nbformat": 4,
 "nbformat_minor": 2
}
