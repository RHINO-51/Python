{
 "cells": [
  {
   "cell_type": "code",
   "execution_count": 3,
   "metadata": {},
   "outputs": [
    {
     "name": "stdout",
     "output_type": "stream",
     "text": [
      "0.04814998649310953\n"
     ]
    }
   ],
   "source": [
    "import random\n",
    "\n",
    "while(True) :\n",
    "    v =random.random()\n",
    "    print(v)\n",
    "    if v<0.1 :\n",
    "        break\n",
    "        "
   ]
  },
  {
   "cell_type": "code",
   "execution_count": 5,
   "metadata": {},
   "outputs": [
    {
     "data": {
      "text/plain": [
       "[1, 2, 3, 4, 5, 6]"
      ]
     },
     "execution_count": 5,
     "metadata": {},
     "output_type": "execute_result"
    }
   ],
   "source": [
    "#요소들끼리 더하고 싶다 : element wise add\n",
    "[1,2,3] +[4,5,6]"
   ]
  },
  {
   "cell_type": "code",
   "execution_count": 7,
   "metadata": {},
   "outputs": [
    {
     "data": {
      "text/plain": [
       "(1, 2, 3, 7, 4, 5)"
      ]
     },
     "execution_count": 7,
     "metadata": {},
     "output_type": "execute_result"
    }
   ],
   "source": [
    "(1,2,3) + (7,4,5)"
   ]
  },
  {
   "cell_type": "markdown",
   "metadata": {},
   "source": [
    "List, Dict, Set연산용으로 사용이 불가능, 메모리 사용량이 크고 느리다. "
   ]
  },
  {
   "cell_type": "code",
   "execution_count": 9,
   "metadata": {},
   "outputs": [],
   "source": [
    "import numpy\n"
   ]
  },
  {
   "cell_type": "code",
   "execution_count": 12,
   "metadata": {},
   "outputs": [
    {
     "data": {
      "text/plain": [
       "(array([1, 2, 3, 4, 5, 6, 7, 8, 9]), array([1, 3, 5, 7, 9]))"
      ]
     },
     "execution_count": 12,
     "metadata": {},
     "output_type": "execute_result"
    }
   ],
   "source": [
    "#배열만들기\n",
    "#함수 사용시 shift+tab로 설명을 봅니다. \n",
    "numpy.arange(1,10), numpy.arange(1,10,2)"
   ]
  },
  {
   "cell_type": "code",
   "execution_count": 15,
   "metadata": {},
   "outputs": [
    {
     "data": {
      "text/plain": [
       "array([5, 7, 9])"
      ]
     },
     "execution_count": 15,
     "metadata": {},
     "output_type": "execute_result"
    }
   ],
   "source": [
    "#데이터를 numpy 배열로 변환하면 연산이 됩니다. \n",
    "numpy.array([1,2,3]) + numpy.array([4,5,6,])"
   ]
  },
  {
   "cell_type": "markdown",
   "metadata": {},
   "source": [
    "야후 파이낸스의 sp500 주식 데이터를 읽습니다. \n",
    "csv 혹은 pandas 로 읽을 수 있습니다. "
   ]
  },
  {
   "cell_type": "code",
   "execution_count": 16,
   "metadata": {},
   "outputs": [],
   "source": [
    "import pandas"
   ]
  },
  {
   "cell_type": "code",
   "execution_count": 18,
   "metadata": {},
   "outputs": [
    {
     "data": {
      "text/plain": [
       "(20, 7)"
      ]
     },
     "execution_count": 18,
     "metadata": {},
     "output_type": "execute_result"
    }
   ],
   "source": [
    "stock = pandas.read_csv('snp500.csv')\n",
    "stock.shape\n"
   ]
  },
  {
   "cell_type": "code",
   "execution_count": 23,
   "metadata": {},
   "outputs": [],
   "source": [
    "arr = numpy.array(stock)"
   ]
  },
  {
   "cell_type": "code",
   "execution_count": 26,
   "metadata": {},
   "outputs": [],
   "source": [
    "arr[0] = arr[0, :]"
   ]
  },
  {
   "cell_type": "code",
   "execution_count": 29,
   "metadata": {},
   "outputs": [
    {
     "data": {
      "text/plain": [
       "array([2841.939941, 2854.02002, 2856.060059, 2836.699951, 2832.409912,\n",
       "       2830.030029, 2790.25, 2786.939941, 2766.149902, 2751.530029,\n",
       "       2762.639893, 2818.090088, 2828.51001, 2852.8701170000004,\n",
       "       2885.830078, 2903.27002, 2882.72998, 2886.23999, 2886.820068,\n",
       "       2889.75], dtype=object)"
      ]
     },
     "execution_count": 29,
     "metadata": {},
     "output_type": "execute_result"
    }
   ],
   "source": [
    "#Open 만 가져오자\n",
    "op =arr[:,1]\n",
    "op"
   ]
  },
  {
   "cell_type": "code",
   "execution_count": 32,
   "metadata": {},
   "outputs": [
    {
     "data": {
      "text/plain": [
       "array([2840.22998, 2864.360107, 2856.27002, 2822.23999, 2826.060059,\n",
       "       2802.389893, 2783.02002, 2788.860107, 2752.060059, 2744.449951,\n",
       "       2803.27002, 2826.149902, 2843.48999, 2873.340088, 2886.72998,\n",
       "       2885.719971, 2879.840088, 2891.639893, 2886.97998, 2889.669922],\n",
       "      dtype=object)"
      ]
     },
     "execution_count": 32,
     "metadata": {},
     "output_type": "execute_result"
    }
   ],
   "source": [
    "#Close를 가져오자\n",
    "cl =arr[:,4] #도 가능하지만\n",
    "cl =arr[:,-3] #이 편합니다\n",
    "\n",
    "\n",
    "cl"
   ]
  },
  {
   "cell_type": "code",
   "execution_count": 34,
   "metadata": {},
   "outputs": [
    {
     "data": {
      "text/plain": [
       "array([[2841.939941, 2853.860107, 2831.290039, 2840.22998],\n",
       "       [2854.02002, 2868.8798829999996, 2854.02002, 2864.360107],\n",
       "       [2856.060059, 2865.469971, 2851.110107, 2856.27002],\n",
       "       [2836.699951, 2836.699951, 2805.48999, 2822.23999],\n",
       "       [2832.409912, 2841.360107, 2820.189941, 2826.060059],\n",
       "       [2830.030029, 2840.51001, 2801.580078, 2802.389893],\n",
       "       [2790.25, 2792.030029, 2766.060059, 2783.02002],\n",
       "       [2786.939941, 2799.0, 2776.73999, 2788.860107],\n",
       "       [2766.149902, 2768.97998, 2750.52002, 2752.060059],\n",
       "       [2751.530029, 2763.070068, 2728.810059, 2744.449951],\n",
       "       [2762.639893, 2804.48999, 2762.639893, 2803.27002],\n",
       "       [2818.090088, 2827.280029, 2800.919922, 2826.149902],\n",
       "       [2828.51001, 2852.100098, 2822.449951, 2843.48999],\n",
       "       [2852.8701170000004, 2884.969971, 2852.8701170000004, 2873.340088],\n",
       "       [2885.830078, 2904.77002, 2885.51001, 2886.72998],\n",
       "       [2903.27002, 2910.610107, 2878.530029, 2885.719971],\n",
       "       [2882.72998, 2888.570068, 2874.679932, 2879.840088],\n",
       "       [2886.23999, 2895.23999, 2881.98999, 2891.639893],\n",
       "       [2886.820068, 2894.449951, 2879.6201170000004, 2886.97998],\n",
       "       [2889.75, 2897.27002, 2887.300049, 2889.669922]], dtype=object)"
      ]
     },
     "execution_count": 34,
     "metadata": {},
     "output_type": "execute_result"
    }
   ],
   "source": [
    "# opne ->high -> low -> close 4개의 컬럼만 뽑자\n",
    "# [시작:끝]\n",
    "arr[:,1:5]"
   ]
  },
  {
   "cell_type": "code",
   "execution_count": 37,
   "metadata": {},
   "outputs": [
    {
     "data": {
      "text/plain": [
       "(2891.639893, 2744.449951)"
      ]
     },
     "execution_count": 37,
     "metadata": {},
     "output_type": "execute_result"
    }
   ],
   "source": [
    "#b(below) 아래쪽에 셀 만들기\n",
    "#open 의 최대갑스 최소갑스 평균을 구해보자\n",
    "# 내장함수 : import 없이 바로 사용 가능한 함수\n",
    "max(cl), min(cl)"
   ]
  },
  {
   "cell_type": "markdown",
   "metadata": {},
   "source": [
    "축 : axis\n",
    "2차원 데이터는 2개의 축이 있습니다. 행축, 열축"
   ]
  },
  {
   "cell_type": "code",
   "execution_count": 43,
   "metadata": {},
   "outputs": [
    {
     "data": {
      "text/plain": [
       "array([2903.27002, 2910.610107, 2887.300049, 2891.639893], dtype=object)"
      ]
     },
     "execution_count": 43,
     "metadata": {},
     "output_type": "execute_result"
    }
   ],
   "source": [
    "# axis=0 행, axis=1 열\n",
    "v4 = arr[:,1:5]\n",
    "v4.shape\n",
    "numpy.max(v4,axis=0)"
   ]
  },
  {
   "cell_type": "raw",
   "metadata": {},
   "source": [
    "#arg_max, arg_min 맥스값의 위치\n",
    "numpy.max(cl), numpy.argmax(cl)\n"
   ]
  },
  {
   "cell_type": "raw",
   "metadata": {},
   "source": [
    "주가각 가장 많이 상승한 날짜를 찾아보세요(정답 : x번째 행입니다. \n",
    "(종가 -시가) 이 가장 큰 날짜입니다. "
   ]
  },
  {
   "cell_type": "code",
   "execution_count": 60,
   "metadata": {},
   "outputs": [
    {
     "data": {
      "text/plain": [
       "(40.6301269999999, 10, '2019-06-04')"
      ]
     },
     "execution_count": 60,
     "metadata": {},
     "output_type": "execute_result"
    }
   ],
   "source": [
    "close_v = arr[:,-3]\n",
    "open_v =arr[:,1]\n",
    "vol = arr[:,1]\n",
    "final_v=close_v-open_v\n",
    "numpy.max(final_v), numpy.argmax(final_v), arr[numpy.argmax(final_v),0]\n",
    "\n"
   ]
  },
  {
   "cell_type": "markdown",
   "metadata": {},
   "source": [
    "##### 데이터분석\n",
    "- 가격 상승하는 날 거래량이 많아질까?\n",
    "- 전날 가격이 상승하면 다음날 시작가격은 더 높은 가격에서 시작할까?\n",
    "- 가격 변동이 크면 거래량도 많아질까?\n"
   ]
  },
  {
   "cell_type": "markdown",
   "metadata": {},
   "source": [
    "##### 다음 단계 : 예측\n",
    "- 어제/오늘 현황 분석이 끝났는데 내일은 Open/close 이 어떻게 될까\n",
    "- 방법 : 1. 통계적(R) 2. 머신러닝"
   ]
  },
  {
   "cell_type": "code",
   "execution_count": 70,
   "metadata": {},
   "outputs": [
    {
     "data": {
      "text/plain": [
       "True"
      ]
     },
     "execution_count": 70,
     "metadata": {},
     "output_type": "execute_result"
    }
   ],
   "source": [
    "#가격 상승하는 날 거래량이 많아질까?\n",
    "# >상승한 날의 거래량 /하락한 날의 거래량\n",
    "final_v\n",
    "final_v > 0\n",
    "\n",
    "\n",
    "#상승한 날의 거래량의 평균\n",
    "numpy.mean(vol[final_v>0])\n",
    "numpy.mean(vol[final_v<0])\n",
    "\n",
    "#상승한 날의 거래량이 더많냐?\n",
    "numpy.mean(vol[final_v>0]) >numpy.mean(vol[final_v<0])\n",
    "    "
   ]
  },
  {
   "cell_type": "code",
   "execution_count": 64,
   "metadata": {},
   "outputs": [
    {
     "data": {
      "text/plain": [
       "array([False,  True, False,  True])"
      ]
     },
     "execution_count": 64,
     "metadata": {},
     "output_type": "execute_result"
    }
   ],
   "source": [
    "#조건부 검색\n",
    "a = numpy.array([1,2,3,4])\n",
    "even =a%2==0 #짝수값만 뽑고 싶다.\n",
    "even # 불린 마스크\n",
    "\n"
   ]
  },
  {
   "cell_type": "code",
   "execution_count": 71,
   "metadata": {},
   "outputs": [
    {
     "data": {
      "text/plain": [
       "array([2, 4])"
      ]
     },
     "execution_count": 71,
     "metadata": {},
     "output_type": "execute_result"
    }
   ],
   "source": [
    "#불린 마스클르 인덱스로 사용하면 True값 만 뽑힙니다. \n",
    "a[even]"
   ]
  },
  {
   "cell_type": "code",
   "execution_count": 72,
   "metadata": {},
   "outputs": [],
   "source": [
    "import numpy as np"
   ]
  },
  {
   "cell_type": "code",
   "execution_count": 74,
   "metadata": {},
   "outputs": [],
   "source": [
    "a= np.array([1,2,3])"
   ]
  },
  {
   "cell_type": "code",
   "execution_count": 78,
   "metadata": {},
   "outputs": [
    {
     "data": {
      "text/plain": [
       "(array([1, 2, 3]), dtype('int32'))"
      ]
     },
     "execution_count": 78,
     "metadata": {},
     "output_type": "execute_result"
    }
   ],
   "source": [
    "a, a.dtype"
   ]
  },
  {
   "cell_type": "code",
   "execution_count": 81,
   "metadata": {},
   "outputs": [
    {
     "data": {
      "text/plain": [
       "array([[[0, 0, 0, 0],\n",
       "        [0, 0, 0, 0],\n",
       "        [0, 0, 0, 0]],\n",
       "\n",
       "       [[0, 0, 0, 0],\n",
       "        [0, 0, 0, 0],\n",
       "        [0, 0, 0, 0]]])"
      ]
     },
     "execution_count": 81,
     "metadata": {},
     "output_type": "execute_result"
    }
   ],
   "source": [
    "np.zeros(shape=(2,3,4),dtype=np.int32,)"
   ]
  },
  {
   "cell_type": "code",
   "execution_count": 83,
   "metadata": {},
   "outputs": [
    {
     "data": {
      "text/plain": [
       "array([[[1, 1, 1, 1],\n",
       "        [1, 1, 1, 1],\n",
       "        [1, 1, 1, 1]],\n",
       "\n",
       "       [[1, 1, 1, 1],\n",
       "        [1, 1, 1, 1],\n",
       "        [1, 1, 1, 1]]])"
      ]
     },
     "execution_count": 83,
     "metadata": {},
     "output_type": "execute_result"
    }
   ],
   "source": [
    "np.ones(shape=(2,3,4),dtype=np.int32,)"
   ]
  },
  {
   "cell_type": "code",
   "execution_count": 85,
   "metadata": {},
   "outputs": [
    {
     "data": {
      "text/plain": [
       "array([[1., 0., 0., 0.],\n",
       "       [0., 1., 0., 0.],\n",
       "       [0., 0., 1., 0.],\n",
       "       [0., 0., 0., 1.]])"
      ]
     },
     "execution_count": 85,
     "metadata": {},
     "output_type": "execute_result"
    }
   ],
   "source": [
    "np.eye(4)"
   ]
  },
  {
   "cell_type": "code",
   "execution_count": 87,
   "metadata": {},
   "outputs": [
    {
     "data": {
      "text/plain": [
       "array([0, 3, 6, 9])"
      ]
     },
     "execution_count": 87,
     "metadata": {},
     "output_type": "execute_result"
    }
   ],
   "source": [
    "np.arange(0,10,3)"
   ]
  },
  {
   "cell_type": "code",
   "execution_count": 89,
   "metadata": {},
   "outputs": [
    {
     "data": {
      "text/plain": [
       "array([ 1.  ,  3.25,  5.5 ,  7.75, 10.  ])"
      ]
     },
     "execution_count": 89,
     "metadata": {},
     "output_type": "execute_result"
    }
   ],
   "source": [
    "np.linspace(1,10,5) #시작값, 끝값, x 등분"
   ]
  },
  {
   "cell_type": "code",
   "execution_count": 91,
   "metadata": {},
   "outputs": [
    {
     "data": {
      "text/plain": [
       "array([[0.04553661, 0.19177934, 0.33473557],\n",
       "       [0.32096971, 0.0831061 , 0.89228853]])"
      ]
     },
     "execution_count": 91,
     "metadata": {},
     "output_type": "execute_result"
    }
   ],
   "source": [
    "np.random.rand(2,3) #[0,1]"
   ]
  },
  {
   "cell_type": "code",
   "execution_count": 94,
   "metadata": {},
   "outputs": [
    {
     "data": {
      "text/plain": [
       "array([[-0.15421477, -0.07524623, -0.97516578],\n",
       "       [-0.69313086,  0.05291653, -1.09669413]])"
      ]
     },
     "execution_count": 94,
     "metadata": {},
     "output_type": "execute_result"
    }
   ],
   "source": [
    "np.random.normal(size=(2,3))"
   ]
  },
  {
   "cell_type": "code",
   "execution_count": 100,
   "metadata": {},
   "outputs": [
    {
     "data": {
      "text/plain": [
       "array([[7, 1, 6],\n",
       "       [1, 7, 7]])"
      ]
     },
     "execution_count": 100,
     "metadata": {},
     "output_type": "execute_result"
    }
   ],
   "source": [
    "np.random.randint(low=1, high=10,size=(2,3)) #종모양의 정규분포, 평균값이 많이 뽑힙니다. "
   ]
  },
  {
   "cell_type": "code",
   "execution_count": 102,
   "metadata": {},
   "outputs": [
    {
     "data": {
      "text/plain": [
       "array([[0.59958431, 0.65365205, 0.61424377],\n",
       "       [0.11005512, 0.61963616, 0.29467145]])"
      ]
     },
     "execution_count": 102,
     "metadata": {},
     "output_type": "execute_result"
    }
   ],
   "source": [
    "np.random.uniform(size=(2,3)) #전체값에서 균등하게 뽑힙니다. 제어 가능"
   ]
  },
  {
   "cell_type": "code",
   "execution_count": 108,
   "metadata": {},
   "outputs": [
    {
     "data": {
      "text/plain": [
       "array([[2., 2., 2., 2., 2.],\n",
       "       [2., 2., 2., 2., 2.],\n",
       "       [2., 2., 2., 2., 2.]])"
      ]
     },
     "execution_count": 108,
     "metadata": {},
     "output_type": "execute_result"
    }
   ],
   "source": [
    "a= np.ones(shape=(3,5), dtype=np.int)\n",
    "b = np.ones(shape=(3,5), dtype=np.float) #broadcasting 끝에가 1일때는 더하기가 가능하다.\n",
    "\n",
    "a+b"
   ]
  },
  {
   "cell_type": "code",
   "execution_count": 110,
   "metadata": {},
   "outputs": [
    {
     "data": {
      "text/plain": [
       "(2, (3, 5), 15, dtype('float64'), 120)"
      ]
     },
     "execution_count": 110,
     "metadata": {},
     "output_type": "execute_result"
    }
   ],
   "source": [
    "#차원, 모양, 총요소 갯수, 데이터 타입, 메모리 사용량\n",
    "b.ndim, b.shape, b.size, b.dtype, b.nbytes"
   ]
  },
  {
   "cell_type": "code",
   "execution_count": 112,
   "metadata": {},
   "outputs": [
    {
     "data": {
      "text/plain": [
       "array([1., 1., 1., 1., 1., 1., 1., 1., 1., 1., 1., 1., 1., 1., 1.])"
      ]
     },
     "execution_count": 112,
     "metadata": {},
     "output_type": "execute_result"
    }
   ],
   "source": [
    "b.flatten() # 1차원으로 변환 flatten:평면화"
   ]
  },
  {
   "cell_type": "code",
   "execution_count": 116,
   "metadata": {},
   "outputs": [
    {
     "data": {
      "text/plain": [
       "array([[0, 1, 2],\n",
       "       [3, 4, 5],\n",
       "       [6, 7, 8]])"
      ]
     },
     "execution_count": 116,
     "metadata": {},
     "output_type": "execute_result"
    }
   ],
   "source": [
    "#slicing : 데이터를 자르기\n",
    "a = np.arange(9).reshape((3,3))\n",
    "a"
   ]
  },
  {
   "cell_type": "markdown",
   "metadata": {},
   "source": [
    "a에서 다음 원소들을 잘라주세요(시작:끝, 시작:끝)\n",
    "[1,4,7]\n",
    "[6,7,8]\n",
    "[1,2,4,5,7,8]\n",
    "[4,5,7,8]"
   ]
  },
  {
   "cell_type": "code",
   "execution_count": 132,
   "metadata": {},
   "outputs": [
    {
     "data": {
      "text/plain": [
       "(array([1, 4, 7]),\n",
       " array([6, 7, 8]),\n",
       " array([1, 2, 4, 5, 7, 8]),\n",
       " array([4, 5, 7, 8]))"
      ]
     },
     "execution_count": 132,
     "metadata": {},
     "output_type": "execute_result"
    }
   ],
   "source": [
    "a[:,1], a[2,:], a[:,1:].flatten(),a[1:,1:].flatten()"
   ]
  },
  {
   "cell_type": "code",
   "execution_count": 134,
   "metadata": {},
   "outputs": [
    {
     "data": {
      "text/plain": [
       "array([[ 0,  1,  2,  3],\n",
       "       [ 4,  5,  6,  7],\n",
       "       [ 8,  9, 10, 11]])"
      ]
     },
     "execution_count": 134,
     "metadata": {},
     "output_type": "execute_result"
    }
   ],
   "source": [
    "b= np.arange(12).reshape((3,4))\n",
    "b"
   ]
  },
  {
   "cell_type": "markdown",
   "metadata": {},
   "source": [
    "[5,6,9,10]\n",
    "[9,10,11]"
   ]
  },
  {
   "cell_type": "code",
   "execution_count": 142,
   "metadata": {},
   "outputs": [
    {
     "data": {
      "text/plain": [
       "(array([ 5,  6,  9, 10]), array([ 9, 10, 11]))"
      ]
     },
     "execution_count": 142,
     "metadata": {},
     "output_type": "execute_result"
    }
   ],
   "source": [
    "b[1:,1:-1].flatten(), b[-1,1:]"
   ]
  },
  {
   "cell_type": "code",
   "execution_count": 147,
   "metadata": {},
   "outputs": [
    {
     "data": {
      "text/plain": [
       "array([[[ 0,  1,  2,  3],\n",
       "        [ 4,  5,  6,  7],\n",
       "        [ 8,  9, 10, 11]],\n",
       "\n",
       "       [[12, 13, 14, 15],\n",
       "        [16, 17, 18, 19],\n",
       "        [20, 21, 22, 23]]])"
      ]
     },
     "execution_count": 147,
     "metadata": {},
     "output_type": "execute_result"
    }
   ],
   "source": [
    "#3차원\n",
    "c= np.arange(2*3*4).reshape((2,3,4))\n",
    "c"
   ]
  },
  {
   "cell_type": "code",
   "execution_count": 159,
   "metadata": {},
   "outputs": [
    {
     "data": {
      "text/plain": [
       "(array([[ 0,  1,  2,  3],\n",
       "        [ 4,  5,  6,  7],\n",
       "        [ 8,  9, 10, 11]]),\n",
       " array([0, 1, 2, 3]),\n",
       " array([12, 13, 14, 15]),\n",
       " array([1, 5, 9]),\n",
       " array([15, 19, 23]))"
      ]
     },
     "execution_count": 159,
     "metadata": {},
     "output_type": "execute_result"
    }
   ],
   "source": [
    "c[0], c[0,0,:],c[1,0,:], c[0,:,1],c[1,:,3]"
   ]
  },
  {
   "cell_type": "code",
   "execution_count": 182,
   "metadata": {},
   "outputs": [
    {
     "data": {
      "text/plain": [
       "(array([6, 7]), array([17, 18, 19]), array([13, 14, 17, 18]))"
      ]
     },
     "execution_count": 182,
     "metadata": {},
     "output_type": "execute_result"
    }
   ],
   "source": [
    "#[6,10], [17,18,19], [13,14,17,18]\n",
    "c[0,1,2:], c[1,1,1:], c[1,0:2,1:3].flatten()"
   ]
  },
  {
   "cell_type": "code",
   "execution_count": 188,
   "metadata": {},
   "outputs": [
    {
     "data": {
      "text/plain": [
       "(array([[ 0,  1,  2,  3],\n",
       "        [ 4,  5,  6,  7],\n",
       "        [ 8,  9, 10, 11],\n",
       "        [12, 13, 14, 15],\n",
       "        [16, 17, 18, 19],\n",
       "        [20, 21, 22, 23]]), array([[ 0,  1,  2,  3,  4,  5,  6,  7],\n",
       "        [ 8,  9, 10, 11, 12, 13, 14, 15],\n",
       "        [16, 17, 18, 19, 20, 21, 22, 23]]))"
      ]
     },
     "execution_count": 188,
     "metadata": {},
     "output_type": "execute_result"
    }
   ],
   "source": [
    "c.shape\n",
    "c.reshape((6,4)), np.reshape(c,(3,8)) #편한대로 사용"
   ]
  },
  {
   "cell_type": "code",
   "execution_count": 191,
   "metadata": {},
   "outputs": [
    {
     "data": {
      "text/plain": [
       "array([[ 0,  1,  2,  3],\n",
       "       [ 4,  5,  6,  7],\n",
       "       [ 8,  9, 10, 11],\n",
       "       [12, 13, 14, 15],\n",
       "       [16, 17, 18, 19],\n",
       "       [20, 21, 22, 23]])"
      ]
     },
     "execution_count": 191,
     "metadata": {},
     "output_type": "execute_result"
    }
   ],
   "source": [
    "c.reshape((-1,4)) #-1 알아서 맞춰라 1번만 사용 가능"
   ]
  },
  {
   "cell_type": "code",
   "execution_count": 195,
   "metadata": {},
   "outputs": [
    {
     "data": {
      "text/plain": [
       "(array([[0, 1, 2],\n",
       "        [3, 4, 5]]), array([[ 6,  7,  8],\n",
       "        [ 9, 10, 11]]))"
      ]
     },
     "execution_count": 195,
     "metadata": {},
     "output_type": "execute_result"
    }
   ],
   "source": [
    "a = np.arange(6).reshape(2,3)\n",
    "b = np.arange(6,12).reshape(2,3)\n",
    "a,b"
   ]
  },
  {
   "cell_type": "code",
   "execution_count": 200,
   "metadata": {},
   "outputs": [
    {
     "data": {
      "text/plain": [
       "((2, 3), (2, 9), array([[ 0,  1,  2,  6,  7,  8,  0,  1,  2],\n",
       "        [ 3,  4,  5,  9, 10, 11,  3,  4,  5]]))"
      ]
     },
     "execution_count": 200,
     "metadata": {},
     "output_type": "execute_result"
    }
   ],
   "source": [
    "# 두 배열을 붙입니다. concatennate = concat\n",
    "c=np.concatenate((a,b,a),axis=1)\n",
    "a.shape, c.shape, c"
   ]
  },
  {
   "cell_type": "markdown",
   "metadata": {},
   "source": [
    "data0 = data1.csv\n",
    "data1 = data2.csv\n",
    "data = np.concatenate((data0,data1),axis=0)"
   ]
  },
  {
   "cell_type": "code",
   "execution_count": 207,
   "metadata": {},
   "outputs": [
    {
     "ename": "AttributeError",
     "evalue": "'tuple' object has no attribute 'c'",
     "output_type": "error",
     "traceback": [
      "\u001b[1;31m---------------------------------------------------------------------------\u001b[0m",
      "\u001b[1;31mAttributeError\u001b[0m                            Traceback (most recent call last)",
      "\u001b[1;32m<ipython-input-207-0543094d4c21>\u001b[0m in \u001b[0;36m<module>\u001b[1;34m\u001b[0m\n\u001b[0;32m      1\u001b[0m \u001b[1;31m#stack 쌓다\u001b[0m\u001b[1;33m\u001b[0m\u001b[1;33m\u001b[0m\u001b[1;33m\u001b[0m\u001b[0m\n\u001b[1;32m----> 2\u001b[1;33m \u001b[0ma\u001b[0m\u001b[1;33m.\u001b[0m\u001b[0mshape\u001b[0m\u001b[1;33m,\u001b[0m \u001b[0mb\u001b[0m\u001b[1;33m.\u001b[0m\u001b[0mshape\u001b[0m\u001b[1;33m.\u001b[0m \u001b[0mc\u001b[0m\u001b[1;33m.\u001b[0m\u001b[0mshape\u001b[0m\u001b[1;33m\u001b[0m\u001b[1;33m\u001b[0m\u001b[0m\n\u001b[0m",
      "\u001b[1;31mAttributeError\u001b[0m: 'tuple' object has no attribute 'c'"
     ]
    }
   ],
   "source": [
    "#stack 쌓다, 쌓으면 차원이 1증가합니다. \n",
    "a.shape, b.shape"
   ]
  },
  {
   "cell_type": "code",
   "execution_count": 213,
   "metadata": {},
   "outputs": [
    {
     "data": {
      "text/plain": [
       "(2, 4, 3)"
      ]
     },
     "execution_count": 213,
     "metadata": {},
     "output_type": "execute_result"
    }
   ],
   "source": [
    "c= np.stack((a,b,a,b), axis=1) #axis 를 지정한 곳에 배열들이 쌓이니다. \n",
    "#axis=0 (4,2,3)\n",
    "#axis=1 (2,4,3)\n",
    "#axis =2 (2,3,4)\n",
    "c.shape"
   ]
  },
  {
   "cell_type": "code",
   "execution_count": 217,
   "metadata": {},
   "outputs": [
    {
     "data": {
      "text/plain": [
       "array([[80, 70],\n",
       "       [90, 50],\n",
       "       [99, 60]])"
      ]
     },
     "execution_count": 217,
     "metadata": {},
     "output_type": "execute_result"
    }
   ],
   "source": [
    "kor=[80,90,99]\n",
    "eng=[70,50,60]\n",
    "score = np.stack((kor,eng),axis=1)\n",
    "score"
   ]
  },
  {
   "cell_type": "code",
   "execution_count": 222,
   "metadata": {},
   "outputs": [
    {
     "data": {
      "text/plain": [
       "(array([[20],\n",
       "        [30],\n",
       "        [40]]), array([[80, 70],\n",
       "        [90, 50],\n",
       "        [99, 60]]))"
      ]
     },
     "execution_count": 222,
     "metadata": {},
     "output_type": "execute_result"
    }
   ],
   "source": [
    "math=np.array([20,30,40]).reshape((3,1))\n",
    "\n",
    "\n",
    "math,score"
   ]
  },
  {
   "cell_type": "code",
   "execution_count": 239,
   "metadata": {},
   "outputs": [
    {
     "data": {
      "text/plain": [
       "array([[100,  90,  90]])"
      ]
     },
     "execution_count": 239,
     "metadata": {},
     "output_type": "execute_result"
    }
   ],
   "source": [
    "#4번째 학생의 국영수 점수가 추가되었습니다. \n",
    "#모든 데이터를 하나로 통합하세요\n",
    "score_4 = np.array([100,90,90]).reshape((1,3))\n",
    "score_4\n"
   ]
  },
  {
   "cell_type": "code",
   "execution_count": 241,
   "metadata": {},
   "outputs": [
    {
     "data": {
      "text/plain": [
       "array([[ 80,  70,  20],\n",
       "       [ 90,  50,  30],\n",
       "       [ 99,  60,  40],\n",
       "       [100,  90,  90]])"
      ]
     },
     "execution_count": 241,
     "metadata": {},
     "output_type": "execute_result"
    }
   ],
   "source": [
    "tmp = np.concatenate((score,math),axis=1)\n",
    "score_4tmp= np.concatenate((tmp,score_4),axis=0)# axis -1 은 마지막 차원을 가리킵니다. \n",
    "score_4tmp"
   ]
  },
  {
   "cell_type": "code",
   "execution_count": 260,
   "metadata": {},
   "outputs": [
    {
     "data": {
      "text/plain": [
       "93.33333333333333"
      ]
     },
     "execution_count": 260,
     "metadata": {},
     "output_type": "execute_result"
    }
   ],
   "source": [
    "#각 과목별 평균은?\n",
    "#시험을 가장 잘 본 학생의 평균 점수는?\n",
    "np.mean(score_4tmp,axis=0)\n",
    "\n",
    "#3과목 평균중 가장 높은점수는?\n",
    "np.max(np.mean(score_4tmp,axis=1))\n",
    "\n",
    "\n",
    "\n",
    "\n"
   ]
  },
  {
   "cell_type": "code",
   "execution_count": 262,
   "metadata": {},
   "outputs": [],
   "source": [
    "#np.save()#binary file in Numpy ''.npy\n",
    "#(%10.5f) '%.2f' 소수점 2번째 자리까지 %d 정수만\n",
    "np.savetxt('score_sample.txt',score, '%d') #text file.\n"
   ]
  },
  {
   "cell_type": "code",
   "execution_count": 267,
   "metadata": {},
   "outputs": [
    {
     "data": {
      "text/plain": [
       "array([[70., 80.],\n",
       "       [50., 90.],\n",
       "       [60., 99.]])"
      ]
     },
     "execution_count": 267,
     "metadata": {},
     "output_type": "execute_result"
    }
   ],
   "source": [
    "#read, open, load\n",
    "s = np.loadtxt('score_sample.txt')\n",
    "s[:,::-1] #시작부터 끝까지 거꾸로"
   ]
  },
  {
   "cell_type": "code",
   "execution_count": 269,
   "metadata": {},
   "outputs": [
    {
     "data": {
      "text/plain": [
       "array([[80.],\n",
       "       [90.],\n",
       "       [99.]])"
      ]
     },
     "execution_count": 269,
     "metadata": {},
     "output_type": "execute_result"
    }
   ],
   "source": [
    "s[:,::2]"
   ]
  },
  {
   "cell_type": "code",
   "execution_count": 273,
   "metadata": {},
   "outputs": [
    {
     "data": {
      "text/plain": [
       "array([0, 1, 2, 3, 4, 5, 6, 7, 8, 9])"
      ]
     },
     "execution_count": 273,
     "metadata": {},
     "output_type": "execute_result"
    }
   ],
   "source": [
    "a=np.arange(10)\n",
    "a\n"
   ]
  },
  {
   "cell_type": "code",
   "execution_count": 275,
   "metadata": {},
   "outputs": [
    {
     "data": {
      "text/plain": [
       "(array([0, 2, 4, 6, 8]), array([1, 3, 5, 7, 9]), array([2, 4]))"
      ]
     },
     "execution_count": 275,
     "metadata": {},
     "output_type": "execute_result"
    }
   ],
   "source": [
    "#시작부터 끝까지 2칸씩 뛰면서 = 짝수\n",
    "#1번째 요소부터 끝까지 2칸씩 뛰면서 =홀수\n",
    "#2번째 요소부터 6번째 요소까지 2칸씩 뛰면서\n",
    "#[시작:끝:간격] 생략하면 시작=0, 끝=끝, 간격=1\n",
    "a[::2], a[1::2], a[2:6:2]"
   ]
  },
  {
   "cell_type": "code",
   "execution_count": 277,
   "metadata": {},
   "outputs": [
    {
     "data": {
      "text/plain": [
       "[array([0, 1, 2]), array([3, 4, 5]), array([6, 7, 8, 9])]"
      ]
     },
     "execution_count": 277,
     "metadata": {},
     "output_type": "execute_result"
    }
   ],
   "source": [
    "#분리하기\n",
    "np.split(a, [3,6]) #3,6 위치를 잘라라"
   ]
  },
  {
   "cell_type": "code",
   "execution_count": 279,
   "metadata": {},
   "outputs": [
    {
     "data": {
      "text/plain": [
       "[array([0, 1]), array([2, 3]), array([4, 5]), array([6, 7]), array([8, 9])]"
      ]
     },
     "execution_count": 279,
     "metadata": {},
     "output_type": "execute_result"
    }
   ],
   "source": [
    "#분리하기 section 갯수\n",
    "#머신러닝에서 데이터 셋을 k개 분리해서 k-fold validation set 을 만듭니다. \n",
    "#k= 3 이라면, 데이터를 3개로 분리해서 2개 셋은 학습, 1개 셋은 테스트로 사용\n",
    "'''\n",
    "3-fold validation set|\n",
    "ABC\n",
    "학습 : AB 테스트 : C\n",
    "학습 : BC 테스트 : A\n",
    "학습 : AC 테스트 : B\n",
    "'''\n",
    "\n",
    "np.split(a,5)"
   ]
  },
  {
   "cell_type": "markdown",
   "metadata": {},
   "source": [
    "##### 브로드 캐스팅\n",
    "배열의 모양이 서로 다를 때 연산이 가능하게 해주는 기능"
   ]
  },
  {
   "cell_type": "code",
   "execution_count": 282,
   "metadata": {},
   "outputs": [
    {
     "data": {
      "text/plain": [
       "array([ 0,  2,  4,  6,  8, 10, 12, 14, 16, 18])"
      ]
     },
     "execution_count": 282,
     "metadata": {},
     "output_type": "execute_result"
    }
   ],
   "source": [
    "a *2 #브로드 캐스팅이 적용 되어서 연산 가능"
   ]
  },
  {
   "cell_type": "code",
   "execution_count": 286,
   "metadata": {},
   "outputs": [
    {
     "data": {
      "text/plain": [
       "(array([[ 0,  0,  0],\n",
       "        [10, 10, 10],\n",
       "        [20, 20, 20],\n",
       "        [30, 30, 30]]), array([0, 1, 2]))"
      ]
     },
     "execution_count": 286,
     "metadata": {},
     "output_type": "execute_result"
    }
   ],
   "source": [
    "a = np.array([0,10,20,30])\n",
    "a = np.stack((a,a,a),1)\n",
    "b= np.array([0,1,2])\n",
    "a, b"
   ]
  },
  {
   "cell_type": "code",
   "execution_count": 290,
   "metadata": {},
   "outputs": [
    {
     "data": {
      "text/plain": [
       "array([[ 0,  1,  2],\n",
       "       [10, 11, 12],\n",
       "       [20, 21, 22],\n",
       "       [30, 31, 32]])"
      ]
     },
     "execution_count": 290,
     "metadata": {},
     "output_type": "execute_result"
    }
   ],
   "source": [
    "a + b # 브로드 캐스팅"
   ]
  },
  {
   "cell_type": "code",
   "execution_count": 295,
   "metadata": {},
   "outputs": [
    {
     "data": {
      "text/plain": [
       "array([[ 0,  1,  2],\n",
       "       [10, 11, 12],\n",
       "       [20, 21, 22],\n",
       "       [30, 31, 32]])"
      ]
     },
     "execution_count": 295,
     "metadata": {},
     "output_type": "execute_result"
    }
   ],
   "source": [
    "c = np.array([0,10,20,30]).reshape(-1,1)\n",
    "d = np.array([0,1,2])\n",
    "c +d #브로드캐스팅\n",
    "\n",
    "\n"
   ]
  },
  {
   "cell_type": "code",
   "execution_count": 301,
   "metadata": {},
   "outputs": [
    {
     "data": {
      "text/plain": [
       "array([False, False, False,  True,  True,  True,  True,  True,  True,\n",
       "        True])"
      ]
     },
     "execution_count": 301,
     "metadata": {},
     "output_type": "execute_result"
    }
   ],
   "source": [
    "a= np.arange(10)\n",
    "a\n",
    "a>5\n",
    "a>a\n",
    "mask = a>2\n",
    "mask"
   ]
  },
  {
   "cell_type": "code",
   "execution_count": 303,
   "metadata": {},
   "outputs": [
    {
     "data": {
      "text/plain": [
       "array([3, 4, 5, 6, 7, 8, 9])"
      ]
     },
     "execution_count": 303,
     "metadata": {},
     "output_type": "execute_result"
    }
   ],
   "source": [
    "#True 인 값만 선택됩니다. boolean mask를 이용한 indexing\n",
    "a[mask]\n"
   ]
  },
  {
   "cell_type": "code",
   "execution_count": 308,
   "metadata": {},
   "outputs": [
    {
     "data": {
      "text/plain": [
       "array([False, False, False,  True,  True,  True,  True,  True,  True,\n",
       "        True])"
      ]
     },
     "execution_count": 308,
     "metadata": {},
     "output_type": "execute_result"
    }
   ],
   "source": [
    "not True, not False\n",
    "np.logical_not(mask)\n",
    "np.logical_and(mask,mask)"
   ]
  },
  {
   "cell_type": "code",
   "execution_count": 316,
   "metadata": {},
   "outputs": [
    {
     "data": {
      "text/plain": [
       "array([3, 4, 5, 6, 7, 8, 9])"
      ]
     },
     "execution_count": 316,
     "metadata": {},
     "output_type": "execute_result"
    }
   ],
   "source": [
    "#짝수이면서 2보다 큰 값을 뽑으세요. logical_and, [mask]를 이용해서 \n",
    "mask0 = a%2 ==0\n",
    "mask1 = a>2\n",
    "np.logical_and(mask0,mask1)\n",
    "a[mask1]"
   ]
  },
  {
   "cell_type": "code",
   "execution_count": 320,
   "metadata": {},
   "outputs": [
    {
     "data": {
      "text/plain": [
       "array([9, 8, 7, 6, 5, 4, 3, 2, 1, 0])"
      ]
     },
     "execution_count": 320,
     "metadata": {},
     "output_type": "execute_result"
    }
   ],
   "source": [
    "#정렬\n",
    "np.sort(a)\n",
    "a[::-1]"
   ]
  },
  {
   "cell_type": "markdown",
   "metadata": {},
   "source": [
    "주식 데이터 2개를 받아서 concatenate로 붙이세요\n",
    "df = pandas.read_csv() 로 파일 읽고\n",
    "arr= np.array(df.[_].) 필요한 숫자 부분만\n",
    "arr = np.concatenate((arr0, arr1), axis=0)"
   ]
  },
  {
   "cell_type": "code",
   "execution_count": 355,
   "metadata": {},
   "outputs": [
    {
     "data": {
      "text/plain": [
       "((251, 7), (20, 7), (271, 6))"
      ]
     },
     "execution_count": 355,
     "metadata": {},
     "output_type": "execute_result"
    }
   ],
   "source": [
    "df17 = pandas.read_csv('1718.csv')\n",
    "df18 = pandas.read_csv('1819.csv')\n",
    "\n",
    "df1819 = np.array(df18)\n",
    "\n",
    "df1718 = np.array(df17)\n",
    "\n",
    "sum_df = np.concatenate((df1718, df1819),axis=0)\n",
    "sum_df = sum_df[:,1:]\n",
    "\n",
    "\n",
    "df1718.shape,df1819.shape, sum_df.shape\n"
   ]
  },
  {
   "cell_type": "markdown",
   "metadata": {},
   "source": [
    "- 각 컬럼의 평균값을 구합니다. \n",
    "- 가격 변동(close-open)이 가장 큰 때가 언제인지(날짜)를 알고 싶다. "
   ]
  },
  {
   "cell_type": "code",
   "execution_count": 404,
   "metadata": {},
   "outputs": [
    {
     "data": {
      "text/plain": [
       "(40.6301269999999, '2019-06-04')"
      ]
     },
     "execution_count": 404,
     "metadata": {},
     "output_type": "execute_result"
    }
   ],
   "source": [
    "np.mean(sum_df, axis=0).astype(np.int) #날짜 빼주세요\n",
    "Close = arr[:,4]\n",
    "Open = arr[:,1]\n",
    "high = arr[:,2]\n",
    "low = arr[:,3]\n",
    "Gap = np.abs(Close -Open) #절대값을 구하세요. 아니면 가격이 가장 많이 상승한 날이 조회됩니다. \n",
    "Gap\n",
    "index = np.argmax(Gap) #변동이 가장 큰 행번호\n",
    "np.max(Gap), arr[index,0] # 변동이 가장 큰 행의 날짜 정보"
   ]
  },
  {
   "cell_type": "markdown",
   "metadata": {},
   "source": [
    "4장 기본 그래프 그리기"
   ]
  },
  {
   "cell_type": "code",
   "execution_count": 364,
   "metadata": {},
   "outputs": [],
   "source": [
    "import matplotlib.pyplot as plt"
   ]
  },
  {
   "cell_type": "code",
   "execution_count": 367,
   "metadata": {},
   "outputs": [
    {
     "data": {
      "image/png": "[encoded data removed]",
      "text/plain": [
       "<Figure size 432x288 with 1 Axes>"
      ]
     },
     "metadata": {
      "needs_background": "light"
     },
     "output_type": "display_data"
    }
   ],
   "source": [
    "plt.plot([10,20,30,40]) #Y\n",
    "plt.show() # print  안해도 출력되듯이 show()하지 않아도 그려집니다 "
   ]
  },
  {
   "cell_type": "code",
   "execution_count": 395,
   "metadata": {},
   "outputs": [
    {
     "data": {
      "text/plain": [
       "Text(0.5, 1.0, 'Graph titile')"
      ]
     },
     "execution_count": 395,
     "metadata": {},
     "output_type": "execute_result"
    },
    {
     "data": {
      "image/png": "[encoded data removed]",
      "text/plain": [
       "<Figure size 432x288 with 1 Axes>"
      ]
     },
     "metadata": {
      "needs_background": "light"
     },
     "output_type": "display_data"
    }
   ],
   "source": [
    "# 한 셀에서 여러번 plot 하면 그래프가 겹쳐집니다. \n",
    "plt.plot([1,2,3,4],[12,43,25,15],'r.', label='A') #(X,Y) , 마커모양을 바꾸면점으로 표현\n",
    "plt.plot([1,2,3,4],[20,44,55,10],'g^',label='B',color='brown',linestyle=':')\n",
    "plt.plot([1,2,3,4],[55,42,70,1],label='C',linestyle='--')\n",
    "plt.legend(loc=3)# 범례 그려라\n",
    "plt.title('Graph titile')"
   ]
  },
  {
   "cell_type": "code",
   "execution_count": 407,
   "metadata": {},
   "outputs": [
    {
     "data": {
      "text/plain": [
       "Text(0.5, 1.0, 'Dowjones Graph')"
      ]
     },
     "execution_count": 407,
     "metadata": {},
     "output_type": "execute_result"
    },
    {
     "data": {
      "image/png": "[encoded data removed]",
      "text/plain": [
       "<Figure size 2880x720 with 1 Axes>"
      ]
     },
     "metadata": {
      "needs_background": "light"
     },
     "output_type": "display_data"
    }
   ],
   "source": [
    "\n",
    "plt.figure(figsize=(40,10)) #inch(with, height)\n",
    "plt.plot(Open,'r.', label='open')\n",
    "plt.plot(high,label='high')\n",
    "plt.plot(low, label='low')\n",
    "\n",
    "plt.plot(Close, label='close')\n",
    "plt.legend()\n",
    "plt.title('Dowjones Graph')\n"
   ]
  }
 ],
 "metadata": {
  "kernelspec": {
   "display_name": "Python 3",
   "language": "python",
   "name": "python3"
  },
  "language_info": {
   "codemirror_mode": {
    "name": "ipython",
    "version": 3
   },
   "file_extension": ".py",
   "mimetype": "text/x-python",
   "name": "python",
   "nbconvert_exporter": "python",
   "pygments_lexer": "ipython3",
   "version": "3.7.3"
  }
 },
 "nbformat": 4,
 "nbformat_minor": 2
}
