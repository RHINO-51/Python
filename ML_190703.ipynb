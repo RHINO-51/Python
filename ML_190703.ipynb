{
 "cells": [
  {
   "cell_type": "markdown",
   "metadata": {},
   "source": [
    "5. 삼성전자 주식 다음달 가격 얼마일까?(회귀)\n",
    "6. 비트코인 다음달 어떻게 될까?(회귀)\n",
    "7. 전날 비트코인 상승하면 다음날 주가와의 상관관계(Correlation)"
   ]
  },
  {
   "cell_type": "markdown",
   "metadata": {},
   "source": [
    "1. 목표\n",
    " 1. Y : 미래 30일의 국내 특정주식, 비트코인의 종가 \n",
    " 1. X : 최근 60일간의 데이터\n",
    "   1. step : 하루 간격\n",
    "   1. 양 : 1년(2018년 6월  ~ 2019년 6월)\n",
    "1. 데이터 획득\n",
    "   1. 국내 기업 1개, 비트코인\n",
    "1. 데이터 정제\n",
    "   1. 누락\n",
    "1. 데이터 전처리\n",
    "   1. 특수기호, 문자 > 수치 변환\n",
    "   1. 두 데이터 날짜 기준으로 통합(axis=1)\n",
    "     1. 외국(2018-01-01), 국내(2018.1.1.)(18.1.1)\n",
    "     1. 날짜 포맷을 (yyyy-mm-dd)으로 변환 후 통합\n",
    "1. 비트코인 가격 변화와 주가와의 상관관계 \n",
    "   1. cov()\n",
    "1. 입력 X/ 출력 Y 분리\n",
    "   1. m개의 x,y 쌍\n",
    "   1. x(m, 60, 10-15(국내증시컬럼 + 비트코인컬럼)) > reshape > (m, 60*15)\n",
    "   1. y(m, 30, 2) > (m, 30*2)\n",
    "1. 학습용/검증용(test)분리 \n",
    "   1. 섞으면 안되므로 직접 분리\n",
    "   1. 가장 과거의 데이터 10%를 검증용으로 사용\n",
    "1. 모델 선정\n",
    "   1. Ridge 모델. 학습용 데이터로 학습\n",
    "   1. 성능 측정\n",
    "1. 그래프로 시각화\n",
    "   1. 과거\n",
    "   1. 미래의 예측 predict(x(1,60*15) ) > return > y_hat(1,30*2)\n",
    "      1. 미래 예측(1, 30 *2) > (30,2) > 국내(30), 비트코인(30) > 그래프로 그리기\n",
    "      "
   ]
  },
  {
   "cell_type": "markdown",
   "metadata": {},
   "source": [
    "국내 기업 데이터 획득"
   ]
  },
  {
   "cell_type": "code",
   "execution_count": 1,
   "metadata": {},
   "outputs": [],
   "source": [
    "import numpy as np\n",
    "import pandas as pd\n",
    "import matplotlib.pyplot as plt"
   ]
  },
  {
   "cell_type": "code",
   "execution_count": 11,
   "metadata": {},
   "outputs": [],
   "source": [
    "samsung_url = 'https://finance.naver.com/item/sise_day.nhn?code=005930'"
   ]
  },
  {
   "cell_type": "code",
   "execution_count": 15,
   "metadata": {},
   "outputs": [
    {
     "data": {
      "text/plain": [
       "(15, 7)"
      ]
     },
     "execution_count": 15,
     "metadata": {},
     "output_type": "execute_result"
    }
   ],
   "source": [
    "tables = pd.read_html(samsung_url+'&page='+str(1))\n",
    "len(tables)\n",
    "samsung = tables[0]\n",
    "samsung.shape"
   ]
  },
  {
   "cell_type": "code",
   "execution_count": 30,
   "metadata": {},
   "outputs": [
    {
     "data": {
      "text/plain": [
       "27"
      ]
     },
     "execution_count": 30,
     "metadata": {},
     "output_type": "execute_result"
    }
   ],
   "source": [
    "samsungs =[]\n",
    "\n",
    "for i in range(1, 28):\n",
    "    tables = pd.read_html(samsung_url+'&page='+str(i))\n",
    "    samsung = tables[0]\n",
    "    samsungs.append(samsung)\n",
    "len(samsungs)"
   ]
  },
  {
   "cell_type": "code",
   "execution_count": 31,
   "metadata": {},
   "outputs": [
    {
     "data": {
      "text/plain": [
       "((405, 6),                  종가     전일비       시가       고가       저가         거래량\n",
       " 날짜                                                                \n",
       " NaN             NaN     NaN      NaN      NaN      NaN         NaN\n",
       " 2019.07.03  45750.0   500.0  45750.0  46350.0  45600.0   3560549.0\n",
       " 2019.07.02  46250.0   350.0  46200.0  46900.0  45850.0   8463073.0\n",
       " 2019.07.01  46600.0   400.0  47350.0  47400.0  46250.0  11383522.0\n",
       " 2019.06.28  47000.0   500.0  47000.0  47000.0  46700.0  12949231.0\n",
       " 2019.06.27  46500.0   800.0  46000.0  46600.0  45750.0  12603534.0\n",
       " NaN             NaN     NaN      NaN      NaN      NaN         NaN\n",
       " NaN             NaN     NaN      NaN      NaN      NaN         NaN\n",
       " NaN             NaN     NaN      NaN      NaN      NaN         NaN\n",
       " 2019.06.26  45700.0   100.0  45800.0  46000.0  45600.0   9226097.0\n",
       " 2019.06.25  45600.0   100.0  45200.0  45800.0  45200.0   7076774.0\n",
       " 2019.06.24  45500.0   200.0  45200.0  45800.0  45200.0   6085066.0\n",
       " 2019.06.21  45700.0   200.0  45750.0  45800.0  45200.0   9454913.0\n",
       " 2019.06.20  45500.0   150.0  44850.0  45500.0  44850.0   7147785.0\n",
       " NaN             NaN     NaN      NaN      NaN      NaN         NaN\n",
       " NaN             NaN     NaN      NaN      NaN      NaN         NaN\n",
       " 2019.06.19  45350.0  1000.0  45450.0  45450.0  45000.0  10417690.0\n",
       " 2019.06.18  44350.0   450.0  43750.0  44500.0  43650.0   7994928.0\n",
       " 2019.06.17  43900.0   100.0  43750.0  44050.0  43400.0  11890424.0\n",
       " 2019.06.14  44000.0   250.0  43750.0  44150.0  43300.0   9322873.0\n",
       " 2019.06.13  43750.0   850.0  44200.0  44400.0  43400.0  16906541.0\n",
       " NaN             NaN     NaN      NaN      NaN      NaN         NaN\n",
       " NaN             NaN     NaN      NaN      NaN      NaN         NaN\n",
       " NaN             NaN     NaN      NaN      NaN      NaN         NaN\n",
       " 2019.06.12  44600.0   250.0  44800.0  45050.0  44300.0   8607439.0\n",
       " 2019.06.11  44850.0    50.0  44800.0  45000.0  44550.0   6664872.0\n",
       " 2019.06.10  44800.0   600.0  44300.0  44850.0  44050.0   8792182.0\n",
       " 2019.06.07  44200.0   300.0  43600.0  44350.0  43450.0  11683682.0\n",
       " 2019.06.05  43900.0   450.0  44050.0  44200.0  43700.0  12464135.0\n",
       " NaN             NaN     NaN      NaN      NaN      NaN         NaN\n",
       " ...             ...     ...      ...      ...      ...         ...\n",
       " NaN             NaN     NaN      NaN      NaN      NaN         NaN\n",
       " 2018.06.26  47000.0   350.0  45900.0  47300.0  45900.0  11223166.0\n",
       " 2018.06.25  46650.0   600.0  47050.0  47050.0  46150.0  10587711.0\n",
       " 2018.06.22  47250.0   200.0  47000.0  47250.0  46200.0  10298006.0\n",
       " 2018.06.21  47050.0    50.0  47900.0  47900.0  47050.0  10015541.0\n",
       " 2018.06.20  47000.0     0.0  47450.0  47600.0  46850.0  12959316.0\n",
       " NaN             NaN     NaN      NaN      NaN      NaN         NaN\n",
       " NaN             NaN     NaN      NaN      NaN      NaN         NaN\n",
       " NaN             NaN     NaN      NaN      NaN      NaN         NaN\n",
       " 2018.06.19  47000.0   400.0  47200.0  47350.0  46500.0  15217971.0\n",
       " 2018.06.18  46600.0  1050.0  47600.0  47650.0  46200.0  16661870.0\n",
       " 2018.06.15  47650.0   550.0  48500.0  48700.0  47650.0  17080892.0\n",
       " 2018.06.14  48200.0  1200.0  49000.0  49000.0  48200.0  20971729.0\n",
       " 2018.06.12  49400.0   500.0  49700.0  49800.0  49250.0  12110569.0\n",
       " NaN             NaN     NaN      NaN      NaN      NaN         NaN\n",
       " NaN             NaN     NaN      NaN      NaN      NaN         NaN\n",
       " 2018.06.11  49900.0   250.0  49750.0  50300.0  49350.0  10571312.0\n",
       " 2018.06.08  49650.0   950.0  50200.0  50400.0  49600.0  16951706.0\n",
       " 2018.06.07  50600.0   700.0  51800.0  51800.0  50500.0  13590016.0\n",
       " 2018.06.05  51300.0   200.0  51100.0  51400.0  50400.0   9144100.0\n",
       " 2018.06.04  51100.0   200.0  50800.0  51200.0  50700.0   9767171.0\n",
       " NaN             NaN     NaN      NaN      NaN      NaN         NaN\n",
       " NaN             NaN     NaN      NaN      NaN      NaN         NaN\n",
       " NaN             NaN     NaN      NaN      NaN      NaN         NaN\n",
       " 2018.06.01  51300.0   600.0  50500.0  51700.0  49950.0  13038499.0\n",
       " 2018.05.31  50700.0  1200.0  50400.0  50800.0  49850.0  63491109.0\n",
       " 2018.05.30  49500.0  1800.0  51300.0  51500.0  49100.0  20498098.0\n",
       " 2018.05.29  51300.0  1000.0  52200.0  52500.0  51300.0   8480437.0\n",
       " 2018.05.28  52300.0   400.0  52500.0  53000.0  52000.0   9787820.0\n",
       " NaN             NaN     NaN      NaN      NaN      NaN         NaN\n",
       " \n",
       " [405 rows x 6 columns])"
      ]
     },
     "execution_count": 31,
     "metadata": {},
     "output_type": "execute_result"
    }
   ],
   "source": [
    "samsung = pd.concat(samsungs)\n",
    "samsung = samsung.set_index('날짜')\n",
    "# samsung.dropna(axis=0 ,how('any'))\n",
    "samsung.shape, samsung"
   ]
  },
  {
   "cell_type": "code",
   "execution_count": 17,
   "metadata": {},
   "outputs": [
    {
     "data": {
      "text/html": [
       "<div>\n",
       "<style scoped>\n",
       "    .dataframe tbody tr th:only-of-type {\n",
       "        vertical-align: middle;\n",
       "    }\n",
       "\n",
       "    .dataframe tbody tr th {\n",
       "        vertical-align: top;\n",
       "    }\n",
       "\n",
       "    .dataframe thead th {\n",
       "        text-align: right;\n",
       "    }\n",
       "</style>\n",
       "<table border=\"1\" class=\"dataframe\">\n",
       "  <thead>\n",
       "    <tr style=\"text-align: right;\">\n",
       "      <th></th>\n",
       "      <th>종가</th>\n",
       "      <th>전일비</th>\n",
       "      <th>시가</th>\n",
       "      <th>고가</th>\n",
       "      <th>저가</th>\n",
       "      <th>거래량</th>\n",
       "    </tr>\n",
       "    <tr>\n",
       "      <th>날짜</th>\n",
       "      <th></th>\n",
       "      <th></th>\n",
       "      <th></th>\n",
       "      <th></th>\n",
       "      <th></th>\n",
       "      <th></th>\n",
       "    </tr>\n",
       "  </thead>\n",
       "  <tbody>\n",
       "    <tr>\n",
       "      <th>NaN</th>\n",
       "      <td>NaN</td>\n",
       "      <td>NaN</td>\n",
       "      <td>NaN</td>\n",
       "      <td>NaN</td>\n",
       "      <td>NaN</td>\n",
       "      <td>NaN</td>\n",
       "    </tr>\n",
       "    <tr>\n",
       "      <th>2019.07.03</th>\n",
       "      <td>45700.0</td>\n",
       "      <td>550.0</td>\n",
       "      <td>45750.0</td>\n",
       "      <td>46350.0</td>\n",
       "      <td>45600.0</td>\n",
       "      <td>3315682.0</td>\n",
       "    </tr>\n",
       "    <tr>\n",
       "      <th>2019.07.02</th>\n",
       "      <td>46250.0</td>\n",
       "      <td>350.0</td>\n",
       "      <td>46200.0</td>\n",
       "      <td>46900.0</td>\n",
       "      <td>45850.0</td>\n",
       "      <td>8463073.0</td>\n",
       "    </tr>\n",
       "    <tr>\n",
       "      <th>2019.07.01</th>\n",
       "      <td>46600.0</td>\n",
       "      <td>400.0</td>\n",
       "      <td>47350.0</td>\n",
       "      <td>47400.0</td>\n",
       "      <td>46250.0</td>\n",
       "      <td>11383522.0</td>\n",
       "    </tr>\n",
       "    <tr>\n",
       "      <th>2019.06.28</th>\n",
       "      <td>47000.0</td>\n",
       "      <td>500.0</td>\n",
       "      <td>47000.0</td>\n",
       "      <td>47000.0</td>\n",
       "      <td>46700.0</td>\n",
       "      <td>12949231.0</td>\n",
       "    </tr>\n",
       "    <tr>\n",
       "      <th>2019.06.27</th>\n",
       "      <td>46500.0</td>\n",
       "      <td>800.0</td>\n",
       "      <td>46000.0</td>\n",
       "      <td>46600.0</td>\n",
       "      <td>45750.0</td>\n",
       "      <td>12603534.0</td>\n",
       "    </tr>\n",
       "    <tr>\n",
       "      <th>NaN</th>\n",
       "      <td>NaN</td>\n",
       "      <td>NaN</td>\n",
       "      <td>NaN</td>\n",
       "      <td>NaN</td>\n",
       "      <td>NaN</td>\n",
       "      <td>NaN</td>\n",
       "    </tr>\n",
       "    <tr>\n",
       "      <th>NaN</th>\n",
       "      <td>NaN</td>\n",
       "      <td>NaN</td>\n",
       "      <td>NaN</td>\n",
       "      <td>NaN</td>\n",
       "      <td>NaN</td>\n",
       "      <td>NaN</td>\n",
       "    </tr>\n",
       "    <tr>\n",
       "      <th>NaN</th>\n",
       "      <td>NaN</td>\n",
       "      <td>NaN</td>\n",
       "      <td>NaN</td>\n",
       "      <td>NaN</td>\n",
       "      <td>NaN</td>\n",
       "      <td>NaN</td>\n",
       "    </tr>\n",
       "    <tr>\n",
       "      <th>2019.06.26</th>\n",
       "      <td>45700.0</td>\n",
       "      <td>100.0</td>\n",
       "      <td>45800.0</td>\n",
       "      <td>46000.0</td>\n",
       "      <td>45600.0</td>\n",
       "      <td>9226097.0</td>\n",
       "    </tr>\n",
       "    <tr>\n",
       "      <th>2019.06.25</th>\n",
       "      <td>45600.0</td>\n",
       "      <td>100.0</td>\n",
       "      <td>45200.0</td>\n",
       "      <td>45800.0</td>\n",
       "      <td>45200.0</td>\n",
       "      <td>7076774.0</td>\n",
       "    </tr>\n",
       "    <tr>\n",
       "      <th>2019.06.24</th>\n",
       "      <td>45500.0</td>\n",
       "      <td>200.0</td>\n",
       "      <td>45200.0</td>\n",
       "      <td>45800.0</td>\n",
       "      <td>45200.0</td>\n",
       "      <td>6085066.0</td>\n",
       "    </tr>\n",
       "    <tr>\n",
       "      <th>2019.06.21</th>\n",
       "      <td>45700.0</td>\n",
       "      <td>200.0</td>\n",
       "      <td>45750.0</td>\n",
       "      <td>45800.0</td>\n",
       "      <td>45200.0</td>\n",
       "      <td>9454913.0</td>\n",
       "    </tr>\n",
       "    <tr>\n",
       "      <th>2019.06.20</th>\n",
       "      <td>45500.0</td>\n",
       "      <td>150.0</td>\n",
       "      <td>44850.0</td>\n",
       "      <td>45500.0</td>\n",
       "      <td>44850.0</td>\n",
       "      <td>7147785.0</td>\n",
       "    </tr>\n",
       "    <tr>\n",
       "      <th>NaN</th>\n",
       "      <td>NaN</td>\n",
       "      <td>NaN</td>\n",
       "      <td>NaN</td>\n",
       "      <td>NaN</td>\n",
       "      <td>NaN</td>\n",
       "      <td>NaN</td>\n",
       "    </tr>\n",
       "  </tbody>\n",
       "</table>\n",
       "</div>"
      ],
      "text/plain": [
       "                 종가    전일비       시가       고가       저가         거래량\n",
       "날짜                                                               \n",
       "NaN             NaN    NaN      NaN      NaN      NaN         NaN\n",
       "2019.07.03  45700.0  550.0  45750.0  46350.0  45600.0   3315682.0\n",
       "2019.07.02  46250.0  350.0  46200.0  46900.0  45850.0   8463073.0\n",
       "2019.07.01  46600.0  400.0  47350.0  47400.0  46250.0  11383522.0\n",
       "2019.06.28  47000.0  500.0  47000.0  47000.0  46700.0  12949231.0\n",
       "2019.06.27  46500.0  800.0  46000.0  46600.0  45750.0  12603534.0\n",
       "NaN             NaN    NaN      NaN      NaN      NaN         NaN\n",
       "NaN             NaN    NaN      NaN      NaN      NaN         NaN\n",
       "NaN             NaN    NaN      NaN      NaN      NaN         NaN\n",
       "2019.06.26  45700.0  100.0  45800.0  46000.0  45600.0   9226097.0\n",
       "2019.06.25  45600.0  100.0  45200.0  45800.0  45200.0   7076774.0\n",
       "2019.06.24  45500.0  200.0  45200.0  45800.0  45200.0   6085066.0\n",
       "2019.06.21  45700.0  200.0  45750.0  45800.0  45200.0   9454913.0\n",
       "2019.06.20  45500.0  150.0  44850.0  45500.0  44850.0   7147785.0\n",
       "NaN             NaN    NaN      NaN      NaN      NaN         NaN"
      ]
     },
     "execution_count": 17,
     "metadata": {},
     "output_type": "execute_result"
    }
   ],
   "source": [
    "samsung = samsung.set_index('날짜')\n",
    "samsung"
   ]
  },
  {
   "cell_type": "code",
   "execution_count": 33,
   "metadata": {},
   "outputs": [],
   "source": [
    "bitcoin_url = 'https://coinmarketcap.com/currencies/bitcoin/historical-data/?start=20180601&end=20190601'\n",
    "bit_tables = pd.read_html(bitcoin_url)"
   ]
  },
  {
   "cell_type": "code",
   "execution_count": 40,
   "metadata": {},
   "outputs": [
    {
     "data": {
      "text/plain": [
       "2"
      ]
     },
     "execution_count": 40,
     "metadata": {},
     "output_type": "execute_result"
    }
   ],
   "source": [
    "len(bit_tables)"
   ]
  },
  {
   "cell_type": "code",
   "execution_count": 38,
   "metadata": {},
   "outputs": [],
   "source": [
    "bitcoin = bit_tables[0]\n",
    "bitcoin = bitcoin.set_index('Date')"
   ]
  },
  {
   "cell_type": "code",
   "execution_count": 51,
   "metadata": {},
   "outputs": [],
   "source": [
    "#인덱스 타입이 object\n",
    "bitcoin.index = pd.to_datetime(bitcoin.index) #비트코인의 인덱스를 날짜로 바꾸기\n",
    "samsung.index = pd.to_datetime(samsung.index)"
   ]
  },
  {
   "cell_type": "markdown",
   "metadata": {},
   "source": [
    "데이터 통합"
   ]
  },
  {
   "cell_type": "code",
   "execution_count": 57,
   "metadata": {},
   "outputs": [],
   "source": [
    "df = pd.concat((samsung,bitcoin), axis=1).dropna()"
   ]
  },
  {
   "cell_type": "code",
   "execution_count": 61,
   "metadata": {},
   "outputs": [
    {
     "data": {
      "text/html": [
       "<div>\n",
       "<style scoped>\n",
       "    .dataframe tbody tr th:only-of-type {\n",
       "        vertical-align: middle;\n",
       "    }\n",
       "\n",
       "    .dataframe tbody tr th {\n",
       "        vertical-align: top;\n",
       "    }\n",
       "\n",
       "    .dataframe thead th {\n",
       "        text-align: right;\n",
       "    }\n",
       "</style>\n",
       "<table border=\"1\" class=\"dataframe\">\n",
       "  <thead>\n",
       "    <tr style=\"text-align: right;\">\n",
       "      <th></th>\n",
       "      <th>종가</th>\n",
       "      <th>전일비</th>\n",
       "      <th>시가</th>\n",
       "      <th>고가</th>\n",
       "      <th>저가</th>\n",
       "      <th>거래량</th>\n",
       "      <th>Open*</th>\n",
       "      <th>High</th>\n",
       "      <th>Low</th>\n",
       "      <th>Close**</th>\n",
       "      <th>Volume</th>\n",
       "      <th>Market Cap</th>\n",
       "    </tr>\n",
       "  </thead>\n",
       "  <tbody>\n",
       "    <tr>\n",
       "      <th>count</th>\n",
       "      <td>244.000000</td>\n",
       "      <td>244.000000</td>\n",
       "      <td>244.000000</td>\n",
       "      <td>244.000000</td>\n",
       "      <td>244.000000</td>\n",
       "      <td>2.440000e+02</td>\n",
       "      <td>244.000000</td>\n",
       "      <td>244.000000</td>\n",
       "      <td>244.000000</td>\n",
       "      <td>244.000000</td>\n",
       "      <td>2.440000e+02</td>\n",
       "      <td>2.440000e+02</td>\n",
       "    </tr>\n",
       "    <tr>\n",
       "      <th>mean</th>\n",
       "      <td>44541.393443</td>\n",
       "      <td>524.590164</td>\n",
       "      <td>44541.393443</td>\n",
       "      <td>44982.786885</td>\n",
       "      <td>44080.122951</td>\n",
       "      <td>1.127346e+07</td>\n",
       "      <td>5598.614672</td>\n",
       "      <td>5708.022869</td>\n",
       "      <td>5487.953197</td>\n",
       "      <td>5597.538361</td>\n",
       "      <td>8.087400e+09</td>\n",
       "      <td>9.730654e+10</td>\n",
       "    </tr>\n",
       "    <tr>\n",
       "      <th>std</th>\n",
       "      <td>2616.501077</td>\n",
       "      <td>445.496251</td>\n",
       "      <td>2663.568359</td>\n",
       "      <td>2616.332608</td>\n",
       "      <td>2605.084532</td>\n",
       "      <td>3.923683e+06</td>\n",
       "      <td>1514.608753</td>\n",
       "      <td>1542.730010</td>\n",
       "      <td>1476.931675</td>\n",
       "      <td>1512.541132</td>\n",
       "      <td>6.225952e+09</td>\n",
       "      <td>2.597773e+10</td>\n",
       "    </tr>\n",
       "    <tr>\n",
       "      <th>min</th>\n",
       "      <td>37450.000000</td>\n",
       "      <td>0.000000</td>\n",
       "      <td>37450.000000</td>\n",
       "      <td>37600.000000</td>\n",
       "      <td>36850.000000</td>\n",
       "      <td>4.762460e+06</td>\n",
       "      <td>3253.120000</td>\n",
       "      <td>3329.560000</td>\n",
       "      <td>3206.540000</td>\n",
       "      <td>3242.480000</td>\n",
       "      <td>3.230550e+09</td>\n",
       "      <td>5.649438e+10</td>\n",
       "    </tr>\n",
       "    <tr>\n",
       "      <th>25%</th>\n",
       "      <td>43012.500000</td>\n",
       "      <td>200.000000</td>\n",
       "      <td>43012.500000</td>\n",
       "      <td>43437.500000</td>\n",
       "      <td>42400.000000</td>\n",
       "      <td>8.298381e+06</td>\n",
       "      <td>3957.602500</td>\n",
       "      <td>4031.850000</td>\n",
       "      <td>3899.502500</td>\n",
       "      <td>3956.197500</td>\n",
       "      <td>4.324805e+09</td>\n",
       "      <td>6.936442e+10</td>\n",
       "    </tr>\n",
       "    <tr>\n",
       "      <th>50%</th>\n",
       "      <td>44975.000000</td>\n",
       "      <td>400.000000</td>\n",
       "      <td>44925.000000</td>\n",
       "      <td>45500.000000</td>\n",
       "      <td>44500.000000</td>\n",
       "      <td>1.079669e+07</td>\n",
       "      <td>6205.425000</td>\n",
       "      <td>6300.355000</td>\n",
       "      <td>6029.725000</td>\n",
       "      <td>6179.620000</td>\n",
       "      <td>5.304537e+09</td>\n",
       "      <td>1.064328e+11</td>\n",
       "    </tr>\n",
       "    <tr>\n",
       "      <th>75%</th>\n",
       "      <td>46362.500000</td>\n",
       "      <td>762.500000</td>\n",
       "      <td>46462.500000</td>\n",
       "      <td>46850.000000</td>\n",
       "      <td>46000.000000</td>\n",
       "      <td>1.305694e+07</td>\n",
       "      <td>6599.830000</td>\n",
       "      <td>6743.025000</td>\n",
       "      <td>6498.092500</td>\n",
       "      <td>6601.707500</td>\n",
       "      <td>9.347169e+09</td>\n",
       "      <td>1.140496e+11</td>\n",
       "    </tr>\n",
       "    <tr>\n",
       "      <th>max</th>\n",
       "      <td>51300.000000</td>\n",
       "      <td>2200.000000</td>\n",
       "      <td>51800.000000</td>\n",
       "      <td>51800.000000</td>\n",
       "      <td>50700.000000</td>\n",
       "      <td>2.625465e+07</td>\n",
       "      <td>8802.760000</td>\n",
       "      <td>9008.310000</td>\n",
       "      <td>8668.700000</td>\n",
       "      <td>8805.780000</td>\n",
       "      <td>3.316720e+10</td>\n",
       "      <td>1.560938e+11</td>\n",
       "    </tr>\n",
       "  </tbody>\n",
       "</table>\n",
       "</div>"
      ],
      "text/plain": [
       "                 종가          전일비            시가            고가            저가  \\\n",
       "count    244.000000   244.000000    244.000000    244.000000    244.000000   \n",
       "mean   44541.393443   524.590164  44541.393443  44982.786885  44080.122951   \n",
       "std     2616.501077   445.496251   2663.568359   2616.332608   2605.084532   \n",
       "min    37450.000000     0.000000  37450.000000  37600.000000  36850.000000   \n",
       "25%    43012.500000   200.000000  43012.500000  43437.500000  42400.000000   \n",
       "50%    44975.000000   400.000000  44925.000000  45500.000000  44500.000000   \n",
       "75%    46362.500000   762.500000  46462.500000  46850.000000  46000.000000   \n",
       "max    51300.000000  2200.000000  51800.000000  51800.000000  50700.000000   \n",
       "\n",
       "                거래량        Open*         High          Low      Close**  \\\n",
       "count  2.440000e+02   244.000000   244.000000   244.000000   244.000000   \n",
       "mean   1.127346e+07  5598.614672  5708.022869  5487.953197  5597.538361   \n",
       "std    3.923683e+06  1514.608753  1542.730010  1476.931675  1512.541132   \n",
       "min    4.762460e+06  3253.120000  3329.560000  3206.540000  3242.480000   \n",
       "25%    8.298381e+06  3957.602500  4031.850000  3899.502500  3956.197500   \n",
       "50%    1.079669e+07  6205.425000  6300.355000  6029.725000  6179.620000   \n",
       "75%    1.305694e+07  6599.830000  6743.025000  6498.092500  6601.707500   \n",
       "max    2.625465e+07  8802.760000  9008.310000  8668.700000  8805.780000   \n",
       "\n",
       "             Volume    Market Cap  \n",
       "count  2.440000e+02  2.440000e+02  \n",
       "mean   8.087400e+09  9.730654e+10  \n",
       "std    6.225952e+09  2.597773e+10  \n",
       "min    3.230550e+09  5.649438e+10  \n",
       "25%    4.324805e+09  6.936442e+10  \n",
       "50%    5.304537e+09  1.064328e+11  \n",
       "75%    9.347169e+09  1.140496e+11  \n",
       "max    3.316720e+10  1.560938e+11  "
      ]
     },
     "execution_count": 61,
     "metadata": {},
     "output_type": "execute_result"
    }
   ],
   "source": [
    "df.describe()"
   ]
  },
  {
   "cell_type": "markdown",
   "metadata": {},
   "source": [
    "전날 비트 코인 상승하면 다음날 주가와의 상관관계(correlation)"
   ]
  },
  {
   "cell_type": "code",
   "execution_count": 65,
   "metadata": {},
   "outputs": [],
   "source": [
    "비트코인변화 = df['Open*'] - df['Close**']\n",
    "주가변화 = df['시가'] - df['종가']\n",
    "과거비트코인변화 = 비트코인변화.iloc[:-1]\n",
    "다음날주가변화 = 주가변화.iloc[1:]\n"
   ]
  },
  {
   "cell_type": "code",
   "execution_count": 69,
   "metadata": {},
   "outputs": [
    {
     "data": {
      "text/plain": [
       "array([[ 1.        , -0.07316871],\n",
       "       [-0.07316871,  1.        ]])"
      ]
     },
     "execution_count": 69,
     "metadata": {},
     "output_type": "execute_result"
    }
   ],
   "source": [
    "np.corrcoef(과거비트코인변화, 다음날주가변화) # 상관계수가 0에 가까우므로 둘은 상관관계가 거의 없습니다. \n",
    "plt.scatter(과거비트코인변화, 다음날주가변화)"
   ]
  },
  {
   "cell_type": "code",
   "execution_count": 71,
   "metadata": {},
   "outputs": [
    {
     "data": {
      "text/plain": [
       "(244, 155)"
      ]
     },
     "execution_count": 71,
     "metadata": {},
     "output_type": "execute_result"
    }
   ],
   "source": [
    "\n",
    "input_seq = 60\n",
    "output_seq = 30\n",
    "m = len(df) - (input_seq + output_seq) +1\n",
    "len(df), m"
   ]
  },
  {
   "cell_type": "code",
   "execution_count": 75,
   "metadata": {},
   "outputs": [],
   "source": [
    "x_list = []\n",
    "y_list = []\n",
    "for i in range(m):\n",
    "    x = df.iloc[i:i+input_seq]\n",
    "    y = df.iloc[i+input_seq:i + input_seq+output_seq][['종가','Close**']]\n",
    "    x_list.append(x)\n",
    "    y_list.append(y)\n",
    "    #print(x.shape, y.shape)\n"
   ]
  },
  {
   "cell_type": "code",
   "execution_count": 93,
   "metadata": {},
   "outputs": [
    {
     "data": {
      "text/plain": [
       "((155, 60, 12), (155, 30, 2))"
      ]
     },
     "execution_count": 93,
     "metadata": {},
     "output_type": "execute_result"
    }
   ],
   "source": [
    "len(x_list), type(x_list) #(155,60,12)\n",
    "#numpy array 로 변환\n",
    "m =len(x_3d)\n",
    "x_2d = np.reshape(x_3d,[m,-1])\n",
    "y_2d = np.reshape(y_3d, [m,-1])\n",
    "\n",
    "x_3d = np.stack(x_list, axis=0)\n",
    "y_3d = np.stack(y_list, axis=0)\n",
    "x_3d.shape, y_3d.shape"
   ]
  },
  {
   "cell_type": "code",
   "execution_count": 84,
   "metadata": {},
   "outputs": [
    {
     "data": {
      "text/plain": [
       "Index(['종가', '전일비', '시가', '고가', '저가', '거래량', 'Open*', 'High', 'Low', 'Close**',\n",
       "       'Volume', 'Market Cap'],\n",
       "      dtype='object')"
      ]
     },
     "execution_count": 84,
     "metadata": {},
     "output_type": "execute_result"
    }
   ],
   "source": [
    "df.columns"
   ]
  },
  {
   "cell_type": "markdown",
   "metadata": {},
   "source": [
    "train/test 분리\n",
    "- test 10%"
   ]
  },
  {
   "cell_type": "code",
   "execution_count": 88,
   "metadata": {},
   "outputs": [
    {
     "data": {
      "text/plain": [
       "15"
      ]
     },
     "execution_count": 88,
     "metadata": {},
     "output_type": "execute_result"
    }
   ],
   "source": [
    "test_ratio = 0.1\n",
    "test_m = int(len(x_3d)*test_ratio)\n",
    "test_m"
   ]
  },
  {
   "cell_type": "code",
   "execution_count": 94,
   "metadata": {},
   "outputs": [],
   "source": [
    "x_test = x_2d[:test_m]\n",
    "x_train = x_2d[test_m:]\n",
    "y_test = y_2d[:test_m]\n",
    "y_train = y_2d[test_m:]"
   ]
  },
  {
   "cell_type": "code",
   "execution_count": 117,
   "metadata": {},
   "outputs": [],
   "source": [
    "#model, Linea regression, 가중치를 작게 제약시킨다. > 모든 정보를 활용해서 예측\n",
    "from sklearn.linear_model import Ridge\n",
    "model = Ridge(normalize=True, solver='lsqr').fit(x_train, y_train) #2차원 이하만 가능"
   ]
  },
  {
   "cell_type": "code",
   "execution_count": 118,
   "metadata": {},
   "outputs": [
    {
     "data": {
      "text/plain": [
       "(0.9736899384676927, -11.805314083668307)"
      ]
     },
     "execution_count": 118,
     "metadata": {},
     "output_type": "execute_result"
    }
   ],
   "source": [
    "model.score(x_train, y_train), model.score(x_test, y_test)# 과적함 발생"
   ]
  },
  {
   "cell_type": "code",
   "execution_count": 119,
   "metadata": {},
   "outputs": [],
   "source": [
    "korea_close_index = 0\n",
    "bitcoin_close_index = 9"
   ]
  },
  {
   "cell_type": "code",
   "execution_count": 120,
   "metadata": {},
   "outputs": [
    {
     "data": {
      "text/plain": [
       "(1, 720)"
      ]
     },
     "execution_count": 120,
     "metadata": {},
     "output_type": "execute_result"
    }
   ],
   "source": [
    "#가장 최근데이터 \n",
    "recent = df.iloc[-input_seq:]\n",
    "recent.shape\n",
    "recent = np.reshape(np.array(recent), [1,-1])\n",
    "recent.shape"
   ]
  },
  {
   "cell_type": "code",
   "execution_count": 121,
   "metadata": {},
   "outputs": [
    {
     "data": {
      "text/plain": [
       "((30, 2), array([[48924.26230114,  7982.28310556],\n",
       "        [49040.61295094,  7940.94143005],\n",
       "        [48604.02398172,  7908.47361629],\n",
       "        [47807.81825774,  8035.79523344],\n",
       "        [47189.63438344,  8183.05529563],\n",
       "        [46524.10307846,  7873.52700351],\n",
       "        [46908.88020791,  7659.3197307 ],\n",
       "        [47798.37036834,  7362.49911165],\n",
       "        [48203.79476845,  7114.72327915],\n",
       "        [48830.43431439,  7140.48499864],\n",
       "        [48854.48850643,  7194.46831024],\n",
       "        [48398.83216242,  7164.48706904],\n",
       "        [48255.70096705,  7283.79902861],\n",
       "        [47392.31009506,  7382.26858071],\n",
       "        [46955.71694167,  7494.37778905],\n",
       "        [47128.04213411,  8431.95585969],\n",
       "        [46798.28392945,  9166.01252608],\n",
       "        [46348.52069804,  9760.22664049],\n",
       "        [45153.4258817 ,  9863.55193349],\n",
       "        [43716.82698978,  9605.58392954],\n",
       "        [42782.86163088,  9678.36968954],\n",
       "        [43134.3306429 ,  9687.64465096],\n",
       "        [43289.82546926,  9387.01212787],\n",
       "        [43421.01199763,  9150.24002065],\n",
       "        [42934.77094456,  8828.69896286],\n",
       "        [42327.37878118,  9034.1215014 ],\n",
       "        [42080.97327724,  9120.0054024 ],\n",
       "        [41249.97779384,  9092.47326233],\n",
       "        [40739.75370229,  8966.71041797],\n",
       "        [40072.15182824,  8910.94954901]]))"
      ]
     },
     "execution_count": 121,
     "metadata": {},
     "output_type": "execute_result"
    }
   ],
   "source": [
    "p = model.predict(recent)#미래예측\n",
    "p = np.reshape(p,[output_seq, -1])\n",
    "p.shape, p"
   ]
  },
  {
   "cell_type": "code",
   "execution_count": 122,
   "metadata": {},
   "outputs": [
    {
     "data": {
      "text/plain": [
       "<matplotlib.legend.Legend at 0x241dfc2ff60>"
      ]
     },
     "execution_count": 122,
     "metadata": {},
     "output_type": "execute_result"
    },
    {
     "data": {
      "image/png": "[encoded data removed]",
      "text/plain": [
       "<Figure size 432x288 with 1 Axes>"
      ]
     },
     "metadata": {
      "needs_background": "light"
     },
     "output_type": "display_data"
    }
   ],
   "source": [
    "xm = len(df)\n",
    "plt.plot(np.arange(xm), df['종가'].values)\n",
    "plt.plot(np.arange(xm),df['Close**'].values)\n",
    "plt.plot(np.arange(xm, xm+output_seq),p[:,0], label = 'samsung')\n",
    "plt.plot(np.arange(xm, xm+output_seq),p[:,1], label = 'sbitcoin')\n",
    "plt.legend()"
   ]
  },
  {
   "cell_type": "code",
   "execution_count": null,
   "metadata": {},
   "outputs": [],
   "source": []
  },
  {
   "cell_type": "code",
   "execution_count": null,
   "metadata": {},
   "outputs": [],
   "source": []
  }
 ],
 "metadata": {
  "kernelspec": {
   "display_name": "Python 3",
   "language": "python",
   "name": "python3"
  },
  "language_info": {
   "codemirror_mode": {
    "name": "ipython",
    "version": 3
   },
   "file_extension": ".py",
   "mimetype": "text/x-python",
   "name": "python",
   "nbconvert_exporter": "python",
   "pygments_lexer": "ipython3",
   "version": "3.7.3"
  }
 },
 "nbformat": 4,
 "nbformat_minor": 2
}
