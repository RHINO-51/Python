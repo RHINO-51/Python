{
 "cells": [
  {
   "cell_type": "markdown",
   "metadata": {},
   "source": [
    "markdown 셀은 코드가 아닌글을 쓰는 곳입니다. Run을 하면 디자인이 입혀짐"
   ]
  },
  {
   "cell_type": "markdown",
   "metadata": {},
   "source": [
    "## 제목 heading"
   ]
  },
  {
   "attachments": {},
   "cell_type": "markdown",
   "metadata": {},
   "source": [
    "<img src=\"a.png\" />"
   ]
  },
  {
   "cell_type": "code",
   "execution_count": 9,
   "metadata": {},
   "outputs": [],
   "source": [
    "a=[1,2,3,4,5]"
   ]
  },
  {
   "cell_type": "code",
   "execution_count": 12,
   "metadata": {},
   "outputs": [
    {
     "data": {
      "text/plain": [
       "[1, 2, 3, 4, 5]"
      ]
     },
     "execution_count": 12,
     "metadata": {},
     "output_type": "execute_result"
    }
   ],
   "source": [
    "a"
   ]
  },
  {
   "cell_type": "code",
   "execution_count": 15,
   "metadata": {},
   "outputs": [],
   "source": [
    "#.tab 함수 목록 및 자동완성\n",
    "a.append(6)\n",
    "#shift+tab 함수 설명"
   ]
  },
  {
   "cell_type": "code",
   "execution_count": 17,
   "metadata": {},
   "outputs": [],
   "source": [
    "# 객체정보 조회\n",
    "a?"
   ]
  },
  {
   "cell_type": "code",
   "execution_count": 19,
   "metadata": {},
   "outputs": [
    {
     "data": {
      "text/plain": [
       "(14, 16384)"
      ]
     },
     "execution_count": 19,
     "metadata": {},
     "output_type": "execute_result"
    }
   ],
   "source": [
    "# while 반복횟수를 미리 알 수 없을 때 사용.\n",
    "# 무한 반복이 되지 않도록 주의\n",
    "x =10000\n",
    "i = 1\n",
    "while(2**i < x ) : #True 면 실행\n",
    "    i+=1\n",
    "    \n",
    "i, 2**i"
   ]
  },
  {
   "cell_type": "code",
   "execution_count": 25,
   "metadata": {},
   "outputs": [
    {
     "data": {
      "text/plain": [
       "{'city': 'seoul', 'part': '개발부'}"
      ]
     },
     "execution_count": 25,
     "metadata": {},
     "output_type": "execute_result"
    }
   ],
   "source": [
    "#dictionary [키:값, 키:값,....]\n",
    "b={'age':20,'city':'seoul'}\n",
    "#키를 통해 값을 조회\n",
    "b['age']\n",
    "#키를 통해 값을 수정\n",
    "b['age'] += 10\n",
    "b['age']\n",
    "#키와 값을 추가\n",
    "b['part'] = '개발부'\n",
    "b\n",
    "#키를 통해 제거\n",
    "del b['age']\n",
    "b\n",
    "#2차원 표 데이터(panal)에서 컬럼명이 키이고 값들이 value 가 됩니다. \n",
    "#2차원 데이터 하나는 dictionary 로 저장됩니다. "
   ]
  },
  {
   "cell_type": "code",
   "execution_count": null,
   "metadata": {},
   "outputs": [],
   "source": []
  }
 ],
 "metadata": {
  "kernelspec": {
   "display_name": "Python 3",
   "language": "python",
   "name": "python3"
  },
  "language_info": {
   "codemirror_mode": {
    "name": "ipython",
    "version": 3
   },
   "file_extension": ".py",
   "mimetype": "text/x-python",
   "name": "python",
   "nbconvert_exporter": "python",
   "pygments_lexer": "ipython3",
   "version": "3.7.3"
  }
 },
 "nbformat": 4,
 "nbformat_minor": 2
}
